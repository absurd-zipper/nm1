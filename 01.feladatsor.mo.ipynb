{
 "cells": [
  {
   "cell_type": "markdown",
   "id": "0",
   "metadata": {},
   "source": [
    "# 1. Feladatsor: megoldások\n",
    "*(Normált tér, indukált mátrixnorma, kondíciószám, fixponttétel)*"
   ]
  },
  {
   "cell_type": "markdown",
   "id": "1",
   "metadata": {},
   "source": [
    "**Vektortér**\n",
    "\n",
    "   $V$ (k test feletti, végesdimenziós)\n",
    "  \n",
    "**Lineáris leképezések vektortere**\n",
    "\n",
    "   $L(V, W) \\cong V^* \\otimes W$\n",
    " \n",
    "**Duális tér**\n",
    "\n",
    "   $L(V, k) = V^*$\n",
    "\n",
    "**Bilineáris formák vektortere**\n",
    "\n",
    "  $\\operatorname{BL}(V \\times V, k) \\cong L(V \\otimes V, k) = (V \\otimes V)^* \\cong V^* \\otimes V^*$\n",
    "\n",
    "**Funkcionálok és deriváltjaik**\n",
    "\n",
    "Ha $f:V \\to k$ kétszer differenciálható, akkor\n",
    "\n",
    "- $f: V \\to k$\n",
    "\n",
    "- $f': V \\to L(V, k) = V^* $\n",
    "\n",
    "- $ f'': V \\to L(V, L(V, k)) \\cong V^* \\otimes V^* $"
   ]
  },
  {
   "cell_type": "markdown",
   "id": "2",
   "metadata": {},
   "source": [
    "**Metrika**\n",
    "\n",
    "A metrika egy $d: S \\times S \\to \\mathbb{R}$ leképezés, ami szimmetrikus, amire teljesül a háromszög-egyenlőtlenség, és ami pontosan akkor vesz fel nulla értéket, ha a két bemeneti paramétere egybeesik. Ezekből következik, hogy nemnegatív.\n",
    "\n",
    "**Norma**\n",
    "\n",
    "A félnorma egy szubadditív, (abszolút-)homogén, valós értékű funkcionál. Ezekből következik, hogy a nullát nullába képezi és nemnegatív. A norma egy olyan félnorma, ami csak a nullában vesz fel nullát.\n",
    "\n",
    "**(valós) Skalárszorzat**\n",
    "\n",
    "A valós félskalárszorzat egy szimmetrikus, pozitív-szemidefinit bilineáris forma. A skalárszorzat egy olyan (valós) félskalárszorzat, amihez tartozó kvadratikus alak csak a nullában vesz fel nullát."
   ]
  },
  {
   "cell_type": "markdown",
   "id": "3",
   "metadata": {},
   "source": [
    "**Topológia (mese 1/1)**\n",
    "\n",
    "Metrikus tér, normált tér, euklideszi tér. (valós) Skalárszorzat által indukált norma által indukált metrika által indukált topológia. Végesdimenzióban bármely két norma ekvivalens, tehát, például az, hogy egy sorozat konvergens-e nem függ a norma választásától.\n",
    "\n",
    "**Teljesség**\n",
    "\n",
    "Egy metrikus tér teljes, ha benne minden Cauchy-sorozat konvergens.\n",
    "\n",
    "**Topológia (mese 2/2)**\n",
    "\n",
    "Teljes metrikus tér, Banach-tér, Hilbert-tér."
   ]
  },
  {
   "cell_type": "markdown",
   "id": "4",
   "metadata": {},
   "source": [
    "**Operátornorma, indukált mátrixnorma**\n",
    "\n",
    "Ha $(V, \\| \\, \\|')$ és $(W, \\|\\, \\|'')$ normált terek, továbbá $A \\in L(V, W)$ esetén\n",
    "$$\n",
    "    \\|A\\| := \\sup_{x\\neq 0}\\frac{\\|Ax\\|''}{\\|x\\|'},\n",
    "$$\n",
    "akkor $(L(V, W), \\|\\, \\|)$ is normált tér. Ez utóbbi normát hívják operátornormának (a megfelelő mátrix esetén indukált mátrixnormának). Láthatóan függ a két normált téren található normától."
   ]
  },
  {
   "cell_type": "markdown",
   "id": "5",
   "metadata": {},
   "source": [
    "### 1. Feladat\n",
    "\n",
    "Gondoljuk meg, hogy\n",
    "$$\n",
    "    \\sup_{x\\neq 0}\\frac{\\|Ax\\|''}{\\|x\\|'} = \n",
    "    \\sup_{\\|x\\|' = 1} \\|Ax\\|'' =  \\sup\\limits_{\\|x\\|'\\leq 1} \\|Ax\\|''.\n",
    "$$"
   ]
  },
  {
   "cell_type": "code",
   "execution_count": null,
   "id": "6",
   "metadata": {},
   "outputs": [],
   "source": [
    "# definícióból"
   ]
  },
  {
   "cell_type": "markdown",
   "id": "7",
   "metadata": {},
   "source": [
    "### 2. Feladat\n",
    "Legyen $(V, \\|\\,\\|')$ normált tér. Jelöljük $\\|\\,\\|$-vel az $L(V, V)$ téren indukált operátornormát. Mutassuk meg, hogy ez utóbbi szubmultiplikatív, azaz $A, B \\in L(V,V)$ esetén\n",
    "$$\n",
    "\\| AB \\| \\leq \\| A \\| \\| B \\|.\n",
    "$$"
   ]
  },
  {
   "cell_type": "code",
   "execution_count": null,
   "id": "8",
   "metadata": {},
   "outputs": [],
   "source": [
    "# definícióból"
   ]
  },
  {
   "cell_type": "markdown",
   "id": "9",
   "metadata": {},
   "source": [
    "### 3. Feladat\n",
    "\n",
    "Legyen $(V, \\| \\, \\|)$ normált tér. Az eddigiek felhasználásával definiáljunk egy $\\| \\, \\|_*$ leképezést, amivel $(V^*, \\| \\, \\|_*)$ is normált tér."
   ]
  },
  {
   "cell_type": "code",
   "execution_count": null,
   "id": "10",
   "metadata": {},
   "outputs": [],
   "source": [
    "# V* elemei sorvektorok, azaz egysoros mátrixok. Vegyük az indukált mátrixnormát."
   ]
  },
  {
   "cell_type": "markdown",
   "id": "11",
   "metadata": {},
   "source": [
    "**Duális norma**\n",
    "\n",
    "A $\\| \\, \\|_*$ leképezést szokás a $\\| \\, \\|$ duális normájának hívni."
   ]
  },
  {
   "attachments": {},
   "cell_type": "markdown",
   "id": "12",
   "metadata": {},
   "source": [
    "### 4.* Feladat\n",
    "\n",
    "Mutassuk meg, hogy a $\\| \\, \\|_2$ duális normája önmaga."
   ]
  },
  {
   "cell_type": "code",
   "execution_count": null,
   "id": "13",
   "metadata": {},
   "outputs": [],
   "source": [
    "# CBS-egyenlőtlenség adja a felsőbecslést, a maximum fel is vétetik \n",
    "# ha a vektort párhuzamosnak választjuk"
   ]
  },
  {
   "cell_type": "markdown",
   "id": "14",
   "metadata": {},
   "source": [
    "### 5.* Feladat\n",
    "\n",
    "Mutassuk meg, hogy $\\| \\, \\|_1$ és $\\| \\, \\|_\\infty$ egymás duális normái."
   ]
  },
  {
   "cell_type": "code",
   "execution_count": null,
   "id": "15",
   "metadata": {},
   "outputs": [],
   "source": [
    "# Azt a vektort kell megkonstruálni, amin felvétetik a maximum:\n",
    "#\n",
    "# egyik esetben (+1, -1)-ből álló vektort kell készíteni, hogy az azzal vett skalárszorzat pont\n",
    "# az elemek abszolútértékének összegét adja ki\n",
    "#\n",
    "# másik esetben (0, -1, +1)-ből álló vektort kell készíteni, hogy az azzal vett skalárszorzat pont \n",
    "# a legnagyobb abszolútértékű elem abszolútértékét adja ki"
   ]
  },
  {
   "cell_type": "markdown",
   "id": "16",
   "metadata": {},
   "source": [
    "---"
   ]
  },
  {
   "cell_type": "markdown",
   "id": "17",
   "metadata": {},
   "source": [
    "**Rayleigh-hányados**\n",
    "\n",
    "Legyen az $A$ mátrix önadjungált $(A^* = A)$. Ekkor a sajátértékei valósak (miért?). Egy $x \\neq 0$ vektor esetén a\n",
    "\n",
    "$$\n",
    "R_A(x) = \\frac{x^*Ax}{x^*x}\n",
    "$$\n",
    "\n",
    "kifejezést Rayleigh-hányadosnak nevezzük."
   ]
  },
  {
   "cell_type": "markdown",
   "id": "18",
   "metadata": {},
   "source": [
    "### 6. Feladat\n",
    "Mutassuk meg, hogy ha $A$ önadjungált, akkor tetszőleges $x \\neq 0$ vektorra \n",
    "\n",
    "$$\n",
    "\\lambda_{\\min}(A) \\leq R_A(x) \\leq \\lambda_{\\max}(A).\n",
    "$$"
   ]
  },
  {
   "cell_type": "code",
   "execution_count": null,
   "id": "19",
   "metadata": {},
   "outputs": [],
   "source": [
    "# diagonalizálunk, majd józan paraszti ésszel maximalizálunk "
   ]
  },
  {
   "cell_type": "markdown",
   "id": "20",
   "metadata": {},
   "source": [
    "### 7. Feladat\n",
    "\n",
    "Mutassuk meg, hogy a kettes vektornorma által indukált mátrixnormára teljesül, hogy\n",
    "$$\n",
    "\\| A \\|_{2,2} = \\sqrt{\\lambda_{\\max}(A^*A)}.\n",
    "$$"
   ]
  },
  {
   "cell_type": "code",
   "execution_count": null,
   "id": "21",
   "metadata": {},
   "outputs": [],
   "source": [
    "# A kettes indukált norma négyzetének definíciójában R_{A*A}(x) szerepel, melynek\n",
    "# maximuma az előző feladat alapján pont a kért kifejezés négyzete"
   ]
  },
  {
   "cell_type": "markdown",
   "id": "22",
   "metadata": {},
   "source": [
    "### 8. Feladat\n",
    "\n",
    "Mutassuk meg, hogy a kettes vektornorma által indukált mátrixnorma invariáns unitér mátrixszal való szorzásra, azaz: ha $U, V$ unitér mátrixok $(U^*U = I = UU^*)$, akkor\n",
    "$$\\| VAU \\|_{2,2} = \\| A \\|_{2,2}.$$"
   ]
  },
  {
   "cell_type": "code",
   "execution_count": null,
   "id": "23",
   "metadata": {},
   "outputs": [],
   "source": [
    "# Unitér mátrix tartja a standard skalárszorzatot, szóval a 2-es normát is,\n",
    "# tehát egyrészt elég \\|AU|\\_{2,2}-t nézni,\n",
    "# másrészt az U pedig eltüntethető a szuprémum argumentumában"
   ]
  },
  {
   "cell_type": "markdown",
   "id": "24",
   "metadata": {},
   "source": [
    "### 9. Feladat\n",
    "\n",
    "Tegyük fel, hogy $A = U\\Sigma V^*$ alakba írható, ahol $U, V$ unitér mátrixok, $\\Sigma$ pedig diagonális mátrix, $\\sigma_1 \\geq \\sigma_2 \\geq \\ldots \\geq \\sigma_n \\geq 0$ főátlóbeli elemekkel.\n",
    "\n",
    "Mutassuk meg, hogy ekkor\n",
    "$$\n",
    "\\| A \\|_{2,2} = \\sigma_1,\n",
    "$$\n",
    "\n",
    "továbbá, amennyiben $\\sigma_n > 0$, akkor $A$ invertálható és \n",
    "$$\n",
    "\\| A^{-1} \\|_{2,2} = \\sigma_n^{-1}.\n",
    "$$"
   ]
  },
  {
   "cell_type": "code",
   "execution_count": null,
   "id": "25",
   "metadata": {},
   "outputs": [],
   "source": [
    "# előző feladat, illetve a 2-es indukált norma definíciója"
   ]
  },
  {
   "cell_type": "markdown",
   "id": "26",
   "metadata": {},
   "source": [
    "### 10. Feladat\n",
    "Tegyük fel, hogy $A$ önadjungált.\n",
    "\n",
    "a)  Adjunk egy egyszerű formulát az $\\| A \\|_{2,2}$ kifejezésre."
   ]
  },
  {
   "cell_type": "code",
   "execution_count": null,
   "id": "27",
   "metadata": {},
   "outputs": [],
   "source": [
    "# A legnagyobb abszolútértékű sajátértékének abszolútértéke"
   ]
  },
  {
   "cell_type": "markdown",
   "id": "28",
   "metadata": {},
   "source": [
    "b) Tegyük fel, hogy $A$ invertálható is. Adjunk egy egyszerű formulát az $\\| A^{-1} \\|_{2,2}$ kifejezésre.\n",
    "\n"
   ]
  },
  {
   "cell_type": "code",
   "execution_count": null,
   "id": "29",
   "metadata": {},
   "outputs": [],
   "source": [
    "# A legkisebb abszolútértékű sajátértékének abszolútértékének reciproka"
   ]
  },
  {
   "cell_type": "markdown",
   "id": "30",
   "metadata": {},
   "source": [
    "**Megjegyzés**\n",
    "\n",
    "Nevezetes indukált mátrixnormák még:\n",
    "$$\n",
    "  \\| A \\|_{1,1} = \\max_j \\sum_i |a_{ij}|, \\quad  \\| A \\|_{\\infty, \\infty} = \\max_i \\sum_j |a_{ij}|.\n",
    "$$\n",
    "\n",
    "Ami szavakkal leírva azt jelenti, hogy vegyük a mátrix elemenkénti abszolútértékét, majd vegyük az így kapott mátrixban a legnagyobb összegű sor/oszlop összegét. Hogy melyik melyik, annak megjegyzésében segíthet az, hogy ha visszaemlékszünk, hogy mit kapunk akkor, ha $A$ sorvektor."
   ]
  },
  {
   "cell_type": "markdown",
   "id": "31",
   "metadata": {},
   "source": [
    "### 11. Feladat\n",
    "\n",
    "Gondoljuk meg, hogy ez a két formula az $1$-es és $\\infty$-normák esetén az $(1, n)$ méretű mátrixokon, azaz sorvektorokon, a várt, $\\infty$-es és $1$-es normákat adják vissza."
   ]
  },
  {
   "cell_type": "code",
   "execution_count": null,
   "id": "32",
   "metadata": {},
   "outputs": [],
   "source": [
    "# definíció alapján"
   ]
  },
  {
   "cell_type": "markdown",
   "id": "33",
   "metadata": {},
   "source": [
    "### 12. Feladat\n",
    "\n",
    "Legyen $u, v$ két vektor. Mik a sajátértékei és sajátvektorai az $uv^*$ mátrixnak?"
   ]
  },
  {
   "cell_type": "code",
   "execution_count": null,
   "id": "34",
   "metadata": {},
   "outputs": [],
   "source": [
    "# sajátvektorai: u, és a v-re merőleges hipersík egy bázisa\n",
    "# sajátértékei: v*u, és (n-1) db 0"
   ]
  },
  {
   "cell_type": "markdown",
   "id": "35",
   "metadata": {},
   "source": [
    "### 13. Feladat\n",
    "\n",
    "Gondoljuk meg, hogy a kettes indukált mátrixnormára és a szokásos kettes vektornormára vonatkozó képletek egybeesnek sorvektorok esetén."
   ]
  },
  {
   "cell_type": "code",
   "execution_count": null,
   "id": "36",
   "metadata": {},
   "outputs": [],
   "source": [
    "# sqrt(lambda_max(u*u)) = sqrt(lambda_max(uu*)) = \\|u\\|_2"
   ]
  },
  {
   "cell_type": "markdown",
   "id": "37",
   "metadata": {},
   "source": [
    "### 14. Feladat\n",
    "Tekintsük az\n",
    "$$\n",
    "\\| A \\|_F = \\left( \\sum\\limits_{i,j} |a_{ij}|^2 \\right)^{1/2}\n",
    "$$\n",
    "mátrixokon értelmezett funkcionált.\n",
    "\n",
    "a) Igaz-e, hogy norma?"
   ]
  },
  {
   "cell_type": "code",
   "execution_count": null,
   "id": "38",
   "metadata": {},
   "outputs": [],
   "source": [
    "# igen.. 2-es vektornormája a mátrix vektorrá lapításával kapott vektornak"
   ]
  },
  {
   "cell_type": "markdown",
   "id": "39",
   "metadata": {},
   "source": [
    "b) Lehet-e indukált norma? Ha igen, akkor milyen norma indukálja? Ha nem, miért nem?"
   ]
  },
  {
   "cell_type": "code",
   "execution_count": null,
   "id": "40",
   "metadata": {},
   "outputs": [],
   "source": [
    "# skalárokra igen\n",
    "# sorvektorokra igen\n",
    "# legalább 2x2-es négyzetes mátrixokra nem, mert \\|I\\|_F = n"
   ]
  },
  {
   "cell_type": "markdown",
   "id": "41",
   "metadata": {},
   "source": [
    "c*) Mutassuk meg, hogy szubmultiplikatív."
   ]
  },
  {
   "cell_type": "code",
   "execution_count": null,
   "id": "42",
   "metadata": {},
   "outputs": [],
   "source": [
    "# lsd. a következő sort"
   ]
  },
  {
   "cell_type": "markdown",
   "id": "43",
   "metadata": {},
   "source": [
    "CBS-egyenlőtlenségből\n",
    "$$\n",
    "\\| AB \\|_F^2 = \\sum\\limits_{i,j} \\left|\\sum_k a_{ik}b_{kj}\\right|^2 \\leq \\sum\\limits_{i,j} \\left( \\sum_k a_{ik}^2 \\right) \\left( \\sum_k b_{kj}^2 \\right) = \\|A\\|_F^2 \\|B\\|_F^2\n",
    "$$"
   ]
  },
  {
   "cell_type": "markdown",
   "id": "44",
   "metadata": {},
   "source": [
    "**Spektrálsugár**\n",
    "\n",
    "Jelölje $\\rho(A)$ az $A$ mátrix legnagyobb abszolútértékű sajátértékének abszolútértékét. Ezt hívjuk $A$ spektrálsugarának."
   ]
  },
  {
   "cell_type": "markdown",
   "id": "45",
   "metadata": {},
   "source": [
    "### 15. Feladat\n",
    "\n",
    "Mutassuk meg, hogy \n",
    "$$ \\rho \\leq \\|\\, \\| $$\n",
    "tetszőleges $\\| \\, \\|$ indukált mátrixnormára."
   ]
  },
  {
   "cell_type": "code",
   "execution_count": null,
   "id": "46",
   "metadata": {},
   "outputs": [],
   "source": [
    "# |\\lambda| \\leq \\| A \\| (sajátvektort a definícióba helyettesítve)"
   ]
  },
  {
   "cell_type": "markdown",
   "id": "47",
   "metadata": {},
   "source": [
    "### 16. Feladat\n",
    "\n",
    "Lehetnek-e normák az alábbi leképezések? Ha igen, akkor milyen mátrixokon?\n",
    "\n",
    "a) $\\det$"
   ]
  },
  {
   "cell_type": "code",
   "execution_count": null,
   "id": "48",
   "metadata": {},
   "outputs": [],
   "source": [
    "# det(cA) = c^n det(A), szóval nem"
   ]
  },
  {
   "cell_type": "markdown",
   "id": "49",
   "metadata": {},
   "source": [
    "b) $\\operatorname{trace}$"
   ]
  },
  {
   "cell_type": "code",
   "execution_count": null,
   "id": "50",
   "metadata": {},
   "outputs": [],
   "source": [
    "# lineáris => nem abszolút-homogén"
   ]
  },
  {
   "cell_type": "markdown",
   "id": "51",
   "metadata": {},
   "source": [
    "c) $\\rho$"
   ]
  },
  {
   "cell_type": "code",
   "execution_count": null,
   "id": "52",
   "metadata": {},
   "outputs": [],
   "source": [
    "# önadjungáltakon pl. igen, általában nem"
   ]
  },
  {
   "cell_type": "markdown",
   "id": "53",
   "metadata": {},
   "source": [
    "---"
   ]
  },
  {
   "cell_type": "markdown",
   "id": "54",
   "metadata": {},
   "source": [
    "**Kondíciószám**\n",
    "  \n",
    "Ha az $A$ mátrix invertálható, akkor adott $\\|\\,\\|$ indukált norma szerinti kondíciószáma alatt az\n",
    "$\\|A \\| \\|A^{-1}\\|$ kifejezést értjük. Ennek motiválásához legyen $Ax = b, Ay = c$. Ekkor\n",
    "$$\n",
    "\\| b \\| \\| x - y \\| = \\| Ax \\| \\| A^{-1}(b - c) \\| \\leq \\| A \\| \\|x\\| \\|A^{-1}\\| \\|b - c\\|  = \\|x\\| \\|b - c\\| \\operatorname{cond}_{\\|\\, \\|}(A).\n",
    "$$\n",
    "Ha $x \\neq 0$, akkor $b \\neq 0$. Ekkor normáikkal átosztva adódik, hogy\n",
    "$$\n",
    "\\frac{\\| x - y \\|}{\\| x \\|} \\leq  \\frac{\\|b - c\\|}{\\| b \\|} \\operatorname{cond}_{\\|\\, \\|}(A).\n",
    "$$\n",
    "\n",
    "Egy következmény, hogy ha egy $Ax = b$ egyenletrendszer jobboldala nem pontosan (például mérési\n",
    "hibákkal terhelten) áll rendelkezésünkre, akkor az így kapott hibás $Ay = c$ rendszer $y$\n",
    "megoldásának relatív hibája az adott $\\|\\cdot \\|$ norma szerint\n",
    "az eredeti rendszer $x$ megoldásához képest legfeljebb az $A$\n",
    "mátrixtól és az alkalmazott normától függõ konstansszorosa lehet a $c$ vektor\n",
    "$b$-hez képest vett relatív hibájának."
   ]
  },
  {
   "cell_type": "markdown",
   "id": "55",
   "metadata": {},
   "source": [
    "### 17. Feladat\n",
    "\n",
    "Mutassuk meg, hogy $\\operatorname{cond}_{\\|\\cdot\\|} \\geq 1.$"
   ]
  },
  {
   "cell_type": "code",
   "execution_count": null,
   "id": "56",
   "metadata": {},
   "outputs": [],
   "source": [
    "# 1 = \\| I \\| = \\| A A^{-1} \\| \\leq cond(A)\n",
    "# szubmultiplikativitás"
   ]
  },
  {
   "cell_type": "markdown",
   "id": "57",
   "metadata": {},
   "source": [
    "### 18. Feladat\n",
    "\n",
    "Legyen $U$ unitér mátrix. Mennyi $\\operatorname{cond}_2(U)$?"
   ]
  },
  {
   "cell_type": "code",
   "execution_count": null,
   "id": "58",
   "metadata": {},
   "outputs": [],
   "source": [
    "# \\| U \\| = \\| U^* \\| = 1, tehát 1 "
   ]
  },
  {
   "cell_type": "markdown",
   "id": "59",
   "metadata": {},
   "source": [
    "### 19. Feladat\n",
    "\n",
    "Legyen $A = U \\Sigma V^*$, ahol $U,V$ unitér és $\\Sigma$ diagonális mátrix $\\sigma_1 \\geq \\sigma_2 \\geq \\ldots \\geq \\sigma_n > 0$ főátlóbeli elemekkel. Adjunk egy egyszerű formulát a\n",
    "$\n",
    "\\operatorname{cond}_{2}(A)\n",
    "$ mennyiségre."
   ]
  },
  {
   "cell_type": "code",
   "execution_count": null,
   "id": "60",
   "metadata": {},
   "outputs": [],
   "source": [
    "# \\sigma_1 / \\sigma_n"
   ]
  },
  {
   "cell_type": "markdown",
   "id": "61",
   "metadata": {},
   "source": [
    "### 20. Feladat\n",
    "\n",
    "Legyen $A$ önadjungált. Adjunk egy egyszerű formulát a $\\operatorname{cond}_2(A)$ kifejezésre."
   ]
  },
  {
   "cell_type": "code",
   "execution_count": null,
   "id": "62",
   "metadata": {},
   "outputs": [],
   "source": [
    "# mu_1 / mu_n, \n",
    "# ahol mu_j a sajátértékek abszolútértékei, nagyság szerint csökkenő sorrendben"
   ]
  },
  {
   "cell_type": "markdown",
   "id": "63",
   "metadata": {},
   "source": [
    "----"
   ]
  },
  {
   "cell_type": "markdown",
   "id": "64",
   "metadata": {},
   "source": [
    "A Banach-féle fixponttétel szerint ha $(X, d)$ teljes metrikus tér, $f: X \\to X$ kontrakció, azaz létezik olyan $0 \\leq C < 1$ konstans, amivel tetszőleges $x, y \\in X$ elemekre\n",
    "\n",
    "$$d(f(x), f(y)) \\leq C \\, d(x, y),$$\n",
    "akkor egyértelműen létezik egy $x^*$ fixpontja, azaz $x^* \\in X$, amire\n",
    "$$f(x^*) = x^*.$$"
   ]
  },
  {
   "cell_type": "markdown",
   "id": "65",
   "metadata": {},
   "source": [
    "### 21.* Feladat\n",
    "\n",
    "Tekintsük az $x \\mapsto \\frac{x}{2}$ hozzárendelési szabályt. Készítsünk belőle függvényt az alábbiak szerint.\n",
    "\n",
    "a) Mutassuk meg, hogy ha értelmezési tartománynak az egész számegyenest választjuk, akkor kontrakciót kapunk, melynek lesz fixpontja, majd keressük is meg azt."
   ]
  },
  {
   "cell_type": "code",
   "execution_count": null,
   "id": "66",
   "metadata": {},
   "outputs": [],
   "source": [
    "# C = 1/2; 0/2 = 0"
   ]
  },
  {
   "cell_type": "markdown",
   "id": "67",
   "metadata": {},
   "source": [
    "b) Keressünk olyan értelmezési tartományt, amivel a függvény kontrakció lesz, azonban nem lesz fixpontja. A fixponttétel melyik feltétele sérült?"
   ]
  },
  {
   "cell_type": "code",
   "execution_count": null,
   "id": "68",
   "metadata": {},
   "outputs": [],
   "source": [
    "# X = (0, 1]\n",
    "# nem teljes"
   ]
  },
  {
   "cell_type": "markdown",
   "id": "69",
   "metadata": {},
   "source": [
    "---"
   ]
  },
  {
   "cell_type": "markdown",
   "id": "70",
   "metadata": {},
   "source": [
    "### P1. Feladat\n",
    "\n",
    "Legyen $x = [10^{200}, 1]$. Számítsuk ki a 2-es normáját kétféleképpen:\n",
    "\n",
    "- $\\sqrt{x_1^2 + x_2^2}$,\n",
    "- $c\\sqrt{\\left(\\frac{x_1}{c}\\right)^2 + \\left(\\frac{x_2}{c}\\right)^2},$\n",
    "\n",
    "ahol $ c = \\max\\{|x_1|, |x_2|\\}$. Mit tapasztalunk?"
   ]
  },
  {
   "cell_type": "code",
   "execution_count": null,
   "id": "71",
   "metadata": {},
   "outputs": [],
   "source": [
    "import numpy as np\n"
   ]
  },
  {
   "cell_type": "code",
   "execution_count": null,
   "id": "72",
   "metadata": {},
   "outputs": [],
   "source": [
    "x = np.array([1e200, 1])\n",
    "x"
   ]
  },
  {
   "cell_type": "code",
   "execution_count": null,
   "id": "73",
   "metadata": {},
   "outputs": [],
   "source": [
    "sum((x / x.max())**2)**.5 *x.max()"
   ]
  },
  {
   "cell_type": "code",
   "execution_count": null,
   "id": "74",
   "metadata": {},
   "outputs": [],
   "source": [
    "x**2"
   ]
  },
  {
   "cell_type": "markdown",
   "id": "75",
   "metadata": {},
   "source": [
    "### P2. Feladat\n",
    "Írjunk programot, ami kiszámolja egy vektor $p$-normáját."
   ]
  },
  {
   "cell_type": "code",
   "execution_count": null,
   "id": "76",
   "metadata": {},
   "outputs": [],
   "source": [
    "def p_norm(v: np.array, p: float):\n",
    "    \"\"\" kiszamitja v p-normajat az elso tengely menten \"\"\"\n",
    "    # p ertelmes\n",
    "    assert 1 <= p\n",
    "\n",
    "    if 1/p == 0:\n",
    "        return (abs(v)).max(axis=0)\n",
    "        \n",
    "    return ((abs(v)**p).sum(axis=0))**(1/p)"
   ]
  },
  {
   "cell_type": "code",
   "execution_count": null,
   "id": "77",
   "metadata": {},
   "outputs": [],
   "source": [
    "v = .5*np.array([3**.5, 1])"
   ]
  },
  {
   "cell_type": "code",
   "execution_count": null,
   "id": "78",
   "metadata": {},
   "outputs": [],
   "source": [
    "p_norm(v, 1)"
   ]
  },
  {
   "cell_type": "code",
   "execution_count": null,
   "id": "79",
   "metadata": {},
   "outputs": [],
   "source": [
    "p_norm(v, 2)"
   ]
  },
  {
   "cell_type": "code",
   "execution_count": null,
   "id": "80",
   "metadata": {},
   "outputs": [],
   "source": [
    "p_norm(v, np.inf)"
   ]
  },
  {
   "cell_type": "markdown",
   "id": "81",
   "metadata": {},
   "source": [
    "### P3.* Feladat\n",
    "\n",
    "Írjunk programot, ami adott $p$ esetén felrajzolja a $\\| \\, \\|_p$ szerinti egységkört. Ábrázoljuk egy közös ábrán a $p=1,2,4, \\infty$ eseteket."
   ]
  },
  {
   "cell_type": "code",
   "execution_count": null,
   "id": "82",
   "metadata": {},
   "outputs": [],
   "source": [
    "def unit_circle(num_pts: int, p: float) -> np.array:\n",
    "    ts = np.linspace(0, 2*np.pi, 201)\n",
    "    xs = np.sin(ts)\n",
    "    ys = np.cos(ts)\n",
    "\n",
    "    xys = np.vstack((xs, ys))\n",
    "    xys_normed = xys / p_norm(xys, p)\n",
    "    \n",
    "    return xys_normed"
   ]
  },
  {
   "cell_type": "code",
   "execution_count": null,
   "id": "83",
   "metadata": {},
   "outputs": [],
   "source": [
    "from matplotlib import pyplot as plt"
   ]
  },
  {
   "cell_type": "code",
   "execution_count": null,
   "id": "84",
   "metadata": {},
   "outputs": [],
   "source": [
    "for p in [1, 2,4,np.inf]:\n",
    "    plt.plot(*unit_circle(201, p), label=f\"p = {p}\")\n",
    "plt.title(\"p-norma szerinti egysegkorok\")\n",
    "plt.legend()"
   ]
  },
  {
   "cell_type": "markdown",
   "id": "85",
   "metadata": {},
   "source": [
    "### P4. Feladat\n",
    "\n",
    "Írjunk programot az\n",
    "\n",
    "$$\n",
    "A_n = \\left(\\matrix{2 & -1 & 0 & \\dots & 0\\cr -1 & 2 & -1 & \\dots & 0 \\cr 0 & -1 & 2 & \\dots & 0 \\cr \\vdots & \\ddots & \\ddots & \\ddots& \\vdots \\cr 0 & \\dots & 0 & -1 & 2}\\right)\n",
    "$$\n",
    "\n",
    "és a\n",
    "\n",
    "$$\n",
    "H_n = \\left(\\matrix{1 & 1/2 & 1/3 & \\dots & 1/n \\cr 1/2 & 1/3 & 1/4 & \\dots & 1/(n+1) \\cr 1/3 & 1/4 & 1/5 & \\dots & 1/(n+2) \\cr \\vdots & \\vdots & \\vdots & \\vdots& \\vdots \\cr 1/n & 1/(n+1) & 1/(n+2) & \\dots & 1/(2n-1)}\\right)\n",
    "$$\n",
    "\n",
    "mátrixok megkonstruálására, majd számíttassuk is ki ezek 1-es, illetve 2-es norma szerinti kondíciószámát egy megfelelő parancs segítségével."
   ]
  },
  {
   "cell_type": "code",
   "execution_count": null,
   "id": "86",
   "metadata": {},
   "outputs": [],
   "source": [
    "def mtx_a(n: int) -> np.ndarray:\n",
    "    return np.diag(-np.ones(n-1), -1) + np.diag(2*np.ones(n), 0) + np.diag(-np.ones(n-1), 1)\n"
   ]
  },
  {
   "cell_type": "code",
   "execution_count": null,
   "id": "87",
   "metadata": {},
   "outputs": [],
   "source": [
    "mtx_a(3)"
   ]
  },
  {
   "cell_type": "code",
   "execution_count": null,
   "id": "88",
   "metadata": {},
   "outputs": [],
   "source": [
    "def mtx_h(n: int) -> np.ndarray:\n",
    "    v = np.array(list(range(n)))\n",
    "    return 1 / (v.reshape((-1, 1)) + (v+1))"
   ]
  },
  {
   "cell_type": "code",
   "execution_count": null,
   "id": "89",
   "metadata": {},
   "outputs": [],
   "source": [
    "mtx_h(3)"
   ]
  },
  {
   "cell_type": "markdown",
   "id": "90",
   "metadata": {},
   "source": [
    "### P5. Feladat\n",
    "\n",
    "Állítsuk elő azt az $A \\in \\mathbb{R}^{100 \\times 100}$ mátrixot, melynek elemei az alábbi értékek:\n",
    "\n",
    "$$\n",
    "a_{ij}=\\begin{cases}\n",
    "1, &i=j, \\\\\n",
    "-1, &i<j, \\\\\n",
    "0 &\\text{egyébként.}\n",
    "\\end{cases}\n",
    "$$\n",
    "\n",
    "Legyen $b=[-98, -97, \\dots, 0, 1]^{T}$ és tekintsük az $Ax = b$ egyenletrendszert.\n",
    "\n",
    "a) Jól kondícionált a feladat?"
   ]
  },
  {
   "cell_type": "code",
   "execution_count": null,
   "id": "91",
   "metadata": {},
   "outputs": [],
   "source": [
    "def a26(n):\n",
    "    return np.eye(n) - np.triu(np.ones((n, n)), 1)\n",
    "    \n",
    "a26(100)"
   ]
  },
  {
   "cell_type": "code",
   "execution_count": null,
   "id": "92",
   "metadata": {},
   "outputs": [],
   "source": [
    "def b26(n):\n",
    "    return np.array(list(range(n))) - (n-2)"
   ]
  },
  {
   "cell_type": "code",
   "execution_count": null,
   "id": "93",
   "metadata": {},
   "outputs": [],
   "source": [
    "b26(100)"
   ]
  },
  {
   "cell_type": "code",
   "execution_count": null,
   "id": "94",
   "metadata": {},
   "outputs": [],
   "source": [
    "from numpy.linalg import cond\n",
    "cond(a26(100), p=1)"
   ]
  },
  {
   "cell_type": "markdown",
   "id": "95",
   "metadata": {},
   "source": [
    "b) Tegyük fel, hogy a $b$ vektor hibával terhelten áll csak a rendelkezésünkre: az utolsó eleme legyen $1$ helyett $1.0001$. Adjunk becslést a megoldásban keletkező hiba relatív mértékére $1$-es, $\\infty$-normákban, majd oldjuk meg a két egyenletrendszert és számítsuk ki a hiba pontos mértékét."
   ]
  },
  {
   "cell_type": "code",
   "execution_count": null,
   "id": "96",
   "metadata": {},
   "outputs": [],
   "source": [
    "def delta_b26(n):\n",
    "    return 1e-4 * np.roll(np.eye(1, n), -1).ravel()"
   ]
  },
  {
   "cell_type": "code",
   "execution_count": null,
   "id": "97",
   "metadata": {},
   "outputs": [],
   "source": [
    "delta_b26(100)"
   ]
  },
  {
   "cell_type": "code",
   "execution_count": null,
   "id": "98",
   "metadata": {},
   "outputs": [],
   "source": [
    "from numpy.linalg import cond, solve"
   ]
  },
  {
   "cell_type": "code",
   "execution_count": null,
   "id": "99",
   "metadata": {},
   "outputs": [],
   "source": [
    "def x26(n):\n",
    "    return solve(a26(n), b26(n))\n",
    "    \n",
    "def delta_x26(n):\n",
    "    return solve(a26(n), delta_b26(n))"
   ]
  },
  {
   "cell_type": "code",
   "execution_count": null,
   "id": "100",
   "metadata": {},
   "outputs": [],
   "source": [
    "def f26(n, p):\n",
    "    return {\n",
    "        \"becsles\": p_norm(delta_b26(n), p)/p_norm(b26(n), p) * cond(a26(n), p),\n",
    "        \"tenyleges\": p_norm(delta_x26(n), p) / p_norm(x26(n), p)\n",
    "    }"
   ]
  },
  {
   "cell_type": "code",
   "execution_count": null,
   "id": "101",
   "metadata": {},
   "outputs": [],
   "source": [
    "f26(100, 1)"
   ]
  },
  {
   "cell_type": "code",
   "execution_count": null,
   "id": "102",
   "metadata": {},
   "outputs": [],
   "source": [
    "f26(100, np.inf)"
   ]
  },
  {
   "cell_type": "markdown",
   "id": "103",
   "metadata": {},
   "source": [
    "c) Oldjuk meg a b) feladatrészt $2$-es norma választással. Mit tapasztalunk?"
   ]
  },
  {
   "cell_type": "code",
   "execution_count": null,
   "id": "104",
   "metadata": {},
   "outputs": [],
   "source": [
    "# Láthatjuk, hogy a 2-es kondíciószám kiszámítása problematikus tud lenni\n",
    "# kis n-ekre még jó, azonban pl. n=100-ra már nem"
   ]
  },
  {
   "cell_type": "code",
   "execution_count": null,
   "id": "105",
   "metadata": {},
   "outputs": [],
   "source": [
    "f26(10, 2)"
   ]
  },
  {
   "cell_type": "code",
   "execution_count": null,
   "id": "106",
   "metadata": {},
   "outputs": [],
   "source": [
    "f26(50, 2)"
   ]
  },
  {
   "cell_type": "code",
   "execution_count": null,
   "id": "107",
   "metadata": {},
   "outputs": [],
   "source": [
    "f26(100, 2)"
   ]
  }
 ],
 "metadata": {
  "kernelspec": {
   "display_name": "Python 3 (ipykernel)",
   "language": "python",
   "name": "python3"
  },
  "language_info": {
   "codemirror_mode": {
    "name": "ipython",
    "version": 3
   },
   "file_extension": ".py",
   "mimetype": "text/x-python",
   "name": "python",
   "nbconvert_exporter": "python",
   "pygments_lexer": "ipython3",
   "version": "3.11.8"
  }
 },
 "nbformat": 4,
 "nbformat_minor": 5
}
