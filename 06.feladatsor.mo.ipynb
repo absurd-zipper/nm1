{
 "cells": [
  {
   "cell_type": "markdown",
   "id": "0",
   "metadata": {},
   "source": [
    "# 6. Feladatsor: megoldások\n",
    "\n",
    "*(Lagrange- és Hermite-interpoláció)*"
   ]
  },
  {
   "cell_type": "markdown",
   "id": "1",
   "metadata": {},
   "source": [
    "### P1. Feladat\n",
    "\n",
    "Írjunk programot, ami adott $x$ és $y$ -pontokat és az ott felveendő értékeket tartalmazó- vektorokra interpolációs polinomot illeszt az 1. feladatbeli módszerrel. Számoljuk ki a rendszert leíró mátrix kondíciószámát, ha $x=[2,3,6,10,14]$ és $y=[1,-2,4,9,13]$."
   ]
  },
  {
   "cell_type": "code",
   "execution_count": null,
   "id": "2",
   "metadata": {},
   "outputs": [],
   "source": [
    "import numpy as np\n",
    "\n",
    "def poly_fit(xs: np.array, ys: np.array, n=None):\n",
    "    # xs: alappontok, m hosszú vektor\n",
    "    # ys: alappontokba óhajtott értékek, m hosszú vektor\n",
    "    # n: fokszám, nemnegatív egész (n=m esetén interpoláció, n<m esetén regresszió)\n",
    "    if n is None:\n",
    "        n=np.size(xs)\n",
    "            \n",
    "    nn=np.arange(n)\n",
    "    xs=xs[:,None]\n",
    "    nn=nn[None,:]\n",
    "    A = xs**nn \n",
    "    b = ys\n",
    "    coeff=np.linalg.solve(A.T@A,A.T@b) # ha n<m, akkor normálegyenlet, négyzetes, invertálható A esetén A^*Ax=A^*b megoldása ugyanaz mint, Ax=b megoldása \n",
    "    coeff=coeff[::-1]\n",
    "    return A, coeff"
   ]
  },
  {
   "cell_type": "code",
   "execution_count": null,
   "id": "3",
   "metadata": {},
   "outputs": [],
   "source": [
    "A,coeff=poly_fit( np.array([2,3,6,10,14]),np.array([1,-2,4,9,13]))\n",
    "np.linalg.cond(A)"
   ]
  },
  {
   "cell_type": "code",
   "execution_count": null,
   "id": "4",
   "metadata": {},
   "outputs": [],
   "source": [
    "def poly_f(c,x): #mint az np.polyval\n",
    "    #c: együtthatók\n",
    "    #x: változó\n",
    "    n=np.size(c)\n",
    "    nn=np.arange(n-1,-1,-1)\n",
    "    xx=x**nn\n",
    "    return np.sum(c*xx)"
   ]
  },
  {
   "cell_type": "code",
   "execution_count": null,
   "id": "5",
   "metadata": {},
   "outputs": [],
   "source": [
    "poly_f([1,0,0,0],2)"
   ]
  },
  {
   "cell_type": "code",
   "execution_count": null,
   "id": "6",
   "metadata": {},
   "outputs": [],
   "source": [
    "poly_f(coeff,14)"
   ]
  },
  {
   "cell_type": "markdown",
   "id": "7",
   "metadata": {},
   "source": [
    "### P2. Feladat\n",
    "\n",
    "Írjunk programot, ami adott $x$ és $y$ -pontokat és az ott felveendő értékeket tartalmazó- vektorokra interpolációs polinomot illeszt a Newton-alak használatával, majd egy további $z$ pontban kiértékeli azt."
   ]
  },
  {
   "cell_type": "code",
   "execution_count": null,
   "id": "8",
   "metadata": {},
   "outputs": [],
   "source": [
    "\n",
    "def poly_fit_newton(xs, ys):\n",
    "    def p(k):\n",
    "        if k == 0:\n",
    "            return lambda z: ys[0]\n",
    "        else:\n",
    "            c = (ys[k] - p(k-1)(xs[k])) / np.prod(xs[k] - xs[0:k])\n",
    "            return lambda z: p(k-1)(z) + c * np.prod(z - xs[0:k])\n",
    "\n",
    "    n = min(len(xs), len(ys)) - 1\n",
    "    return p(n)\n",
    "\n",
    "# Példa használat\n",
    "xs = np.array([1, 2, 3])\n",
    "ys = np.array([1, 4, 9])\n",
    "\n",
    "interpolation_poly = poly_fit_newton(xs, ys)\n",
    "\n",
    "# Kiértékeljük az interpolációs polinomot egy adott pontban\n",
    "x = 2.5\n",
    "print(\"Az interpolációs polinom értéke x =\", x, \"pontban:\", interpolation_poly(x))\n"
   ]
  },
  {
   "cell_type": "markdown",
   "id": "9",
   "metadata": {},
   "source": [
    "### P3. Feladat\n",
    "Tekintsük az $$f(x) = \\frac{1}{1 + 25x^2}$$ függvényt a $[-1, 1]$ intervallumon. Írjunk programot, ami adott $n$ esetén  az intervallum egy $n+1$ elemű, egyenletes rácsán felvett értékek alapján $n$-edfokú polinomot illeszt erre a függvényre. \n",
    "\n",
    "Ábrázoljuk a kapott polinomokat $n=2,4,8,12$ esetén. Mit tapasztalunk?"
   ]
  },
  {
   "cell_type": "code",
   "execution_count": null,
   "id": "10",
   "metadata": {},
   "outputs": [],
   "source": [
    "def f_fv(x):\n",
    "    return 1 / (1 + 25*x**2)"
   ]
  },
  {
   "cell_type": "code",
   "execution_count": null,
   "id": "11",
   "metadata": {},
   "outputs": [],
   "source": [
    "import matplotlib.pyplot as plt\n",
    "\n",
    "xx = np.linspace(-1,1,128)\n",
    "ax = plt.axes()\n",
    "for n in [2,4,8,12]:\n",
    "    xs=np.linspace(-1,1,n)\n",
    "    poly=poly_fit_newton(xs,f_fv(xs))\n",
    "    poly_v=np.vectorize(poly)\n",
    "    ax.plot(xx, poly_v(xx), label=\"n=\" + str(n))\n",
    "\n",
    "\n",
    "ax.plot(xx, f_fv(xx), label=\"függvény\")    \n",
    "\n",
    "ax.legend()\n",
    "ax.set_xlabel(r\"x\")\n",
    "ax.set_ylabel(r\"y\")"
   ]
  },
  {
   "cell_type": "markdown",
   "id": "12",
   "metadata": {},
   "source": [
    "*Megjegyzés:* A **Weierstrass-tétel** szerint minden $[-1, 1] \\to \\mathbb{R}$ folytonos függvény egyenletesen, tetszőleges pontossággal megközelíthető polinomokkal.\n",
    "\n",
    "Gondolhatnánk, hogy ennek bizonyítása lehetne az, hogy adott $n>0$ egész esetén veszünk egy $n+1$ pontból álló, egyenletes rácsot a $[-1, 1]$ intervallumon, majd ezekre $n$-edfokú polinomot illesztünk és készen vagyunk, de sajnos ez nincs így."
   ]
  },
  {
   "cell_type": "markdown",
   "id": "13",
   "metadata": {},
   "source": [
    "Nézzük meg, hogy tudjuk-e reprodukálni a problémát akkor, ha a fenti képletben elhagyjuk a $25$-öt. Hogyan magyarázható az ábrákon tapasztalt különbség?"
   ]
  },
  {
   "cell_type": "code",
   "execution_count": null,
   "id": "14",
   "metadata": {},
   "outputs": [],
   "source": [
    "def f_fv2(x):\n",
    "    return 1 / (1 + x**2)\n",
    "\n",
    "ax = plt.axes()\n",
    "\n",
    "for n in [2,4,5,6,12]:\n",
    "    xs=np.linspace(-1,1,n)\n",
    "    poly=poly_fit_newton(xs,f_fv2(xs))\n",
    "    poly_v=np.vectorize(poly)\n",
    "    ax.plot(xx, poly_v(xx), label=\"n=\" + str(n))\n",
    "\n",
    "\n",
    "ax.plot(xx, f_fv2(xx), label=\"függvény\")    \n",
    "\n",
    "ax.legend()\n",
    "ax.set_xlabel(r\"x\")\n",
    "ax.set_ylabel(r\"y\")"
   ]
  },
  {
   "cell_type": "markdown",
   "id": "15",
   "metadata": {},
   "source": [
    "### P4. Feladat\n",
    "Írjunk programot, mely egy polinomot a Horner-séma szerint értékel ki.\n",
    "\n",
    "**Emlék:**\n",
    "$$ c_0 + c_1 x + c_2 x^2 + \\ldots \\qquad \\text{helyett} \\qquad c_0 + x \\left( c_1 + x \\left( c_2 + \\ldots \\right) \\right)$$\n",
    "\n",
    "Hogyan alakul a műveletigénye a két megközelítésnek?"
   ]
  },
  {
   "cell_type": "code",
   "execution_count": null,
   "id": "16",
   "metadata": {},
   "outputs": [],
   "source": [
    "def horner_sema(coeff, x):\n",
    "    # coeff: a polinom együtthatói\n",
    "    # x: a pont ahol ki szeretnénk értékelni a polinomot\n",
    "    \n",
    "    accumulator = 0\n",
    "    for c in coeff[:0:-1]:\n",
    "        accumulator += c\n",
    "        accumulator *= x\n",
    "    \n",
    "    \n",
    "    return accumulator + coeff[0]"
   ]
  },
  {
   "cell_type": "code",
   "execution_count": null,
   "id": "17",
   "metadata": {},
   "outputs": [],
   "source": [
    "horner_sema([0,1,1,2], 3)"
   ]
  },
  {
   "cell_type": "markdown",
   "id": "18",
   "metadata": {},
   "source": [
    "### P5. Feladat\n",
    "\n",
    "Írjunk programot, ami adott $x$ és $y, y'$ -pontokat és az ott felveendő értékeket, illetve deriváltakat tartalmazó- vektorokra Hermite-féle interpolációs polinomot illeszt, majd egy további $z$ pontban kiértékeli azt."
   ]
  },
  {
   "cell_type": "code",
   "execution_count": null,
   "id": "19",
   "metadata": {},
   "outputs": [],
   "source": [
    "import numpy as np\n",
    "\n",
    "def poly_fit_hermite(xs, ys, ys_):\n",
    "    def w(k):\n",
    "        if k == 1:\n",
    "            return lambda z: 1\n",
    "        return lambda z: np.prod(z - xs[0:k-1])\n",
    "        \n",
    "    def dw(k):\n",
    "        if k == 1:\n",
    "            return lambda z: 0\n",
    "        A = lambda z: z * np.ones((len(xs[0:k-1]), 1)).T - xs[0:k-1]\n",
    "        return lambda z: np.sum(np.prod(A(z) - np.diag(np.diag(A(z))) + np.eye(len(xs[0:k-1])), axis=1))\n",
    "\n",
    "    def p(k):\n",
    "        if k == 0:\n",
    "            return lambda z: 0\n",
    "        return lambda z: p(k-1)(z) + (w(k)(z))**2 * (a(k)*(z - xs[k-1]) + b(k))\n",
    "        \n",
    "    def dp(k):\n",
    "        if k == 0:\n",
    "            return lambda z: 0\n",
    "        return lambda z: dp(k-1)(z) + 2*dw(k)(z)*w(k)(z)*(a(k)*(z - xs[k-1]) + b(k)) + w(k)(z)**2 * a(k)\n",
    "\n",
    "    def b(k):\n",
    "        if k == 1:\n",
    "            return ys[0]\n",
    "        return (ys[k-1] - p(k-1)(xs[k-1])) / (w(k)(xs[k-1]))**2\n",
    "\n",
    "    def a(k):\n",
    "        if k == 1:\n",
    "            return ys_[0]\n",
    "        return (ys_[k-1] - dp(k-1)(xs[k-1]) - 2*dw(k)(xs[k-1])*(w(k)(xs[k-1]))*b(k)) / (w(k)(xs[k-1]))**2\n",
    "    \n",
    "    n = min(min(len(xs), len(ys)), len(ys_))\n",
    "    return p(n)\n",
    "\n",
    "# Példa használat\n",
    "xs = np.array([0,1,2])\n",
    "ys = np.array([0,1,8])\n",
    "ys_ = np.array([0,3,12])\n",
    "\n",
    "interpolation_poly = poly_fit_hermite(xs, ys, ys_)\n",
    "\n",
    "# Kiértékeljük az interpolációs polinomot egy adott pontban\n",
    "x = 3\n",
    "print(\"Az interpolációs polinom értéke x =\", x, \"pontban:\", interpolation_poly(x))\n"
   ]
  },
  {
   "cell_type": "markdown",
   "id": "20",
   "metadata": {},
   "source": [
    "### P6. Feladat\n",
    "\n",
    "Írjunk programot, ami előállítja a Newton-alakhoz tartozó együtthatókat (pl. egy táblázat formájában)."
   ]
  },
  {
   "cell_type": "code",
   "execution_count": null,
   "id": "21",
   "metadata": {},
   "outputs": [],
   "source": [
    "xs = np.array([-1, 0, 1])\n",
    "ys = np.array([1, 0, 1])\n",
    "\n",
    "def delta(n: int, m: int):\n",
    "    assert n <= m\n",
    "    \n",
    "    if n == m:\n",
    "        return ys[n]\n",
    "    \n",
    "    return (delta(n, m-1) - delta(n+1, m))/(xs[n] - xs[m])\n",
    "\n",
    "def delta_table(xs: np.array, ys: np.array):\n",
    "    assert len(xs) == len(ys)\n",
    "    dX = xs.reshape((-1, 1)) - xs\n",
    "    deltas = np.diag(ys) + 0.0\n",
    "    \n",
    "    for j in range(1, len(ys)):\n",
    "        d = np.diag(deltas, j-1)\n",
    "        deltas += np.diag((d[:-1] - d[1:])/np.diag(dX, j), j)\n",
    "    \n",
    "    return deltas"
   ]
  },
  {
   "cell_type": "code",
   "execution_count": null,
   "id": "22",
   "metadata": {},
   "outputs": [],
   "source": [
    "# 1*1 + (-1)*(x+1) + 1*x(x+1) = x^2\n",
    "delta_table(xs, ys)"
   ]
  },
  {
   "cell_type": "code",
   "execution_count": null,
   "id": "23",
   "metadata": {},
   "outputs": [],
   "source": [
    "delta(0, 2)"
   ]
  }
 ],
 "metadata": {
  "kernelspec": {
   "display_name": "Python 3 (ipykernel)",
   "language": "python",
   "name": "python3"
  },
  "language_info": {
   "codemirror_mode": {
    "name": "ipython",
    "version": 3
   },
   "file_extension": ".py",
   "mimetype": "text/x-python",
   "name": "python",
   "nbconvert_exporter": "python",
   "pygments_lexer": "ipython3",
   "version": "3.11.8"
  }
 },
 "nbformat": 4,
 "nbformat_minor": 5
}
