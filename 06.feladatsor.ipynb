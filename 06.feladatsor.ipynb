{
 "cells": [
  {
   "cell_type": "markdown",
   "id": "0",
   "metadata": {},
   "source": [
    "# 6. Feladatsor\n",
    "\n",
    "*(Lagrange- és Hermite-interpoláció)*"
   ]
  },
  {
   "cell_type": "markdown",
   "id": "1",
   "metadata": {},
   "source": [
    "## Interpolációs-polinom\n",
    "A gyakorlatban nem egyszer előfordul, hogy egy folytonos függvényt nem ismerünk a teljes értelmezési tartományán, csak néhány $x_0, x_1, . . . , x_n$ alappontban felvett $f_0, f_1, . . . , f_n$\n",
    "értékét tudjuk. Ez a helyzet például akkor, ha az adatok diszkrét pontokban végzett\n",
    "mérésekből származnak. Láttuk, hogy bizonyos esetekben találhatunk pontosan egy olyan polinomot, ami az adott (alap)pontokban pontosan az elvárt értékeket veszi fel. Ekkor ezt az (egyértelmű) polinomot interpolációs-polinomnak nevezzük, mely elnevezés magában hordozza azt is, hogy a kapott polinomot az alappontok konvex burkán tekintjük. \n",
    "\n",
    "Tegyük fel, tehát, hogy az $f : \\mathbb{R} → \\mathbb{R}$ függvényt csak az $x_0, x_1, . . . , x_n$ pontokban ismerjük. Jelölje $f_k$ az $f(x_k)$ függvényértéket, ahol $k = 0, 1, . . . , n$. Olyan $p$ polinomot keresünk, amelynek fokszáma legfeljebb $n$, és teljesül, hogy $p(x_k) = f_k$, $k = 0, 1, . . . , n$."
   ]
  },
  {
   "cell_type": "markdown",
   "id": "2",
   "metadata": {},
   "source": [
    "### 1. Feladat\n",
    "Adjuk meg azt a lineáris egyenletrendszert adott $x_0,x_1,...x_n$ és $f_0,f_1,...f_n$ értékek mellett, amelynek megoldása pont az egyértelmű interpolációs polinom együtthatóit adja meg. Ehhez keressük a polinomunkat a szokásos alakban, az $x^k$ monomok lineáris kombinációjaként."
   ]
  },
  {
   "cell_type": "code",
   "execution_count": null,
   "id": "3",
   "metadata": {},
   "outputs": [],
   "source": []
  },
  {
   "cell_type": "markdown",
   "id": "4",
   "metadata": {},
   "source": [
    "### Az interpolációs polinom Lagrange-féle alakja\n",
    "\n",
    "Az előző feladat megoldásakor, a használt bázis az $x^n$ alakú monomokból áll, a kapott mátrix nagy kondíciószámú lesz, ennél jobb bázist is találhatunk. \n",
    "\n",
    "A $j$-edik alappontra felírt $l_j(x)$ alappolinom: $$l_j(x)=\\prod_{k=0,k\\neq j}^n \\dfrac{x-x_k}{x_j-x_k},$$\n",
    "\n",
    "melynek definiáló tulajdonsága, hogy $l_j(x_m)=\\delta_{jm}$, azaz $l_j$ egy olyan polinom, amely minden alapponton $0$, kivéve $x_j$-ben, ahol pedig $1$.\n",
    "\n",
    "A módszer előnye, hogy ebben a bázisban az interpolációs polinom koordinátái egyszerűek, hiszen $f$ interpoláltját ezek lineáris kombinációjaként a következőképpen kapjuk: $$p(x)=\\sum_{j=0}^n l_j(x)f_j.$$\n"
   ]
  },
  {
   "cell_type": "markdown",
   "id": "5",
   "metadata": {},
   "source": [
    "### 2. Feladat\n",
    "Írjuk fel a $-1, 0, 1$ pontokhoz tartozó $l_j$ polinomokat. Írjuk fel az interpolációs polinomot, ha ezekben a pontokban a felvett értékek rendre $1, 0, 1$. Melyik polinomot kaptuk vissza, milyen bázisban?"
   ]
  },
  {
   "cell_type": "code",
   "execution_count": null,
   "id": "6",
   "metadata": {},
   "outputs": [],
   "source": []
  },
  {
   "cell_type": "markdown",
   "id": "7",
   "metadata": {},
   "source": [
    "Ha $f$ legalább $(n+1)$-szer folytonosan differenciálható, az $n+1$ pontra felírt $n$-edfokú Lagrange interpolációs polinom hibája felírható az alábbi alakban (melyet előadáson láttunk):\n",
    "$$f(x)-p_n(x)=\\dfrac{1}{(n+1)!}\\omega_n(x)f^{(n+1)}(\\xi),$$\n",
    "ahol $\\omega_n(x)=(x-x_0)(x-x_1)...(x-x_n)$ alappolinom, $\\xi$ pedig az $x_k$-kat és $x$-et tartalmazó legszűkebb intervallumban van. Ebből láthatjuk, hogy a Lagrange-interpoláció pontos lesz, ha legfeljebb $n$-edfokú polinomokat interpolálunk, illetve általában következtethetünk arra, hogy ezzel milyen jól közelítjük a függvényt."
   ]
  },
  {
   "cell_type": "markdown",
   "id": "8",
   "metadata": {},
   "source": [
    "### 3. Feladat\n",
    "Legyen $f$ egy $(n+1)$-edfokú polinom, amelyet interpolálni szeretnénk Lagrange-interpolációval az $x_0,x_1...x_n$ alappontokon. Mit mondhatunk el az interpoláció hibájáról?"
   ]
  },
  {
   "cell_type": "code",
   "execution_count": null,
   "id": "9",
   "metadata": {},
   "outputs": [],
   "source": []
  },
  {
   "cell_type": "markdown",
   "id": "10",
   "metadata": {},
   "source": [
    "### Az interpolációs-polinom Newton-féle alakja\n",
    "\n",
    "Az előbbi tulajdonság adhat nekünk arra, hogy az alábbi alakban keressük az interpolációs polinomot. \n",
    "\n",
    "Hogyan tudunk olyan bázist készíteni, melyet könnyen \"frissíthetünk\" akkor, ha új pontpárunk érkezik?\n",
    "\n",
    "Lássunk erre egy algoritmust.\n",
    "\n",
    "Egyetlen $(x_0, y_0)$ pontpár esetén az interpolációs polinom konstans $y_0$.\n",
    "\n",
    "Ha $p_n$ adott $n$-edfokú polinom, mely az $(x_0, \\ldots, x_n)$ alappontokban rendre $(y_0, \\ldots, y_n)$ értékeket vesz fel, akkor adjunk hozzá egy olyan eggyel magasabb fokú tagot, mely ezekben a pontokban $0$-t vesz fel, úgy, hogy az így keletkező polinom legyen az $x_{n+1}$ pontban $y_{n+1}$. Újra visszatérve tehát a gyöktényezős alak ötletéhez, legyen\n",
    "   $$ p_{n+1}(x) = p_n(x) + c_{n+1}\\cdot(x - x_0)(x-x_1)\\cdots(x-x_n)=p_n(x) + c_{n+1}\\cdot \\omega_{n}(x).$$\n",
    "\n",
    "Ekkor $ p_{n+1}(x_j) = p_n(x_j) = y_j$ az utolsó kivételével minden $x_j$ pontban, ahol pedig\n",
    "$$ p_{n+1}(x_{n+1}) = p_n(x_{n+1}) + c_{n+1} \\cdot \\omega_n(x_{n+1}).$$\n",
    "Tehát amennyiben a\n",
    "$$ c_{n+1} = \\frac{y_{n+1} - p_n(x_{n+1})}{\\omega_n(x_{n+1})}$$\n",
    "választással élünk, akkor meg is vagyunk, így a $p_n$ interpolációs polinomot ez esetben az $\\omega_j$ báziselemek lineáris kombinációjaként fejezzük ki, mely bázis bővítése egyszerű."
   ]
  },
  {
   "cell_type": "markdown",
   "id": "11",
   "metadata": {},
   "source": [
    "A Newton-féle,\n",
    "$$ p_{n+1}(x) = p_n(x) + c_{n+1}\\cdot\\omega_n(x)$$\n",
    "\n",
    "alakban előkerülő $c_n$ együtthatót szokás az $n$. osztott differenciának is nevezni. Ennek értéke függ mind az $x_j$ pontoktól, mind pedig az $y_j=f(x_j)$ értékektől. Jelöljük az $i_1, \\ldots i_k$ indexű pontpárokra épülő osztott differenciát $\\delta_{i_1, \\ldots, i_k}$-val; ha az indexek egymást követik, akkor használjuk a $\\delta_{n:n+k}$ jelölést, ezzel $c_{n+1} = \\delta_{0:n}$.\n",
    "Rekurzió:\n",
    "$$\\delta_{0:k+1} = \\frac{\\delta_{1:k+1} - \\delta_{0:k}}{x_{k+1} - x_0}.$$\n",
    "\n",
    "Vizuális segítség:"
   ]
  },
  {
   "attachments": {},
   "cell_type": "markdown",
   "id": "12",
   "metadata": {},
   "source": [
    "<img src=\"images/divdiff_table_lagrange.svg\">"
   ]
  },
  {
   "cell_type": "markdown",
   "id": "13",
   "metadata": {},
   "source": [
    "A táblázat felső (átlós) sora fogja megadni a $c_n$ együtthatókat $f(x_0)$-tól kezdődően."
   ]
  },
  {
   "cell_type": "markdown",
   "id": "14",
   "metadata": {},
   "source": [
    "### 4. Feladat\n",
    "Írjuk fel a $-1, 0, 1$ pontokhoz tartozó $\\omega_j$ polinomokat. Írjuk fel az interpolációs polinomot az osztott differenciák módszerével, ha ezekben a pontokban a felvett értékek rendre $1, 0, 1$. Melyik polinomot kaptuk vissza, milyen bázisban?"
   ]
  },
  {
   "cell_type": "code",
   "execution_count": null,
   "id": "15",
   "metadata": {},
   "outputs": [],
   "source": []
  },
  {
   "cell_type": "markdown",
   "id": "16",
   "metadata": {},
   "source": [
    "### 5.* Feladat\n",
    "Mutassuk meg, hogy $$l_j(x) = \\frac{\\omega_{n}(x)}{x-x_j} \\cdot \\frac{1}{\\omega_{n}'(x_j)}.$$"
   ]
  },
  {
   "cell_type": "code",
   "execution_count": null,
   "id": "17",
   "metadata": {},
   "outputs": [],
   "source": []
  },
  {
   "cell_type": "markdown",
   "id": "18",
   "metadata": {},
   "source": [
    "----------\n",
    "#### Hermite-interpoláció\n",
    "\n",
    "Tegyük fel, hogy $x_0, \\ldots, x_{n}$ alappontokonban rendelkezésünkre állnak $y_0, \\ldots, y_{n}$ függvényértékek és $y_0', \\ldots, y_{n}'$ deriváltértékek.\n",
    "\n",
    "Konstruáljunk olyan (legfeljebb) $(2(n+1) - 1)$-edfokú polinomot, mely, illetve melynek deriváltja az alappontokban a megfelelő értékeket veszi fel!\n",
    "\n",
    "**Egy alappont esete:**\n",
    "$$x \\mapsto y_0 + y_0'(x- x_0)$$"
   ]
  },
  {
   "cell_type": "markdown",
   "id": "19",
   "metadata": {},
   "source": [
    "### 6. Feladat\n",
    "\n",
    "Legyen $f$ kellően sima függvény. Melyik a legjobb nulladfokú polinom közelítése a függvénynek egy pontban, mely benne van az értelmezési tartományában? A legjobb elsőfokú? A legjobb $k$-adfokú?"
   ]
  },
  {
   "cell_type": "code",
   "execution_count": null,
   "id": "20",
   "metadata": {},
   "outputs": [],
   "source": []
  },
  {
   "cell_type": "markdown",
   "id": "21",
   "metadata": {},
   "source": [
    "### 7. Feladat\n",
    "\n",
    "Az 1. feladathoz hasonlóan adjuk meg azt a lineáris egyenletrendszert adott $x_0,x_1,...x_n$,  $y_0,y_1,...y_n$ és $y_0', \\ldots, y_{n}'$ értékek mellett, amelynek megoldása pont az egyértelmű interpolációs polinom együtthatóit adja meg."
   ]
  },
  {
   "cell_type": "code",
   "execution_count": null,
   "id": "22",
   "metadata": {},
   "outputs": [],
   "source": []
  },
  {
   "cell_type": "markdown",
   "id": "23",
   "metadata": {},
   "source": [
    "**Több alappont esete:**\n",
    "\n",
    "Ha $x_0, \\ldots, x_{n-1}$-re már van egy megfelelő, $p_{2n-1}$ polinomunk, akkor keressük az új, $p_{2n+1}$ polinomot a következő alakban:\n",
    "\n",
    "$$p_{2n+1} = p_{2n-1} + q_{2n+1},$$\n",
    "\n",
    "ahol $q_{2n+1}$ egy olyan polinom, melynek 0. és 1. deriváltjai az első $n$ pontban mind nullák, és foka kettővel nagyobb.\n",
    "\n",
    "Hogyan tudnánk ilyen $q_{2n+1}$ polinomot konstruálni a $w_{n-1}(x) = (x- x_0)(x-x_1) \\cdots (x - x_{n-1})$ polinomból?\n",
    "\n",
    "<details>\n",
    "<summary></summary>\n",
    "    Legyen\n",
    "    $$ q_{2n+1}(x) = w_{n}^2(x)( b_{2n+1} + a_{2n+1}(x-x_{n})).$$\n",
    "</details>\n",
    "\n",
    "**Ötlet:** Az ismeretlen együtthatók meghatározhatók a két új adat behelyettesítésével.\n",
    "\n",
    "Először:\n",
    "$$ y_{n} = p_{2n-1}(x_{n}) + q_{2n+1}(x_{n}) $$\n",
    "<details>\n",
    "<summary></summary>\n",
    "    Innen: $$ b_{2n+1} = \\frac{y_n - p_{2n-1}(x_n)}{w_n^2(x_n)} $$\n",
    "</details>\n",
    "Másodszor:\n",
    "$$ y_{n}' = p_{2n-1}'(x_{n}) + q_{2n+1}'(x_{n}) $$\n",
    "<details>\n",
    "<summary></summary>\n",
    "    Deriválással látható, hogy \n",
    "$$ q_{2n+1}'(x) = 2w_{n}'(x)w_n(x)( b_{2n+1} + a_{2n+1}(x-x_{n})) + w_n^2(x)a_{2n+1},$$\n",
    "azaz\n",
    "$$ p_{2n+1}'(x_n) = p_{2n}'(x_n) + 2w_{n}'(x_n)w_n(x_n)b_{2n+1} + w_n^2(x_n)a_{2n+1},$$\n",
    "ahonnan\n",
    "$$\n",
    "a_{2n+1} = \\frac{y_n' - p_{2n}'(x_n) - 2w_{n}'(x_n)w_n(x_n)b_{2n+1} }{w_n^2(x_n)}.\n",
    "$$\n",
    "</details>"
   ]
  },
  {
   "cell_type": "markdown",
   "id": "24",
   "metadata": {},
   "source": [
    "### 8. Feladat\n",
    "Írjuk fel Hermite-interpoláció ötletével azt a polinomot, amire az $x_0 = -1$ pontban $y_0 = 1$, $y_0' = -2$ és amire a $x_1 = 0$ pontban $y_1 = 0$. Hogyan változik a polinom, ha azt is tudjuk, hogy $y_1' = 0$?"
   ]
  },
  {
   "cell_type": "code",
   "execution_count": null,
   "id": "25",
   "metadata": {},
   "outputs": [],
   "source": []
  },
  {
   "cell_type": "markdown",
   "id": "26",
   "metadata": {},
   "source": [
    "Magasabb rendű deriváltak is adottak lehetnek az alappontokon. Az Hermite-interpolációs polinomot is felírhatjuk Newton-alakban. Ez utóbbit úgy készítjük el, hogy mindegyik $x_k$ alappontot $m_k + 1$-szer veszünk fel az első\n",
    "oszlopban $(m_k \\text{ deriváltat ismerünk } x_k\\text{-ban})$, melléjük $f(z_k)$-t írjuk, továbbá az $i$-ed rendű osztott differenciák oszlopában\n",
    "azonos alappontok esetén (azaz ha nullával osztanánk) az $\\dfrac{f^{(i)}(x_k)}{i!}$\n",
    "értéket írjuk be."
   ]
  },
  {
   "cell_type": "markdown",
   "id": "27",
   "metadata": {},
   "source": [
    "Például, ha az $f(x)=x^8+1$ függvényt közelítenénk a $-1,0,1$ pontokon, ahol ismerjük a függvényértékeket és az első, illetve második deriváltakat:"
   ]
  },
  {
   "attachments": {},
   "cell_type": "markdown",
   "id": "28",
   "metadata": {},
   "source": [
    "<img src=\"images/divdiff_table_hermite.svg\">"
   ]
  },
  {
   "cell_type": "markdown",
   "id": "29",
   "metadata": {},
   "source": [
    "Az alappolinomokat is ennek megfelelően tekintjük. A példában $$\\omega_j(x)=\\prod_{k=0}^j(x-z_k), \\qquad j\\in\\{0,1,2,...8\\}$$\n",
    "így az interpolációs polinom felírható $$2\\cdot \\omega_0(x)-8\\cdot\\omega_1(x)+28\\cdot\\omega_2(x)+ \\ldots - \\omega_7(x)+\\omega_8(x)$$ alakban."
   ]
  },
  {
   "cell_type": "markdown",
   "id": "30",
   "metadata": {},
   "source": [
    "### 9. Feladat\n",
    "\n",
    "Írjuk fel a Hermite-interpolációs polinomját Newton alakban az $f(x)=3^x$ függvénynek, ha a $0$ és $2$ pontokban van előírva a függvény és az első derivált értéke."
   ]
  },
  {
   "cell_type": "code",
   "execution_count": null,
   "id": "31",
   "metadata": {},
   "outputs": [],
   "source": []
  },
  {
   "cell_type": "markdown",
   "id": "32",
   "metadata": {},
   "source": [
    "### P1. Feladat\n",
    "\n",
    "Írjunk programot, ami adott $x$ és $y$ -pontokat és az ott felveendő értékeket tartalmazó- vektorokra interpolációs polinomot illeszt az 1. feladatbeli módszerrel. Számoljuk ki a rendszert leíró mátrix kondíciószámát, ha $x=[2,3,6,10,14]$ és $y=[1,-2,4,9,13]$."
   ]
  },
  {
   "cell_type": "code",
   "execution_count": null,
   "id": "33",
   "metadata": {},
   "outputs": [],
   "source": []
  },
  {
   "cell_type": "markdown",
   "id": "34",
   "metadata": {},
   "source": [
    "### P2. Feladat\n",
    "\n",
    "Írjunk programot, ami adott $x$ és $y$ -pontokat és az ott felveendő értékeket tartalmazó- vektorokra interpolációs polinomot illeszt a Newton-alak használatával, majd egy további $z$ pontban kiértékeli azt."
   ]
  },
  {
   "cell_type": "code",
   "execution_count": null,
   "id": "35",
   "metadata": {},
   "outputs": [],
   "source": []
  },
  {
   "cell_type": "markdown",
   "id": "36",
   "metadata": {},
   "source": [
    "### P3. Feladat\n",
    "Tekintsük az $$f(x) = \\frac{1}{1 + 25x^2}$$ függvényt a $[-1, 1]$ intervallumon. Írjunk programot, ami adott $n$ esetén  az intervallum egy $n+1$ elemű, egyenletes rácsán felvett értékek alapján $n$-edfokú polinomot illeszt erre a függvényre. \n",
    "\n",
    "Ábrázoljuk a kapott polinomokat $n=2,4,8,12$ esetén. Mit tapasztalunk?"
   ]
  },
  {
   "cell_type": "code",
   "execution_count": null,
   "id": "37",
   "metadata": {},
   "outputs": [],
   "source": []
  },
  {
   "cell_type": "markdown",
   "id": "38",
   "metadata": {},
   "source": [
    "*Megjegyzés:* A **Weierstrass-tétel** szerint minden $[-1, 1] \\to \\mathbb{R}$ folytonos függvény egyenletesen, tetszőleges pontossággal megközelíthető polinomokkal.\n",
    "\n",
    "Gondolhatnánk, hogy ennek bizonyítása lehetne az, hogy adott $n>0$ egész esetén veszünk egy $n+1$ pontból álló, egyenletes rácsot a $[-1, 1]$ intervallumon, majd ezekre $n$-edfokú polinomot illesztünk és készen vagyunk, de sajnos ez nincs így."
   ]
  },
  {
   "cell_type": "markdown",
   "id": "39",
   "metadata": {},
   "source": [
    "Nézzük meg, hogy tudjuk-e reprodukálni a problémát akkor, ha a fenti képletben elhagyjuk a $25$-öt. Hogyan magyarázható az ábrákon tapasztalt különbség?"
   ]
  },
  {
   "cell_type": "code",
   "execution_count": null,
   "id": "40",
   "metadata": {},
   "outputs": [],
   "source": []
  },
  {
   "cell_type": "markdown",
   "id": "41",
   "metadata": {},
   "source": [
    "### P4. Feladat\n",
    "Írjunk programot, mely egy polinomot a Horner-séma szerint értékel ki.\n",
    "\n",
    "**Emlék:**\n",
    "$$ c_0 + c_1 x + c_2 x^2 + \\ldots \\qquad \\text{helyett} \\qquad c_0 + x \\left( c_1 + x \\left( c_2 + \\ldots \\right) \\right)$$\n",
    "\n",
    "Hogyan alakul a műveletigénye a két megközelítésnek?"
   ]
  },
  {
   "cell_type": "code",
   "execution_count": null,
   "id": "42",
   "metadata": {},
   "outputs": [],
   "source": []
  },
  {
   "cell_type": "markdown",
   "id": "43",
   "metadata": {},
   "source": [
    "### P5. Feladat\n",
    "\n",
    "Írjunk programot, ami adott $x$ és $y, y'$ -pontokat és az ott felveendő értékeket, illetve deriváltakat tartalmazó- vektorokra Hermite-féle interpolációs polinomot illeszt, majd egy további $z$ pontban kiértékeli azt."
   ]
  },
  {
   "cell_type": "code",
   "execution_count": null,
   "id": "44",
   "metadata": {},
   "outputs": [],
   "source": []
  }
 ],
 "metadata": {
  "kernelspec": {
   "display_name": "Python 3 (ipykernel)",
   "language": "python",
   "name": "python3"
  },
  "language_info": {
   "codemirror_mode": {
    "name": "ipython",
    "version": 3
   },
   "file_extension": ".py",
   "mimetype": "text/x-python",
   "name": "python",
   "nbconvert_exporter": "python",
   "pygments_lexer": "ipython3",
   "version": "3.11.8"
  }
 },
 "nbformat": 4,
 "nbformat_minor": 5
}
