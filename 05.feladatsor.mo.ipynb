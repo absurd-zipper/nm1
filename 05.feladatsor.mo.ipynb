{
 "cells": [
  {
   "cell_type": "markdown",
   "id": "0",
   "metadata": {},
   "source": [
    "# 5. Feladatsor: megoldások\n",
    "\n",
    "*(Nemlineáris egyenletek: visszatekintés a gradiens-ereszkedésre, Newton-iteráció)*"
   ]
  },
  {
   "cell_type": "markdown",
   "id": "1",
   "metadata": {},
   "source": [
    "### P1. Feladat\n",
    "Gondoljuk meg, hogy az $x_0 = 2^{255}$ pontból indulva az\n",
    "\n",
    "a) $x_02^{-n}$\n",
    "\n",
    "b) $x_02^{-n^2}$\n",
    "\n",
    "c) $x_02^{-2^{n}}$\n",
    "\n",
    "sorozatok hány lépés alatt érnek be a $0$ pont $\\frac12$ sugarú, zárt gömbi környezetébe, majd írjunk programot és mérjük is meg, hogy valóban jól gondolkodtunk."
   ]
  },
  {
   "cell_type": "code",
   "execution_count": null,
   "id": "2",
   "metadata": {},
   "outputs": [],
   "source": [
    "from typing import Callable, Iterable\n",
    "from functools import wraps\n",
    "\n",
    "from itertools import dropwhile, accumulate, repeat, starmap\n",
    "\n",
    "def first(x): return x[0]\n",
    "def last(x): return x[-1]\n",
    "\n",
    "def index_of_first(condition: Callable[(float,), bool], iterable: Iterable[float]):\n",
    "    return first(next(\n",
    "            dropwhile(\n",
    "                lambda n_xn: not condition(last(n_xn)), \n",
    "                enumerate(iterable)\n",
    "            )\n",
    "    ))\n",
    "    \n",
    "def somuchfun(rule: Callable[(int, float), float], x0: float) -> int:\n",
    "    return index_of_first(\n",
    "        lambda x: x <= .5 + 1e-16, \n",
    "        starmap(rule, enumerate(repeat(x0)))\n",
    "    )"
   ]
  },
  {
   "cell_type": "code",
   "execution_count": null,
   "id": "3",
   "metadata": {},
   "outputs": [],
   "source": [
    "somuchfun(lambda n, x: x*2**(-n), 2**255)"
   ]
  },
  {
   "cell_type": "code",
   "execution_count": null,
   "id": "4",
   "metadata": {},
   "outputs": [],
   "source": [
    "somuchfun(lambda n, x: x*2**(-n**2), 2**255)"
   ]
  },
  {
   "cell_type": "code",
   "execution_count": null,
   "id": "5",
   "metadata": {},
   "outputs": [],
   "source": [
    "somuchfun(lambda n, x: x*2**(-2**n), 2**255)"
   ]
  },
  {
   "cell_type": "markdown",
   "id": "6",
   "metadata": {},
   "source": [
    "### P2. Feladat\n",
    "\n",
    "Alkalmazzuk a Newton-iterációt az $f(x, y) = \\sin^2(x) + \\sin^2(y) $ függvény $0$-hoz legközelebb eső minimumhelyének meghatározására, ha tudjuk, hogy az a nulla körül konvex, az alábbiak szerint:\n",
    "\n",
    "a) Számoljuk ki $f$ deriváltját.\n",
    " \n",
    "b) Az $(\\frac14, \\frac14)$ pontból indítsunk Newton-iterációt az $f'$ (egy) gyökének meghatározására."
   ]
  },
  {
   "cell_type": "code",
   "execution_count": null,
   "id": "7",
   "metadata": {},
   "outputs": [],
   "source": [
    "import numpy as np\n",
    "\n",
    "from matplotlib import pyplot as plt\n",
    "\n",
    "xs = np.linspace(-np.pi/2, np.pi/2, 301)\n",
    "X, Y = np.meshgrid(xs, xs)\n",
    "\n",
    "fig, ax = plt.subplots(\n",
    "    figsize=(10,10),\n",
    "    subplot_kw={\"projection\": \"3d\"}\n",
    ")\n",
    "ax.plot_surface(X, Y, np.sin(X)**2 + np.sin(Y)**2, cmap='jet')\n",
    "ax.set_title(r\"$\\sin(x)^2 + \\sin(y)^2$\")"
   ]
  },
  {
   "cell_type": "code",
   "execution_count": null,
   "id": "8",
   "metadata": {},
   "outputs": [],
   "source": [
    "from typing import Callable, Iterable, Any\n",
    "from functools import wraps\n",
    "\n",
    "from itertools import dropwhile, accumulate, repeat\n",
    "\n",
    "# :(\n",
    "A = Any\n",
    "\n",
    "def iterate(f: Callable[(A,), A]) -> Callable[(A,), Iterable[A]]:\n",
    "    @wraps(f)\n",
    "    def _(x0):\n",
    "        return accumulate(\n",
    "          repeat(x0),\n",
    "          lambda x,_: f(x)\n",
    "        )\n",
    "    return _"
   ]
  },
  {
   "cell_type": "code",
   "execution_count": null,
   "id": "9",
   "metadata": {},
   "outputs": [],
   "source": [
    "from dataclasses import dataclass\n",
    "from __future__ import annotations\n",
    "\n",
    "V = np.ndarray\n",
    "Matrix = np.matrix\n",
    "\n",
    "FixedPointIterationState = tuple[int, V, V]\n",
    "\n",
    "def initial_state(x: V) -> FixedPointIterationState:\n",
    "    return 0, np.inf*x, x\n",
    "\n",
    "@dataclass\n",
    "class StoppingCondition:\n",
    "    norm: Callable[(V,), float]\n",
    "    atol: float\n",
    "    rtol: float\n",
    "    max_steps: int\n",
    "\n",
    "    def holds(self, state: FixedPointIterationState) -> bool:\n",
    "        n, d, x = state\n",
    "\n",
    "        if n > self.max_steps:\n",
    "            return False\n",
    "\n",
    "        abs_err = self.norm(d)\n",
    "        return all([\n",
    "            abs_err <= self.atol,\n",
    "            abs_err <= self.rtol * self.norm(x)\n",
    "        ])\n",
    "\n",
    "    def does_not_hold(self, state: FixedPointIterationState) -> bool:\n",
    "        return not self.holds(state)\n",
    "\n",
    "\n",
    "@dataclass\n",
    "class IterationResult:\n",
    "    x: V\n",
    "    success: bool\n",
    "    abs_err: float\n",
    "    rel_err: float\n",
    "    step_num: int\n",
    "\n",
    "    @staticmethod\n",
    "    def from_state_and_stopping_condition(\n",
    "        state: FixedPointIterationState,\n",
    "        stopping_condition: StoppingCondition\n",
    "    ) -> IterationResult:\n",
    "        n, d, x = state\n",
    "\n",
    "        abs_err = stopping_condition.norm(d)\n",
    "        return IterationResult(\n",
    "            x=x,\n",
    "            success=stopping_condition.holds(state),\n",
    "            abs_err=abs_err,\n",
    "            rel_err=abs_err / (1e-16 + stopping_condition.norm(x)),\n",
    "            step_num=n,\n",
    "        )\n",
    "\n",
    "def fixpoint_iteration(\n",
    "    displacement: Callable[(V,), V],\n",
    "    stopping_condition: StoppingCondition,\n",
    "    x0: V\n",
    ") -> IterationResult:\n",
    "    \n",
    "    def step(state: FixedPointIterationState) -> FixedPointIterationState:\n",
    "        n, d, x = state\n",
    "        d1 = displacement(x)\n",
    "        return n+1, d1, x + d1\n",
    "    \n",
    "    final_state = next(dropwhile(\n",
    "        stopping_condition.does_not_hold,\n",
    "        iterate(step)(initial_state(x0)),\n",
    "    ))\n",
    "\n",
    "    return IterationResult.from_state_and_stopping_condition(\n",
    "        final_state,\n",
    "        stopping_condition\n",
    "    )"
   ]
  },
  {
   "cell_type": "code",
   "execution_count": null,
   "id": "10",
   "metadata": {},
   "outputs": [],
   "source": [
    "def newton_displacement(\n",
    "    f: Callable[(V,), V],\n",
    "    df: Callable[(V,), Matrix],\n",
    ") -> Callable[(V,), V]:\n",
    "    def displacement(x: V) -> V:\n",
    "        return np.linalg.solve(df(x), -f(x))\n",
    "    return displacement\n",
    "    \n",
    "def newton_iteration(\n",
    "    f: Callable[(V,), V],\n",
    "    df: Callable[(V,), Matrix],\n",
    "    stopping_condition: StoppingCondition,\n",
    "    x0: V\n",
    ") -> IterationResult:\n",
    "    return fixpoint_iteration(newton_displacement(f, df), stopping_condition, x0)"
   ]
  },
  {
   "cell_type": "code",
   "execution_count": null,
   "id": "11",
   "metadata": {},
   "outputs": [],
   "source": [
    "stopping_condition = StoppingCondition(\n",
    "    np.linalg.norm,\n",
    "    atol=1e-4,\n",
    "    rtol=1e-4,\n",
    "    max_steps=10**10,\n",
    ")"
   ]
  },
  {
   "cell_type": "code",
   "execution_count": null,
   "id": "12",
   "metadata": {},
   "outputs": [],
   "source": [
    "def f(x: V) -> V:\n",
    "    return np.sin(2*x)\n",
    "\n",
    "def df(x: V) -> Matrix:\n",
    "    return np.diag(2*np.cos(2*x))"
   ]
  },
  {
   "cell_type": "code",
   "execution_count": null,
   "id": "13",
   "metadata": {},
   "outputs": [],
   "source": [
    "newton_iteration(\n",
    "    f, df, stopping_condition, .25*np.ones((2,))\n",
    ")"
   ]
  },
  {
   "cell_type": "markdown",
   "id": "14",
   "metadata": {},
   "source": [
    "### P3. Feladat\n",
    "\n",
    "Tekinsük az alábbi egyenletrendszert:\n",
    "$$\n",
    "\\begin{cases}\n",
    "5 x^2 - y^2 &= 0,\\\\\n",
    "y - 0.25(\\sin x +\\cos y) &= 0.\n",
    "\\end{cases}\n",
    "$$\n",
    "\n",
    "Newton-iteráció segítségével keressük ennek a $(\\frac12, \\frac12)$ pont környezetében lévő megoldását!"
   ]
  },
  {
   "cell_type": "code",
   "execution_count": null,
   "id": "15",
   "metadata": {},
   "outputs": [],
   "source": [
    "def f(xy: V) -> V:\n",
    "    x, y = xy\n",
    "    return np.array([\n",
    "        5*x**2 - y**2,\n",
    "        y - .25*(np.sin(x) + np.cos(y))\n",
    "    ])\n",
    "\n",
    "def df(xy: V) -> Matrix:\n",
    "    x, y = xy\n",
    "    return np.matrix([\n",
    "        [10*x, -2*y],\n",
    "        [-.25*np.cos(x), 1 + .25*np.sin(y)],\n",
    "    ])"
   ]
  },
  {
   "cell_type": "code",
   "execution_count": null,
   "id": "16",
   "metadata": {},
   "outputs": [],
   "source": [
    "res = newton_iteration(\n",
    "    f, df, stopping_condition, .5*np.ones((2,))\n",
    ")\n",
    "res"
   ]
  },
  {
   "cell_type": "code",
   "execution_count": null,
   "id": "17",
   "metadata": {},
   "outputs": [],
   "source": [
    "f(res.x)"
   ]
  }
 ],
 "metadata": {
  "kernelspec": {
   "display_name": "Python 3 (ipykernel)",
   "language": "python",
   "name": "python3"
  },
  "language_info": {
   "codemirror_mode": {
    "name": "ipython",
    "version": 3
   },
   "file_extension": ".py",
   "mimetype": "text/x-python",
   "name": "python",
   "nbconvert_exporter": "python",
   "pygments_lexer": "ipython3",
   "version": "3.11.8"
  }
 },
 "nbformat": 4,
 "nbformat_minor": 5
}
