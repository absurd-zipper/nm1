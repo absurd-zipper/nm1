{
 "cells": [
  {
   "cell_type": "markdown",
   "id": "0",
   "metadata": {},
   "source": [
    "# 3. Feladatsor\n",
    "*(Normálegyenlet, iteratív megoldók, gradiens-ereszkedés)*"
   ]
  },
  {
   "cell_type": "markdown",
   "id": "1",
   "metadata": {},
   "source": [
    "## Normálegyenlet\n",
    "\n",
    "Az $Ax = b$ egyenlet $\\| \\cdot \\|_2$ szerinti legjobb megoldása, azaz a $b$ vektor vetülete $\\operatorname{ran}(A)$-ra. Ekkor az $Ax - b$ hibavektor merőleges az $A$ képterére, azaz $A^*$ magjában van, tehát\n",
    "$$\n",
    "A^*(Ax -b) = 0.\n",
    "$$"
   ]
  },
  {
   "cell_type": "markdown",
   "id": "2",
   "metadata": {},
   "source": [
    "### 1. Feladat\n",
    "\n",
    "Legyen\n",
    "$$\n",
    "A = \\begin{bmatrix}\n",
    "    1 & 0 \\\\\n",
    "    0 & 1 \\\\\n",
    "    0 & 0\n",
    "    \\end{bmatrix}.\n",
    "$$\n",
    "\n",
    "a) Mi $A$ képtere?\n",
    "\n",
    "b) Mi $A^*$ magja?\n",
    "\n",
    "c) Mi az $A x = [1, 1, 1]^T$ 2-es norma szerinti legjobb megoldása, geometrialiag?\n",
    "\n",
    "d) Írjuk fel a normálegyenletet és oldjuk is meg."
   ]
  },
  {
   "cell_type": "code",
   "execution_count": null,
   "id": "3",
   "metadata": {},
   "outputs": [],
   "source": []
  },
  {
   "cell_type": "markdown",
   "id": "4",
   "metadata": {},
   "source": [
    "## Iteratív megoldók\n",
    "\n",
    "**Tétel (Banach-fixpont)**: Ha $X$ teljes metrikus tér, $f: X \\to X$ kontrakció, akkor $f$-nek pontosan egy fixpontja van, továbbá tetszőleges $x_0$  esetén az $x_{n+1} = f(x_n)$ képlettel definiált sorozat tart ehhez a fixponthoz.\n",
    "\n",
    "**Következmény:** Ha $f: V \\to V$ kontrakció egy adott normában, azaz Lipschitz-folytonos és a megfelelő $0 \\leq L < 1$ konstans mellett minden $x,y \\in V$ pontra $\\|f(x) - f(y)\\| \\leq L \\| x - y\\|$ teljesül, akkor $f$-nek van fixpontja és tetszőleges kezdőpontból indulva, az $f$ ismételt alkalmazásával tartani tudunk ehhez.\n",
    "\n",
    "**Példa:**\n",
    "$f(x) = \\frac12 x$ esetén $f(0) = 0$, és $x_n = 2^{-n} x_0$ nullához tart."
   ]
  },
  {
   "cell_type": "markdown",
   "id": "5",
   "metadata": {},
   "source": [
    "**Példa:** Ha $f(x) = Ax + b$ alakú, azaz affin függvény, akkor adódik, hogy\n",
    "$$ \\| f(x) - f(y) \\| \\leq \\| A \\| \\|x - y\\|, $$\n",
    "\n",
    "tehát amennyiben $A$ operátornormája kisebb mint egy, akkor $f$ kontrakció. Végesdimenzióban $A$ egy mátrix, $b$ egy oszlopvektor, $\\|A\\|$ az $A$ indukált mátrixnormája.\n",
    "\n",
    "**Következmény:** Egy affin függvény iterálásával kapott sorozat végesdimenzióban konvergens lesz ha van olyan norma, ami által indukált operátornormája a függvényben szereplő mátrixnak kisebb, mint $1$.\n",
    "\n",
    "**Tétel:** $$\\rho(A) = \\inf\\{\\| A\\| : \\| \\cdot \\| \\text{ indukált mátrixnorma}\\}$$\n",
    "\n",
    "**Következmény:** Ha $\\rho(A) < 1$, akkor a megfelelő affin függvény iterálásával kapott sorozat konvergens, hiszen van olyan indukált mátrixnorma, amivel $\\rho(A) \\leq \\|A\\| < \\rho(A) + \\epsilon < 1$.\n",
    "\n",
    "**Ötlet:** Ha az $Ax = b$ egyenletet szeretnénk megoldani, akkor készítsünk olyan $f$ kontrakciót, amelynek $x^*$ fixpontjára $Ax^* = b$."
   ]
  },
  {
   "cell_type": "markdown",
   "id": "6",
   "metadata": {},
   "source": [
    "### Hogyan készíthetünk ilyen fixpont-iterációt I.\n",
    "\n",
    "Legegyszerűbb megközelités (egyszerű- vagy **Richardson-iteráció**)\n",
    "$$\n",
    "\\begin{align}\n",
    "Ax &= b\\\\\n",
    "0 &= b - Ax \\\\\n",
    "x &= x - Ax + b \\\\\n",
    "\\\\\n",
    "f(x) &= (I-A)x +b\n",
    "\\end{align}\n",
    "$$\n",
    "\n",
    "Egy gond ezzel, hogy sokszor az $I-A$ mátrix spektrálsugara még nem elég kicsi. Ezen segithetünk egy $\\omega$ paraméter bevezetésével:\n",
    "$$\n",
    "\\begin{align}\n",
    "Ax &= b\\\\\n",
    "0 &= \\omega(b - Ax) \\\\\n",
    "x &= x - \\omega Ax + \\omega b \\\\\n",
    "\\\\\n",
    "f_{\\omega}(x) &= (I-\\omega A)x +\\omega b\n",
    "\\end{align}\n",
    "$$\n",
    "\n",
    "Itt $\\rho(I-\\omega A) < 1$ pontosan akkor teljesül, ha az $A$ mátrix $\\lambda$ sajátértékeire $| 1 - \\omega \\lambda | < 1$. A konvergencia akkor a leggyorsabb, ha ez a spektrálsugár minél kisebb. Például ha az $A$ mátrix szimmetrikus és pozitiv definit akkor az optimális választás $\\omega$-ra: \n",
    "\n",
    "$$\\omega_{\\text{opt}} = \\frac{2}{\\lambda_{\\min} + \\lambda_{\\max}}.$$"
   ]
  },
  {
   "cell_type": "markdown",
   "id": "7",
   "metadata": {},
   "source": [
    "### 2. Feladat\n",
    "\n",
    "Miért ez az $\\omega_{\\text{opt}}$?"
   ]
  },
  {
   "cell_type": "code",
   "execution_count": null,
   "id": "8",
   "metadata": {},
   "outputs": [],
   "source": []
  },
  {
   "cell_type": "markdown",
   "id": "9",
   "metadata": {},
   "source": [
    "### Hogyan készíthetünk ilyen fixpont-iterációt II.\n",
    "\n",
    "A fenti átalakitás általánosítása, ha $A=M-N$ felbontással élünk, majd ezzel számolunk.\n",
    "    \n",
    "$$\n",
    "\\begin{align}\n",
    "Ax &= b\\\\\n",
    "(M-N)x &= b\\\\\n",
    "Mx &= Nx + b\\\\\n",
    "x &= M^{-1}N x + M^{-1} b\\\\\n",
    "\\\\\n",
    "f(x) &= M^{-1}N x + M^{-1} b\n",
    "\\end{align}\n",
    "$$\n",
    "\n",
    "Itt tehát az iterációs mátrix $B=M^{-1}N$ és ennek a spektrálsugarát már hatékonyabban tudjuk befolyásolni az $M, N$ alkalmas megválasztásával.\n",
    "\n",
    "#### Nevezetes módszerek\n",
    "\n",
    "Legyen $A = L+ D+ U$ egy felbontása az $A$ mátrixnak rendre szigorú alsóháromszög, diagonális, és szigorú felsőháromszög mátrixokra. \n",
    "\n",
    " * **Jacobi** iteráció: $M = D$\n",
    " * Relaxált Jacobi (**JOR**): $ M = \\frac1\\omega D$\n",
    " * **Gauss-Seidel** iteráció: $M = D + L$\n",
    " * Relaxált Gauss-Seidel (**SOR**): $M = \\frac1\\omega D + L$\n",
    "\n",
    "**Tétel:** Ha $A$ szigorúan diagonálisan domináns (SZDD), akkor a Jacobi és a Gauss-Seidel iteráció konvergens.\n",
    "\n",
    "**Definíció:** Egy négyzetes mátrixot M-mátrixnak nevezünk, ha főátlóján kívül nempozitív elemei vannak, és van olyan elemenként pozitív vektor, melynek a mátrix általi képe szintén elemenként pozitív.\n",
    "\n",
    "**Tétel:** Ha $A$ M-mátrix, akkor konvergens a JOR és az SOR $0 < \\omega < 1$ esetén.\n",
    "\n",
    "\n",
    "**Tétel:** Ha $A$ szimmetrikus és pozitív definit (SZPD), akkor konvergens az SOR iteráció $0 < \\omega < 2$ esetén."
   ]
  },
  {
   "cell_type": "markdown",
   "id": "10",
   "metadata": {},
   "source": [
    "### 3. Feladat\n",
    "\n",
    "Legyen $A$ SZDD. A Gersgorin-tétel segítségével mutasssuk meg, hogy $\\rho(D^{-1}(D - A)) < 1$, azaz a Jacobi-iteráció konvergál."
   ]
  },
  {
   "cell_type": "code",
   "execution_count": null,
   "id": "11",
   "metadata": {},
   "outputs": [],
   "source": []
  },
  {
   "cell_type": "markdown",
   "id": "12",
   "metadata": {},
   "source": [
    "### 4. Feladat\n",
    "Tekintsük az\n",
    "$$\n",
    "\\left[\\matrix{2 & -1 \\cr -1 & 2}\\right] x= \\left[ \\matrix{1 \\cr 3} \\right]\n",
    "$$\n",
    "egyenletet.\n",
    "\n",
    "a) Melyik módszereket használhatjuk ennek iteratív megoldására?\n",
    "\n",
    "b) Írjuk fel a JOR iterációhoz tartozó iterációs mátrixot. Hogy alakul ennek spektrálsugara az $\\omega$ függvényeként? Milyen $\\omega$ választással lesz a leggyorsabb a konvergencia?"
   ]
  },
  {
   "cell_type": "code",
   "execution_count": null,
   "id": "13",
   "metadata": {},
   "outputs": [],
   "source": []
  },
  {
   "cell_type": "markdown",
   "id": "14",
   "metadata": {},
   "source": [
    "## Gradiens-alapú módszerek\n",
    "\n",
    "Bizonyos esetekben egy lineáris algebrai egyenletrendszer megoldása előáll mint egy megfelelő függvény minimumhelye."
   ]
  },
  {
   "cell_type": "markdown",
   "id": "15",
   "metadata": {},
   "source": [
    "### 5. Feladat\n",
    "\n",
    "Legyen $\\phi: V \\mapsto \\mathbb{R}$ definíciója \n",
    "$$\\phi_{A,b}(x) = x^T A x - b^Tx.$$\n",
    "\n",
    "Mutassuk meg az alábbiakat.\n",
    "\n",
    "a) \n",
    "$$\n",
    "\\phi'_{A,b}(x) = \\nabla \\phi_{A,b} (x) =  x^T(A + A^T) - b^T\n",
    "$$\n",
    "\n",
    "b)\n",
    "\n",
    "$$\n",
    "\\phi_{A,b}''(x) = A + A^T\n",
    "$$\n",
    "\n",
    "c)\n",
    "$$\n",
    "\\phi_{A,b} (x) = x^T \\frac{(A + A^T)}{2} x - b^Tx,\n",
    "$$\n",
    "azaz feltehetjük, hogy $A$ szimmetrikus.\n",
    "\n",
    "d)\n",
    "\n",
    "Ha $A$ szimmetrikus és sajátérték-felbontása $A=Q\\Lambda Q^T$, akkor\n",
    "$$\n",
    "\\phi_{A,b}(x) = \\phi_{\\Lambda, Q^T b}(Q^Tx).\n",
    "$$"
   ]
  },
  {
   "cell_type": "code",
   "execution_count": null,
   "id": "16",
   "metadata": {},
   "outputs": [],
   "source": []
  },
  {
   "cell_type": "markdown",
   "id": "17",
   "metadata": {},
   "source": [
    "### 6. Feladat\n",
    "\n",
    "Láttuk, hogy ha $A$ SZPD, akkor a Richardson-iteráció alkalmazható. Ebben az esetben gondoljuk meg a következőket.\n",
    "\n",
    "a) Az $x$ megoldása az $Ax = b$ egyenletnek pontosan akkor, ha $x$ az $\\phi_{A/2, b}$ funkcionál kritikus pontja. \n",
    "\n",
    "b) A Richardson-iteráció egy lépése valójában a \n",
    "$$x_{k+1} = x_k - \\omega \\phi'_{A/2, b} (x_k) $$\n",
    "formulával írható le."
   ]
  },
  {
   "cell_type": "code",
   "execution_count": null,
   "id": "18",
   "metadata": {},
   "outputs": [],
   "source": []
  },
  {
   "cell_type": "markdown",
   "id": "19",
   "metadata": {},
   "source": [
    "#### Gradiens-ereszkedés (vagy -módszer)\n",
    "Legyen $\\phi: V \\to \\mathbb{R}$. Ekkor az\n",
    "\n",
    "$$\n",
    "x_{k+1} = x_k - \\alpha_k \\nabla \\phi(x_k)\n",
    "$$\n",
    "\n",
    "iterációt gradiens-ereszkedésnek nevezzük. Itt $\\phi$ például konvex, folytonosan differenciálható funkcionál, melynek gradiense Lipschitz-folytonos; $\\alpha_k > 0$ pedig a lépéshosszok."
   ]
  },
  {
   "cell_type": "markdown",
   "id": "20",
   "metadata": {},
   "source": [
    "### 7. Feladat\n",
    "\n",
    "A Richardson-iteráció tehát tekinthető egy állandó lépéshosszú gradiens-ereszkedésnek, melyet a $\\phi_{A/2, b}$ függvényre alkalmazunk. Hogyan válaszhatnánk meg ennél ügyesebben a lépéshosszainkat? Mutassuk meg, hogy egy $x$ ponton átmenő, $p$ irányvektorú egyenes mentén a $\\phi_{A/2, b}$ függvény minimumhelye \n",
    "\n",
    "$$x - \\frac{p^T r}{p^T A p} p,$$\n",
    "\n",
    "ahol $r = Ax - b$."
   ]
  },
  {
   "cell_type": "code",
   "execution_count": null,
   "id": "21",
   "metadata": {},
   "outputs": [],
   "source": []
  },
  {
   "cell_type": "markdown",
   "id": "22",
   "metadata": {},
   "source": [
    "Azt mondjuk, hogy a $\\phi: V \\to \\mathbb{R}$ funkcionál konvex, ha minden $x, y \\in V$ és $0 \\leq t \\leq 1$ esetén \n",
    "$$\n",
    "\\phi(tx + (1-t)y) \\leq t \\phi(x) + (1-t)\\phi(y),\n",
    "$$\n",
    "azaz az $x$ és $y$ pontokat összekötő szakasz $\\phi$ függvény általi képe nem helyezkedik el feljebb, mint az $\\phi(x)$ és $\\phi(y)$ pontokat összekötő szakasz."
   ]
  },
  {
   "cell_type": "markdown",
   "id": "23",
   "metadata": {},
   "source": [
    "### 8. Feladat\n",
    "\n",
    "Legyen $\\phi$ konvex. Mutassuk meg az alábbiakat.\n",
    "\n",
    "a) Ha $\\psi$ konvex, akkor $\\phi + \\psi$ konvex. Például $\\psi(x) = b^T x + c$.\n",
    "\n",
    "b) Ha $0 \\leq r$, akkor $r\\phi$ konvex.\n",
    "\n",
    "c) $x \\mapsto \\phi(Ax + b)$ konvex."
   ]
  },
  {
   "cell_type": "code",
   "execution_count": null,
   "id": "24",
   "metadata": {},
   "outputs": [],
   "source": []
  },
  {
   "cell_type": "markdown",
   "id": "25",
   "metadata": {},
   "source": [
    "### 9. Feladat\n",
    "\n",
    "a) Ha $A = e_ie_i^T$, ahol $e_i$ az $i.$ standard bázisvektor, akkor $\\phi_{A, b}$ konvex.\n",
    "\n",
    "b) Ha $\\Lambda$ diagonális mátrix és elemenként nemnegatív, akkor $\\phi_{\\Lambda, b}$ konvex.\n",
    "\n",
    "c) Ha $A$ pozitív szemidefinit, akkor $\\phi_{A, b}$ konvex."
   ]
  },
  {
   "cell_type": "code",
   "execution_count": null,
   "id": "26",
   "metadata": {},
   "outputs": [],
   "source": []
  },
  {
   "cell_type": "markdown",
   "id": "27",
   "metadata": {},
   "source": [
    "### 10*. Feladat\n",
    "\n",
    "Ha $\\phi$ konvex és folyt. diff.ható, akkor mutassuk meg az alábbiakat.\n",
    "\n",
    "a*)\n",
    "\n",
    "$$\n",
    "\\phi(y) \\geq \\phi(x) + \\langle \\phi'(x), y- x\\rangle,\n",
    "$$\n",
    "\n",
    "azaz az érintősíkok a függvény grafikonja alatt helyezkednek el.\n",
    "\n",
    "b) \n",
    "Ha $\\phi'(x) = 0$, akkor $x$ globális minimumhely."
   ]
  },
  {
   "cell_type": "code",
   "execution_count": null,
   "id": "28",
   "metadata": {},
   "outputs": [],
   "source": []
  },
  {
   "cell_type": "markdown",
   "id": "29",
   "metadata": {},
   "source": [
    "### 11. Feladat\n",
    "\n",
    "a) Mutassunk egy olyan $\\phi_{\\tilde A, \\tilde b}$ függvényt, melynek minimumhelye egybeesik az\n",
    "$$\n",
    "\\| Ax - b \\|^2_2\n",
    "$$\n",
    "függvény minimumhelyével.\n",
    "\n",
    "b) Mutassuk meg, hogy $\\| Ax - b \\|^2_2$ konvex.\n",
    "\n",
    "c) Mutassuk meg, hogy a normálegyenlet megoldása egybeesik a $\\phi_{\\tilde A, \\tilde b}$ függvény gradiensének zérushelyével."
   ]
  },
  {
   "cell_type": "code",
   "execution_count": null,
   "id": "30",
   "metadata": {},
   "outputs": [],
   "source": []
  },
  {
   "cell_type": "markdown",
   "id": "31",
   "metadata": {},
   "source": [
    "----"
   ]
  },
  {
   "cell_type": "markdown",
   "id": "32",
   "metadata": {},
   "source": [
    "### P1. Feladat\n",
    "Írjunk programot, amely egy $A$ SZPD mátrix esetén egy ábrán ábrázolja az $I-\\omega A$ mátrix sajátértékeinek abszolútértékét az $\\omega$ függvényeként. Bemeneti paraméterek lehetnek a mátrix sajátértékei."
   ]
  },
  {
   "cell_type": "code",
   "execution_count": null,
   "id": "33",
   "metadata": {},
   "outputs": [],
   "source": [
    "import numpy as np\n",
    "import matplotlib.pyplot as plt\n",
    "\n",
    "def vplot(*lambdas: float, omega_min: float = 0, omega_max: float = 1):\n",
    "    assert len(lambdas) >= 1\n",
    "    assert omega_max > omega_min\n",
    "    \n",
    "    ax = plt.axes()\n",
    "    \n",
    "    omegas = np.linspace(omega_min, omega_max, int(101*abs(omega_max - omega_min)))\n",
    "    for lam in lambdas:\n",
    "        ax.plot(omegas,  abs(1 - omegas*lam), label=fr\"$\\lambda$={lam}\")\n",
    "\n",
    "    ax.legend()\n",
    "    ax.set_xlabel(r\"$\\omega$\")\n",
    "    ax.set_ylabel(r\"$|1-\\omega\\lambda|$\")\n",
    "\n",
    "vplot(1,2,3,4)"
   ]
  },
  {
   "cell_type": "markdown",
   "id": "34",
   "metadata": {},
   "source": [
    "### P2. Feladat\n",
    "Írjunk általános függvényt a fenti, $A = M-N$ felbontással adódó iterációkhoz, majd ezzel implementáljuk a tanult iterációkat.\n",
    "\n",
    "Alkalmazzunk is ezek közül egy olyat, amit értelmes az\n",
    "$$\n",
    "\\left[\\matrix{2 & -1 \\cr -1 & 2}\\right] x= \\left[ \\matrix{1 \\cr 3} \\right]\n",
    "$$\n",
    "egyenlet megoldására. Addig iteráljunk, míg két szomszédos iterált $\\| \\cdot \\|_2$ szerinti távolsága $10^{-4}$ alá nem csökken."
   ]
  },
  {
   "cell_type": "code",
   "execution_count": null,
   "id": "35",
   "metadata": {},
   "outputs": [],
   "source": [
    "from dataclasses import dataclass\n",
    "from functools import wraps\n",
    "from typing import Callable\n",
    "\n",
    "Matrix = np.ndarray\n",
    "Vector = np.ndarray\n",
    "\n",
    "@dataclass\n",
    "class IterationResult:\n",
    "    x: Vector\n",
    "    success: bool\n",
    "    abs_err: float\n",
    "    rel_err: float\n",
    "    step_num: int\n",
    "\n",
    "@dataclass\n",
    "class StoppingCondition:\n",
    "    norm: Callable[(Vector,), float]\n",
    "    atol: float\n",
    "    rtol: float\n",
    "    max_steps: int\n",
    "\n",
    "def mn_iteration(\n",
    "    extract_m: Callable[(Matrix,), Matrix],\n",
    "    A: Matrix,\n",
    "    b: Vector, \n",
    "    x0: Vector, \n",
    "    stopping_condition: StoppingCondition\n",
    ") -> IterationResult:\n",
    "    \n",
    "    M = extract_m(A)\n",
    "    N = M - A\n",
    "    # M^{-1}N\n",
    "    B = np.linalg.solve(M, N)\n",
    "    # M^{-1}b\n",
    "    r = np.linalg.solve(M, b)\n",
    "\n",
    "    is_success = False\n",
    "    x = x0\n",
    "    for step_num in range(1, stopping_condition.max_steps+1):\n",
    "        d = B@x + r - x;\n",
    "        x = x + d\n",
    "        \n",
    "        # Ha d kicsi, azaz x_n es x_{n+1} kozel vannak, \n",
    "        # azaz x_n es f(x_n) kozel vannak,\n",
    "        # azaz kozel vagyunk a fixponthoz.\n",
    "        abs_err = stopping_condition.norm(d);\n",
    "\n",
    "        if all([\n",
    "            abs_err <= stopping_condition.atol,\n",
    "            abs_err <= stopping_condition.rtol * stopping_condition.norm(x)\n",
    "        ]):\n",
    "            is_success = True\n",
    "            break\n",
    "\n",
    "    # tul sok lepes eseten sikertelen\n",
    "    is_success &= (step_num <= stopping_condition.max_steps)\n",
    "\n",
    "    return IterationResult(\n",
    "        x,\n",
    "        is_success,\n",
    "        abs_err,\n",
    "        abs_err/stopping_condition.norm(x),\n",
    "        step_num\n",
    "    )"
   ]
  },
  {
   "cell_type": "code",
   "execution_count": null,
   "id": "36",
   "metadata": {},
   "outputs": [],
   "source": [
    "from functools import partial\n",
    "\n",
    "def make_jor_iteration(omega):\n",
    "    return partial(mn_iteration, lambda A: 1/omega*np.diag(np.diag(A)))\n",
    "\n",
    "def make_sor_iteration(omega):\n",
    "    return partial(mn_iteration, lambda A: 1/omega*np.diag(np.diag(A)) + np.tril(A, -1))"
   ]
  },
  {
   "cell_type": "code",
   "execution_count": null,
   "id": "37",
   "metadata": {},
   "outputs": [],
   "source": [
    "jacobi_it = make_jor_iteration(omega=1)"
   ]
  },
  {
   "cell_type": "code",
   "execution_count": null,
   "id": "38",
   "metadata": {},
   "outputs": [],
   "source": [
    "A = np.array([\n",
    "    [2, -1],\n",
    "    [-1, 2],\n",
    "])\n",
    "\n",
    "b = np.array([1,3])\n",
    "x0 = np.zeros((2,))\n",
    "\n",
    "stopping_condition = StoppingCondition(\n",
    "    partial(np.linalg.norm, ord=2), # nem kell a partial ha 2-es norma\n",
    "    atol=1e-4,\n",
    "    rtol=np.inf,\n",
    "    max_steps=10**10,\n",
    ")"
   ]
  },
  {
   "cell_type": "code",
   "execution_count": null,
   "id": "39",
   "metadata": {},
   "outputs": [],
   "source": [
    "iteration_result = jacobi_it(A, b, x0, stopping_condition)"
   ]
  },
  {
   "cell_type": "code",
   "execution_count": null,
   "id": "40",
   "metadata": {},
   "outputs": [],
   "source": [
    "iteration_result"
   ]
  },
  {
   "cell_type": "code",
   "execution_count": null,
   "id": "41",
   "metadata": {},
   "outputs": [],
   "source": [
    "A @ iteration_result.x"
   ]
  },
  {
   "cell_type": "markdown",
   "id": "42",
   "metadata": {},
   "source": [
    "### P3. Feladat\n",
    "\n",
    "Írjunk programot, amit adott $\\lambda_1, \\lambda_2$ valós sajátértékek és $q_1, q_2$ egymásra merőleges sajátvektorok esetén ábrázolja a megfelelő kvadratikus alakot, azaz a\n",
    "\n",
    "$$\n",
    "\\mathbb{R}^2 \\ni x \\mapsto x^T A x\n",
    "$$\n",
    "függvényt, ahol $A = \\lambda_1 q_1 q_1^T + \\lambda_2 q_2 q_2^T$. Ábrázoljunk a sajátértékek előjele szerinti lehetséges esetekre 1-1 példát."
   ]
  },
  {
   "cell_type": "code",
   "execution_count": null,
   "id": "43",
   "metadata": {},
   "outputs": [],
   "source": [
    "import itertools\n",
    "\n",
    "def make_quad_form(lam1: float, lam2: float, q1: np.ndarray, q2: np.ndarray):\n",
    "    assert abs(q1 @ q2)     < 1e-6\n",
    "    # col. vectors\n",
    "    q1 = q1.reshape((-1, 1))\n",
    "    q2 = q2.reshape((-1, 1))\n",
    "\n",
    "    Q = np.hstack((q1, q2))\n",
    "    # normalize\n",
    "    Q /= sum(Q*Q)\n",
    "\n",
    "    # (2, 2)\n",
    "    A = Q @ np.diag([lam1, lam2]) @ Q.T\n",
    "\n",
    "    # (n, m) -> (n, m) -> (n, m)\n",
    "    def evaluate_quadratic_form_over_meshgrid_output(X,Y):\n",
    "        # (2, n, m)\n",
    "        T = np.stack((X, Y), 0)\n",
    "\n",
    "\n",
    "        # Z[j, k] = SUM_(a, b) { T[a, j, k] * A[a, b] * T[b, j, k] }\n",
    "        Z = np.einsum(\"ajk, ab, bjk -> jk\", T, A, T)\n",
    "        \n",
    "        # (n, m)        \n",
    "        return Z\n",
    "\n",
    "    return evaluate_quadratic_form_over_meshgrid_output\n",
    "\n",
    "# igazából elég megadni 1 (nem null)vektort, arra merőleges vektort tudnuk csinálni\n",
    "# sajátértékek helyett is elég csak az egyik hosszát állítani tudni\n",
    "def qplot_compare(v: np.ndarray = np.array([0, 1.]), magnitude=1, resolution: int = 201):\n",
    "    assert resolution >= 11\n",
    "    assert int(resolution) == resolution\n",
    "    assert v@v >= 1e-2\n",
    "    assert magnitude > 0\n",
    "\n",
    "    q1 = v\n",
    "    q2 = np.array([[0, 1], [-1, 0]]) @ v\n",
    "    \n",
    "    xs = np.linspace(-1, 1, resolution)\n",
    "    X, Y = np.meshgrid(xs, xs)\n",
    "\n",
    "    fig, axes = plt.subplots(\n",
    "        3, 3, \n",
    "        subplot_kw={\"projection\": \"3d\"}, \n",
    "        figsize=(10,10),\n",
    "        sharex=True,\n",
    "        sharey=True,\n",
    "    )\n",
    "    fig.suptitle('Kvadratikus alak grafikonja a 2 sajátérték előjele szerint')\n",
    "    fig.supylabel(r'$\\lambda_2$ előjele: -1, 0, 1')\n",
    "    fig.supxlabel(r'$\\lambda_1$ előjele: -1, 0, 1')\n",
    "\n",
    "    # go through possible signs\n",
    "    for s1, s2 in itertools.product([-1, 0, 1], [-1, 0, 1]):\n",
    "        q = make_quad_form(s1*magnitude, s2, q1, q2)\n",
    "\n",
    "        axis = axes[1-s1, s2+1]\n",
    "        axis.plot_surface(X, Y, q(X, Y), cmap=\"jet\")\n",
    "\n",
    "        axis.axis('off')\n"
   ]
  },
  {
   "cell_type": "code",
   "execution_count": null,
   "id": "44",
   "metadata": {},
   "outputs": [],
   "source": [
    "qplot_compare()"
   ]
  },
  {
   "cell_type": "code",
   "execution_count": null,
   "id": "45",
   "metadata": {},
   "outputs": [],
   "source": [
    "## a 0 körül kevésbé para bola, kicsit más főiránnyal\n",
    "# qplot_compare(v=np.array([1, 1.]), magnitude=0.5)"
   ]
  },
  {
   "cell_type": "markdown",
   "id": "46",
   "metadata": {},
   "source": [
    "### P4. Feladat\n",
    "\n",
    "Implementáljuk a gradiens-módszert az optimális lépéshosszválasztással az SZPD-baloldalú lineáris egyenletrendszer iteratív megoldására.\n",
    "\n",
    "Alkalmazzuk is ezt a módszert az \n",
    "$$\n",
    "\\left[\\matrix{2 & -1 \\cr -1 & 2}\\right] x= \\left[ \\matrix{1 \\cr 3} \\right]\n",
    "$$\n",
    "egyenlet megoldására. Addig iteráljunk, míg két szomszédos iterált $\\| \\cdot \\|_\\infty$ szerinti távolsága $10^{-6}$ alá nem csökken."
   ]
  },
  {
   "cell_type": "code",
   "execution_count": null,
   "id": "47",
   "metadata": {},
   "outputs": [],
   "source": [
    "def grad_descent(\n",
    "    A: Matrix,\n",
    "    b: Vector, \n",
    "    x0: Vector, \n",
    "    stopping_condition: StoppingCondition\n",
    ") -> IterationResult:\n",
    "\n",
    "    is_success = False\n",
    "    x = x0\n",
    "    for step_num in range(1, stopping_condition.max_steps+1):\n",
    "        # gradiens\n",
    "        r = A@x - b\n",
    "        # lepeshossz\n",
    "        omega = r@r / (1e-16 + r@(A@r))\n",
    "\n",
    "        d = - omega*r\n",
    "        x = x + d\n",
    "        \n",
    "        # Ha a gradiens kicsi, akkor kozel vagyunk a fgv. szelsoertekhelyehez\n",
    "        abs_err = stopping_condition.norm(d);\n",
    "        if all([\n",
    "            abs_err <= stopping_condition.atol,\n",
    "            abs_err <= stopping_condition.rtol * stopping_condition.norm(x)\n",
    "        ]):\n",
    "            is_success = True\n",
    "            break\n",
    "\n",
    "    # tul sok lepes eseten sikertelen\n",
    "    is_success &= (step_num <= stopping_condition.max_steps)\n",
    "\n",
    "    return IterationResult(\n",
    "        x,\n",
    "        is_success,\n",
    "        abs_err,\n",
    "        abs_err/stopping_condition.norm(x),\n",
    "        step_num\n",
    "    )"
   ]
  },
  {
   "cell_type": "code",
   "execution_count": null,
   "id": "48",
   "metadata": {},
   "outputs": [],
   "source": [
    "A = np.array([\n",
    "    [2, -1],\n",
    "    [-1, 2],\n",
    "])\n",
    "b = np.array([1,3])\n",
    "x0 = np.zeros((2,))\n",
    "stopping_condition = StoppingCondition(\n",
    "    partial(np.linalg.norm, ord=np.inf),\n",
    "    atol=1e-6,\n",
    "    rtol=np.inf,\n",
    "    max_steps=10**10,\n",
    ")\n",
    "\n",
    "res = grad_descent(A, b, x0, stopping_condition)"
   ]
  },
  {
   "cell_type": "code",
   "execution_count": null,
   "id": "49",
   "metadata": {},
   "outputs": [],
   "source": [
    "res"
   ]
  },
  {
   "cell_type": "code",
   "execution_count": null,
   "id": "50",
   "metadata": {},
   "outputs": [],
   "source": [
    "A@res.x"
   ]
  }
 ],
 "metadata": {
  "kernelspec": {
   "display_name": "Python 3 (ipykernel)",
   "language": "python",
   "name": "python3"
  },
  "language_info": {
   "codemirror_mode": {
    "name": "ipython",
    "version": 3
   },
   "file_extension": ".py",
   "mimetype": "text/x-python",
   "name": "python",
   "nbconvert_exporter": "python",
   "pygments_lexer": "ipython3",
   "version": "3.11.7"
  }
 },
 "nbformat": 4,
 "nbformat_minor": 5
}
