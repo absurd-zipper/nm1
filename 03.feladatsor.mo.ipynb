{
 "cells": [
  {
   "cell_type": "markdown",
   "id": "0",
   "metadata": {},
   "source": [
    "# 3. Feladatsor: megoldások\n",
    "*(Normálegyenlet, iteratív megoldók, gradiens-ereszkedés)*"
   ]
  },
  {
   "cell_type": "markdown",
   "id": "1",
   "metadata": {},
   "source": [
    "### P1. Feladat\n",
    "Írjunk programot, amely egy $A$ SZPD mátrix esetén egy ábrán ábrázolja az $I-\\omega A$ mátrix sajátértékeinek abszolútértékét az $\\omega$ függvényeként. Bemeneti paraméterek lehetnek a mátrix sajátértékei."
   ]
  },
  {
   "cell_type": "code",
   "execution_count": null,
   "id": "2",
   "metadata": {},
   "outputs": [],
   "source": [
    "import numpy as np\n",
    "import matplotlib.pyplot as plt\n",
    "\n",
    "def vplot(*lambdas: float, omega_min: float = 0., omega_max: float = 1.):\n",
    "    assert len(lambdas) >= 1\n",
    "    assert omega_max > omega_min\n",
    "    \n",
    "    ax = plt.axes()\n",
    "    \n",
    "    omegas = np.linspace(omega_min, omega_max, int(101*abs(omega_max - omega_min)))\n",
    "    for lam in lambdas:\n",
    "        ax.plot(omegas,  abs(1 - omegas*lam), label=fr\"$\\lambda$={lam}\")\n",
    "\n",
    "    ax.legend()\n",
    "    ax.set_xlabel(r\"$\\omega$\")\n",
    "    ax.set_ylabel(r\"$|1-\\omega\\lambda|$\")\n",
    "\n",
    "vplot(1,2,3,4)"
   ]
  },
  {
   "cell_type": "markdown",
   "id": "3",
   "metadata": {},
   "source": [
    "### P2. Feladat\n",
    "Írjunk általános függvényt a fenti, $A = M-N$ felbontással adódó iterációkhoz, majd ezzel implementáljuk a tanult iterációkat.\n",
    "\n",
    "Alkalmazzunk is ezek közül egy olyat, amit értelmes az\n",
    "$$\n",
    "\\left[\\matrix{2 & -1 \\cr -1 & 2}\\right] x= \\left[ \\matrix{1 \\cr 3} \\right]\n",
    "$$\n",
    "egyenlet megoldására. Addig iteráljunk, míg két szomszédos iterált $\\| \\cdot \\|_2$ szerinti távolsága $10^{-4}$ alá nem csökken."
   ]
  },
  {
   "cell_type": "code",
   "execution_count": null,
   "id": "4",
   "metadata": {},
   "outputs": [],
   "source": [
    "from dataclasses import dataclass\n",
    "from functools import wraps\n",
    "from typing import Callable\n",
    "\n",
    "Matrix = np.ndarray\n",
    "Vector = np.ndarray\n",
    "\n",
    "@dataclass\n",
    "class IterationResult:\n",
    "    x: Vector\n",
    "    success: bool\n",
    "    abs_err: float\n",
    "    rel_err: float\n",
    "    step_num: int\n",
    "\n",
    "@dataclass\n",
    "class StoppingCondition:\n",
    "    norm: Callable[(Vector,), float]\n",
    "    atol: float\n",
    "    rtol: float\n",
    "    max_steps: int\n",
    "\n",
    "def mn_iteration(\n",
    "    extract_m: Callable[(Matrix,), Matrix],\n",
    "    A: Matrix,\n",
    "    b: Vector, \n",
    "    x0: Vector, \n",
    "    stopping_condition: StoppingCondition\n",
    ") -> IterationResult:\n",
    "    \n",
    "    M = extract_m(A)\n",
    "    N = M - A\n",
    "    # M^{-1}N\n",
    "    B = np.linalg.solve(M, N)\n",
    "    # M^{-1}b\n",
    "    r = np.linalg.solve(M, b)\n",
    "\n",
    "    is_success = False\n",
    "    x = x0\n",
    "    for step_num in range(1, stopping_condition.max_steps+1):\n",
    "        d = B@x + r - x;\n",
    "        x = x + d\n",
    "        \n",
    "        # Ha d kicsi, azaz x_n es x_{n+1} kozel vannak, \n",
    "        # azaz x_n es f(x_n) kozel vannak,\n",
    "        # azaz kozel vagyunk a fixponthoz.\n",
    "        abs_err = stopping_condition.norm(d);\n",
    "\n",
    "        if all([\n",
    "            abs_err <= stopping_condition.atol,\n",
    "            abs_err <= stopping_condition.rtol * stopping_condition.norm(x)\n",
    "        ]):\n",
    "            is_success = True\n",
    "            break\n",
    "\n",
    "    # tul sok lepes eseten sikertelen\n",
    "    is_success &= (step_num <= stopping_condition.max_steps)\n",
    "\n",
    "    return IterationResult(\n",
    "        x,\n",
    "        is_success,\n",
    "        abs_err,\n",
    "        abs_err/stopping_condition.norm(x),\n",
    "        step_num\n",
    "    )"
   ]
  },
  {
   "cell_type": "code",
   "execution_count": null,
   "id": "5",
   "metadata": {},
   "outputs": [],
   "source": [
    "from functools import partial\n",
    "\n",
    "def make_jor_iteration(omega):\n",
    "    return partial(mn_iteration, lambda A: 1/omega*np.diag(np.diag(A)))\n",
    "\n",
    "def make_sor_iteration(omega):\n",
    "    return partial(mn_iteration, lambda A: 1/omega*np.diag(np.diag(A)) + np.tril(A, -1))"
   ]
  },
  {
   "cell_type": "code",
   "execution_count": null,
   "id": "6",
   "metadata": {},
   "outputs": [],
   "source": [
    "jacobi_it = make_jor_iteration(omega=1)"
   ]
  },
  {
   "cell_type": "code",
   "execution_count": null,
   "id": "7",
   "metadata": {},
   "outputs": [],
   "source": [
    "A = np.array([\n",
    "    [2, -1],\n",
    "    [-1, 2],\n",
    "])\n",
    "\n",
    "b = np.array([1, 3])\n",
    "x0 = np.zeros((2,))\n",
    "\n",
    "stopping_condition = StoppingCondition(\n",
    "    partial(np.linalg.norm, ord=2), # nem kell a partial ha 2-es norma\n",
    "    atol=1e-4,\n",
    "    rtol=np.inf,\n",
    "    max_steps=10**10,\n",
    ")"
   ]
  },
  {
   "cell_type": "code",
   "execution_count": null,
   "id": "8",
   "metadata": {},
   "outputs": [],
   "source": [
    "iteration_result = jacobi_it(A, b, x0, stopping_condition)"
   ]
  },
  {
   "cell_type": "code",
   "execution_count": null,
   "id": "9",
   "metadata": {},
   "outputs": [],
   "source": [
    "iteration_result"
   ]
  },
  {
   "cell_type": "code",
   "execution_count": null,
   "id": "10",
   "metadata": {},
   "outputs": [],
   "source": [
    "A @ iteration_result.x"
   ]
  },
  {
   "cell_type": "markdown",
   "id": "11",
   "metadata": {},
   "source": [
    "### P3.* Feladat\n",
    "\n",
    "Írjunk programot, amit adott $\\lambda_1, \\lambda_2$ valós sajátértékek és $q_1, q_2$ egymásra merőleges sajátvektorok esetén ábrázolja a megfelelő kvadratikus alakot, azaz a\n",
    "\n",
    "$$\n",
    "\\mathbb{R}^2 \\ni x \\mapsto x^T A x\n",
    "$$\n",
    "függvényt, ahol $A = \\lambda_1 q_1 q_1^T + \\lambda_2 q_2 q_2^T$. Ábrázoljunk a sajátértékek előjele szerinti lehetséges esetekre 1-1 példát."
   ]
  },
  {
   "cell_type": "code",
   "execution_count": null,
   "id": "12",
   "metadata": {},
   "outputs": [],
   "source": [
    "import itertools\n",
    "\n",
    "def make_quad_form(lam1: float, lam2: float, q1: np.ndarray, q2: np.ndarray):\n",
    "    assert abs(q1 @ q2) < 1e-6\n",
    "    # col. vectors\n",
    "    q1 = q1.reshape((-1, 1))\n",
    "    q2 = q2.reshape((-1, 1))\n",
    "\n",
    "    Q = np.hstack((q1, q2))\n",
    "    Q /= np.sqrt(sum(Q*Q))\n",
    "\n",
    "    # (2, 2)\n",
    "    A = Q @ np.diag([lam1, lam2]) @ Q.T\n",
    "\n",
    "    # (n, m) -> (n, m) -> (n, m)\n",
    "    def evaluate_quadratic_form_over_meshgrid_output(X,Y):\n",
    "        # (2, n, m)\n",
    "        T = np.stack((X, Y), 0)\n",
    "\n",
    "\n",
    "        # Z[j, k] = SUM_(a, b) { T[a, j, k] * A[a, b] * T[b, j, k] }\n",
    "        Z = np.einsum(\"ajk, ab, bjk -> jk\", T, A, T)\n",
    "        \n",
    "        # (n, m)        \n",
    "        return Z\n",
    "\n",
    "    return evaluate_quadratic_form_over_meshgrid_output\n",
    "\n",
    "# igazából elég megadni 1 (nem null)vektort, arra merőleges vektort tudnuk csinálni\n",
    "# sajátértékek helyett is elég csak az egyik hosszát állítani tudni\n",
    "def qplot_compare(v: np.ndarray = np.array([0, 1.]), magnitude: float = 1., resolution: int = 201):\n",
    "    assert resolution >= 11\n",
    "    assert int(resolution) == resolution\n",
    "    assert v@v >= 1e-2\n",
    "    assert magnitude > 0\n",
    "\n",
    "    q1 = v\n",
    "    q2 = np.array([[0, 1], [-1, 0]]) @ v\n",
    "    \n",
    "    xs = np.linspace(-1, 1, resolution)\n",
    "    X, Y = np.meshgrid(xs, xs)\n",
    "\n",
    "    fig, axes = plt.subplots(\n",
    "        3, 3, \n",
    "        subplot_kw={\"projection\": \"3d\"}, \n",
    "        figsize=(10,10),\n",
    "        sharex=True,\n",
    "        sharey=True,\n",
    "    )\n",
    "    fig.suptitle('Kvadratikus alak grafikonja a 2 sajátérték előjele szerint')\n",
    "    fig.supylabel(r'$\\lambda_2$ előjele: -1, 0, 1')\n",
    "    fig.supxlabel(r'$\\lambda_1$ előjele: -1, 0, 1')\n",
    "\n",
    "    # go through possible signs\n",
    "    for s1, s2 in itertools.product([-1, 0, 1], [-1, 0, 1]):\n",
    "        q = make_quad_form(s1*magnitude, s2, q1, q2)\n",
    "\n",
    "        axis = axes[1-s1, s2+1]\n",
    "        axis.plot_surface(X, Y, q(X, Y), cmap=\"jet\")\n",
    "\n",
    "        axis.axis('off')\n"
   ]
  },
  {
   "cell_type": "code",
   "execution_count": null,
   "id": "13",
   "metadata": {},
   "outputs": [],
   "source": [
    "qplot_compare()"
   ]
  },
  {
   "cell_type": "code",
   "execution_count": null,
   "id": "14",
   "metadata": {},
   "outputs": [],
   "source": [
    "## a 0 körül kevésbé para bola, kicsit más főiránnyal\n",
    "qplot_compare(v=np.array([100, 100.]), magnitude=0.5)"
   ]
  },
  {
   "cell_type": "markdown",
   "id": "15",
   "metadata": {},
   "source": [
    "### P4. Feladat\n",
    "\n",
    "Implementáljuk a gradiens-módszert az optimális lépéshosszválasztással az SZPD-baloldalú lineáris egyenletrendszer iteratív megoldására.\n",
    "\n",
    "Alkalmazzuk is ezt a módszert az \n",
    "$$\n",
    "\\left[\\matrix{2 & -1 \\cr -1 & 2}\\right] x= \\left[ \\matrix{1 \\cr 3} \\right]\n",
    "$$\n",
    "egyenlet megoldására. Addig iteráljunk, míg két szomszédos iterált $\\| \\cdot \\|_\\infty$ szerinti távolsága $10^{-6}$ alá nem csökken."
   ]
  },
  {
   "cell_type": "code",
   "execution_count": null,
   "id": "16",
   "metadata": {},
   "outputs": [],
   "source": [
    "def grad_descent(\n",
    "    A: Matrix,\n",
    "    b: Vector, \n",
    "    x0: Vector, \n",
    "    stopping_condition: StoppingCondition\n",
    ") -> IterationResult:\n",
    "\n",
    "    is_success = False\n",
    "    x = x0\n",
    "    for step_num in range(1, stopping_condition.max_steps+1):\n",
    "        # gradiens\n",
    "        r = A@x - b\n",
    "        # lepeshossz\n",
    "        omega = r@r / (1e-16 + r@(A@r))\n",
    "\n",
    "        d = - omega*r\n",
    "        x = x + d\n",
    "        \n",
    "        # Ha a gradiens kicsi, akkor kozel vagyunk a fgv. szelsoertekhelyehez\n",
    "        abs_err = stopping_condition.norm(d);\n",
    "        if all([\n",
    "            abs_err <= stopping_condition.atol,\n",
    "            abs_err <= stopping_condition.rtol * stopping_condition.norm(x)\n",
    "        ]):\n",
    "            is_success = True\n",
    "            break\n",
    "\n",
    "    # tul sok lepes eseten sikertelen\n",
    "    is_success &= (step_num <= stopping_condition.max_steps)\n",
    "\n",
    "    return IterationResult(\n",
    "        x,\n",
    "        is_success,\n",
    "        abs_err,\n",
    "        abs_err/stopping_condition.norm(x),\n",
    "        step_num\n",
    "    )"
   ]
  },
  {
   "cell_type": "code",
   "execution_count": null,
   "id": "17",
   "metadata": {},
   "outputs": [],
   "source": [
    "A = np.array([\n",
    "    [2, -1],\n",
    "    [-1, 2],\n",
    "])\n",
    "b = np.array([1,3])\n",
    "x0 = np.zeros((2,))\n",
    "stopping_condition = StoppingCondition(\n",
    "    partial(np.linalg.norm, ord=np.inf),\n",
    "    atol=1e-6,\n",
    "    rtol=np.inf,\n",
    "    max_steps=10**10,\n",
    ")\n",
    "\n",
    "res = grad_descent(A, b, x0, stopping_condition)"
   ]
  },
  {
   "cell_type": "code",
   "execution_count": null,
   "id": "18",
   "metadata": {},
   "outputs": [],
   "source": [
    "res"
   ]
  },
  {
   "cell_type": "code",
   "execution_count": null,
   "id": "19",
   "metadata": {},
   "outputs": [],
   "source": [
    "A@res.x"
   ]
  }
 ],
 "metadata": {
  "kernelspec": {
   "display_name": "Python 3 (ipykernel)",
   "language": "python",
   "name": "python3"
  },
  "language_info": {
   "codemirror_mode": {
    "name": "ipython",
    "version": 3
   },
   "file_extension": ".py",
   "mimetype": "text/x-python",
   "name": "python",
   "nbconvert_exporter": "python",
   "pygments_lexer": "ipython3",
   "version": "3.11.8"
  }
 },
 "nbformat": 4,
 "nbformat_minor": 5
}
