{
 "cells": [
  {
   "cell_type": "markdown",
   "id": "0",
   "metadata": {},
   "source": [
    "# 7. Feladatsor: megoldások\n",
    "\n",
    "*(Spline, trigonometrikus polinom, interpolációból származtatható integrál- és deriváltformulák, egyszerű kvadratúrák)*"
   ]
  },
  {
   "cell_type": "markdown",
   "id": "1",
   "metadata": {},
   "source": [
    "### P1. Feladat\n",
    "\n",
    "Írjunk programot, ami adott $x$ és $y$ -pontokat és az ott felveendő értékeket tartalmazó- **három hosszú** vektorokra köbös spline-ot illeszt, a \"természetes\" (végpontokban eltűnő második derivált) peremfeltétellel. Feltehetjük, hogy a pontok egymást egyenlő távolságban követik, hogy könnyebb legyen leírni a megoldást."
   ]
  },
  {
   "cell_type": "code",
   "execution_count": null,
   "id": "2",
   "metadata": {},
   "outputs": [],
   "source": [
    "import numpy as np\n",
    "\n",
    "from typing import Callable\n",
    "\n",
    "def spline33(xs: np.array, ys: np.array) -> Callable[(float, ), float]:\n",
    "    h = np.diff(xs).mean()\n",
    "\n",
    "    a = (ys[0] - ys[1] + ys[2] - ys[1])/4\n",
    "    y0__ = 6*a\n",
    "    y0_ = (ys[2] - ys[0])/2\n",
    "    y0 = ys[1]\n",
    "\n",
    "    def quad(z):\n",
    "        return y0 + y0_*z + y0__*z**2/2\n",
    "        \n",
    "    def p(z):\n",
    "        return quad(z) + a*z**3\n",
    "\n",
    "    def q(z):\n",
    "        return quad(z) - a*z**3\n",
    "\n",
    "    def spline(z: float) -> float:\n",
    "        w = (z-xs[1])/h\n",
    "\n",
    "        return p(w)*(w <= 0) + q(w) * (w > 0)\n",
    "    \n",
    "    return spline"
   ]
  },
  {
   "cell_type": "code",
   "execution_count": null,
   "id": "3",
   "metadata": {},
   "outputs": [],
   "source": [
    "sp = spline33(2 * np.array([-1, 0 ,1]) + 1, np.array([1, 0, 1]))\n",
    "\n",
    "import matplotlib.pyplot as plt\n",
    "\n",
    "ts = np.linspace(-1, 3, 101)\n",
    "plt.plot(ts, ((ts-1)/2)**2*3/2 + ((ts-1)/2)**3/2, label='p', ls='dotted')\n",
    "plt.plot(ts, ((ts-1)/2)**2*3/2 - ((ts-1)/2)**3/2, label='q', ls='dotted')\n",
    "plt.plot(ts[::10], sp(ts)[::10], '.', label=\"spline\")\n",
    "plt.legend()"
   ]
  },
  {
   "cell_type": "markdown",
   "id": "4",
   "metadata": {},
   "source": [
    "### P2*. Feladat\n",
    "\n",
    "Írjunk programot, ami adott $x$ és $y$ -pontokat és az ott felveendő értékeket tartalmazó- vektorokra köbös spline-ot illeszt, pl. a \"természetes\" (végpontokban eltűnő második derivált) peremfeltétellel. Ha szeretnénk, feltehetjük, hogy az alappontjaink egyenletesek."
   ]
  },
  {
   "cell_type": "code",
   "execution_count": null,
   "id": "5",
   "metadata": {},
   "outputs": [],
   "source": [
    "# hosszu"
   ]
  },
  {
   "cell_type": "markdown",
   "id": "6",
   "metadata": {},
   "source": [
    "### P3. Feladat\n",
    "\n",
    "Írjunk programot, ami adott $x$ és $y$ -pontokat és az ott felveendő értékeket tartalmazó- vektorokra ráilleszti a kettes norma szerinti legjobb trigonometrikus polinomot (az $N$ legyen bemeneti paraméter).\n",
    "\n",
    "Alkalmazzuk ezt a programot akkor, ha az $x, y$ vektorok az\n",
    "$$\n",
    "[0, 2\\pi] \\ni x \\mapsto \\frac{1}{\\pi^2} \\left(\\pi - |\\pi-x|\\right)\n",
    "$$jelből származó egyenletes mintavételezés eredményét tartalmazzák."
   ]
  },
  {
   "cell_type": "code",
   "execution_count": null,
   "id": "7",
   "metadata": {},
   "outputs": [],
   "source": [
    "def A(xs: np.array, N: int) -> np.matrix:\n",
    "    nxs = np.arange(1, N+1).reshape((-1, 1)) * xs \n",
    "\n",
    "    return np.matrix(\n",
    "        np.vstack((\n",
    "            np.ones_like(xs),\n",
    "            np.cos(nxs),\n",
    "            np.sin(nxs)\n",
    "        ))\n",
    "    ).T\n",
    "\n",
    "def p3(xs: np.array, ys: np.array, N: int) -> (np.array, np.array):\n",
    "    a = A(xs, N)\n",
    "    coefficients = np.linalg.solve(a.T @ a, a.T @ ys.reshape((-1, 1)))\n",
    "\n",
    "    ys_projected = a @ coefficients\n",
    "    return coefficients, ys_projected"
   ]
  },
  {
   "cell_type": "code",
   "execution_count": null,
   "id": "8",
   "metadata": {},
   "outputs": [],
   "source": [
    "xs = np.linspace(0, 2*np.pi, 101)\n",
    "ys = 1/np.pi**2 *(np.pi - abs(np.pi - xs))\n",
    "\n",
    "for N in [0, 4, 64]:\n",
    "    cs, ys_proj = p3(xs, ys, N)\n",
    "    plt.title('A rekonstrualt jel nehany N eseten')\n",
    "    plt.plot(xs, ys_proj, label=f'N={N}')\n",
    "\n",
    "plt.legend()\n",
    "plt.show()"
   ]
  },
  {
   "cell_type": "markdown",
   "id": "9",
   "metadata": {},
   "source": [
    "### P4. Feladat\n",
    "\n",
    "Írjunk programot, ami kiszámolja egy adott kvadratúra rendjét. Próbáljuk is ki néhány formulán (pl. azokon, amiket levezettünk)."
   ]
  },
  {
   "cell_type": "code",
   "execution_count": null,
   "id": "10",
   "metadata": {},
   "outputs": [],
   "source": [
    "from itertools import takewhile\n",
    "\n",
    "def kvadratura_rend(bs: np.array, cs: np.array) -> int:\n",
    "    # bs: súlyok\n",
    "    # cs: alappontok ([0,1]-ből)\n",
    "\n",
    "    s = len(bs)\n",
    "    # max rend = 2s, elég addig nézni\n",
    "    # sum b_j c_j^(q-1)\n",
    "    cond_lhs = np.array(bs) @ np.array(cs).reshape((-1, 1)) ** np.arange(2*s) \n",
    "    # 1/q\n",
    "    cond_rhs = 1 / np.arange(1, 2*s+1)\n",
    "    \n",
    "    cond_errs = np.abs(cond_lhs - cond_rhs).flatten()\n",
    "    \n",
    "    return sum(1 for _ in takewhile(lambda e: e <= 1e-14, cond_errs))"
   ]
  },
  {
   "cell_type": "code",
   "execution_count": null,
   "id": "11",
   "metadata": {},
   "outputs": [],
   "source": [
    "kvadratura_rend([1], [1])"
   ]
  },
  {
   "cell_type": "code",
   "execution_count": null,
   "id": "12",
   "metadata": {},
   "outputs": [],
   "source": [
    "kvadratura_rend([1],[1/2])"
   ]
  },
  {
   "cell_type": "code",
   "execution_count": null,
   "id": "13",
   "metadata": {},
   "outputs": [],
   "source": [
    "kvadratura_rend(np.array([1,4,1])/6, np.array([0, 1/2, 1]))"
   ]
  },
  {
   "cell_type": "markdown",
   "id": "14",
   "metadata": {},
   "source": [
    "## Monte-Carlo-integrálás\n",
    "\n",
    "**Ötlet:** Az alappontjainkat választhatjuk akár véletlenszerűen is.\n",
    "\n",
    "Ismeretes, hogy ha $X$ egy valószínűségi változó, mely $\\rho$ sűrűségfüggvénye a $[0,1]$-re koncentrált, akkor adott mérhető $f$ függvény mellett\n",
    "$$\n",
    "\\mathbb{E}[f(X)] = \\int\\limits_0^1 f(x) \\rho (x) \\, dx.\n",
    "$$\n",
    "Látható, hogy ha $\\rho = \\chi_{[0,1]}$, azaz a $[0,1]$ intervallum indikátorfüggvénye, akkor \n",
    "$$\n",
    "\\mathbb{E}[f(X)] = \\int\\limits_0^1 f(x) \\, dx.\n",
    "$$\n",
    "Hogyan tudnánk a baloldalon álló kifejezést közelíteni? A nagy számok gyenge törvényével, természetesen!\n",
    "\n",
    "Sorsoljunk tehát a $[0,1]$-en egyenletes eloszlásból $\\xi_j$ értékeket, helyettesítsük ezeket be és vegyük a kapott értékek átlagát:\n",
    "$$\n",
    " \\mathbb{E}[f(X)] \\approx \\frac{1}{N} \\sum\\limits_{j=1}^N f(\\xi_j).\n",
    "$$\n"
   ]
  },
  {
   "cell_type": "markdown",
   "id": "15",
   "metadata": {},
   "source": [
    "### P5. Feladat\n",
    "\n",
    "Írjunk programot, ami ezzel a megközelítéssel dolgozva határozza meg egy $[0,1]$ intervallumon vett intergál közelítő-értékét. Próbáljuk is ki ezt, például az $x^4$ függvényre. Ábrázoljuk hibákat log-log ábrán és fogalmazzunk meg sejtést arról, hogy kb. hányszorosára változik a hiba, ha a sorsolt pontok számát megtízszerezzük."
   ]
  },
  {
   "cell_type": "code",
   "execution_count": null,
   "id": "16",
   "metadata": {},
   "outputs": [],
   "source": [
    "def mc_int(f: Callable[(np.ndarray,), np.ndarray], N: int) -> float:\n",
    "    return f(np.random.random((N,))).mean()"
   ]
  },
  {
   "cell_type": "code",
   "execution_count": null,
   "id": "17",
   "metadata": {},
   "outputs": [],
   "source": [
    "mc_int(lambda x: x**4, 1000)"
   ]
  },
  {
   "cell_type": "code",
   "execution_count": null,
   "id": "18",
   "metadata": {},
   "outputs": [],
   "source": [
    "N = 7\n",
    "# sorsolunk egyszer sok szamot\n",
    "rs = np.random.random((10**N,))\n",
    "# kiertekeljuk ezeken a fuggvenyunket\n",
    "frs = rs ** 4\n",
    "# kiveszunk nehany db (10, 100, 1000, 10_000, 100_000, 1_000_000) ilyen erteket, vesszuk ezek atlagat, \n",
    "# majd vesszuk ezen atlag eltereset a tenyleges integral erteketol (0.2)\n",
    "# mindezt megismeteljuk 10x, es vesszuk az igy kapott erteket atlagait :)\n",
    "errs = np.array([\n",
    "    sum(\n",
    "        abs(frs[j::10**k].mean() - 0.2) \n",
    "        for j in range(10)\n",
    "    )/10\n",
    "    for k in range(N)\n",
    "])\n",
    "errs"
   ]
  },
  {
   "cell_type": "code",
   "execution_count": null,
   "id": "19",
   "metadata": {},
   "outputs": [],
   "source": [
    "log10Ns = np.arange(N+1, 1, -1)\n",
    "\n",
    "ab = np.polyfit(log10Ns, np.log10(errs), 1)\n",
    "logerrs_linearized = ab @ np.vstack((log10Ns, np.ones_like(log10Ns)))\n",
    "\n",
    "plt.loglog(10**log10Ns, errs, 'o-', label='Errors')\n",
    "plt.loglog(10**log10Ns, 10**logerrs_linearized, label='Errors log-linearized')\n",
    "\n",
    "plt.xlabel('The number of points')\n",
    "plt.ylabel('Error')\n",
    "plt.legend()\n",
    "plt.show()\n",
    "print(f\"Az egyenes meredeksege (kb.) {np.round(ab[0], 2)}, tehat ha 10x annyi pontot veszunk, akkor kb. {np.round(10**ab[0], 2)}-szorosara valtozik a hiba.\")"
   ]
  },
  {
   "cell_type": "code",
   "execution_count": null,
   "id": "20",
   "metadata": {},
   "outputs": [],
   "source": [
    "# Az elmélet alapján sqrt(n)-es rendet várnánk, \n",
    "# azaz 10**(-1/2)-szeresére kéne változnia a hibának amikor 10x annyi pontot veszünk\n",
    "# ez látszólag ki is jön (bár néha ehhez tíznél több ismétlés átlagát kell nézni), szóval ma nem találtunk ellentmondást a matekban\n",
    "#\n",
    "# maga a konvergencia baromi lassú, cserébe csak annyit kellett feltennünk, hogy a függvényünk mérhető\n",
    "# kellően sima függvényekre sokkal jobbak a hagyományos kvadratúrák"
   ]
  }
 ],
 "metadata": {
  "kernelspec": {
   "display_name": "Python 3 (ipykernel)",
   "language": "python",
   "name": "python3"
  },
  "language_info": {
   "codemirror_mode": {
    "name": "ipython",
    "version": 3
   },
   "file_extension": ".py",
   "mimetype": "text/x-python",
   "name": "python",
   "nbconvert_exporter": "python",
   "pygments_lexer": "ipython3",
   "version": "3.11.8"
  }
 },
 "nbformat": 4,
 "nbformat_minor": 5
}
