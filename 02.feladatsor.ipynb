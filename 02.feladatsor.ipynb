{
 "cells": [
  {
   "cell_type": "markdown",
   "id": "f2e8a939",
   "metadata": {},
   "source": [
    "# 2. Feladatsor\n",
    "*(Lineáris egyenletrendszerek, felbontások)*"
   ]
  },
  {
   "cell_type": "markdown",
   "id": "f7795fe7",
   "metadata": {},
   "source": [
    "Az $A\\in\\mathbb{R^{n\\times n}}$ reguláris ($\\det(A)\\neq0$) mátrixszal leírt egyenletrendszer egyértelműen megoldható. Direkt módszerekkel véges számú lépéssel meghatározhatjuk az egyenletrend-\n",
    "szer pontos megoldását"
   ]
  },
  {
   "cell_type": "markdown",
   "id": "ac138fc8",
   "metadata": {},
   "source": [
    "**Gauss-elimináció, LU felbontás**\n",
    "\n",
    "Az eljárás során az $Ax=b$ lineáris egyenletrendszert ekvivalens átalakításokkal\n",
    "\n",
    "$$Ux = y$$\n",
    "\n",
    "alakra hozzuk, ahol $U$ felsőháromszög-mátrix, és $\\text{diag}(U) = I$. Ekkor $Ly=b$, ahol $L$ egy alsóháromszög-mátrix, azaz\n",
    "\n",
    "$$LUx = b,$$\n",
    "\n",
    "tehát a Gauss-elimináció ekvivalens azzal, hogy az $A$ mátrixot előállítjuk két speciális\n",
    "tulajdonságú mátrix szorzataként:\n",
    "\n",
    "$$A = LU,$$\n",
    "\n",
    "ahol $L$ invertálható alsó háromszögű mátrix, és $U$ felső háromszögű, a főátlóban 1-esekkel."
   ]
  },
  {
   "cell_type": "markdown",
   "id": "3c0d428f",
   "metadata": {},
   "source": [
    "A Gauss-elimináció, azaz az $LU$ felbontás is pontosan akkor hajtható végre, ha $A$ minden bal felső főminora\n",
    "nullától különbözik.\n",
    "\n",
    "**Állítás**: Legyen $A\\in \\mathbb{R}^{n×n}$, $\\det (A) \\neq 0$. Ekkor létezik olyan $P$ permutáló mátrix,\n",
    "amelyre $P · A = L · U$.\n",
    "\n",
    "Ez az állítás biztosítja, hogy tetszőleges, reguláris mátrixú lineáris algebrai egyenletrendszer mindig áttranszformálható sorcserékkel olyan rendszerré, amelyre már alkalmazható a Gauss-elimináció. Nincs szükség permutáló mátrixra, ha $A$ szigorúan domináns főátlójú vagy ha szimmetrikus pozitív definit mátrix."
   ]
  },
  {
   "cell_type": "markdown",
   "id": "1ee627c8",
   "metadata": {},
   "source": [
    "**Cholesky-felbontás**\n",
    "\n",
    "Tegyük fel, hogy az  mátrix szimmetrikus, pozitív definit. Ekkor létezik pontosan egy olyan pozitív diagonálisú  alsó háromszögmátrix, amelyre $A=GG^T$. Ezt a felbontást Cholesky-felbontásnak nevezzük."
   ]
  },
  {
   "cell_type": "markdown",
   "id": "f44de5a4",
   "metadata": {},
   "source": [
    "### 1. Feladat\n",
    "\n",
    "Adjuk meg kézzel kiszámítva az $$A =  \\left[\\matrix{ \n",
    "2 & -1 & 3\\cr\n",
    "4 & 2 & 1 \\cr\n",
    "-6 & -1 & 2\n",
    "}\\right]$$\n",
    "\n",
    "mátrix $LU$ felbontását, miután ellenőriztük, hogy létezik."
   ]
  },
  {
   "cell_type": "markdown",
   "id": "a01f3235",
   "metadata": {},
   "source": [
    "### 2. Feladat\n",
    "Igazoljuk a felsőháromszög-mátrixok alábbi tulajdonságait! (alsóháromszögmátrixokra analóg)\n",
    "\n",
    "1. Két felsőháromszög-mátrix szorzata szintén felsőháromszög-mátrix.\n",
    "2. Determinánsa a főátlóbeli elemek szorzata.\n",
    "3. Sajátértékei éppen a főátlóban lévő elemei a megfelelő multiplicitással.\n",
    "4. Egy felsőháromszög-mátrix inverze szintén felsőháromszög-mátrix."
   ]
  },
  {
   "cell_type": "markdown",
   "id": "4d653c58",
   "metadata": {},
   "source": [
    "### 3. Feladat\n",
    "\n",
    "Előadáson láttuk, hogy az $LU$ felbontásban az $U$ mátrix főátlóbeli elemei 1-esek voltak, míg az $L$ mátrix főátlóbeli elemei (általában) nem. Egy $A$ mátrix $LU$ felbontásának segítségével mutassuk meg, hogy létezik egy másik $\\tilde LDU$ felbontás, ahol $\\tilde L,U$ főátlóbeli elemei 1-esek, $D$ pedig diagonális. "
   ]
  },
  {
   "cell_type": "markdown",
   "id": "be6fca00",
   "metadata": {},
   "source": [
    "### 4. Feladat\n",
    "Adjuk meg az 1. feladatbeli mátrix $LDU$ felbontását."
   ]
  },
  {
   "cell_type": "markdown",
   "id": "ab5d8c93",
   "metadata": {},
   "source": [
    "### 5. Feladat\n",
    "\n",
    "Tegyük fel, hogy $A$ egy szimmetrikus pozitív definit mátrix. Hogyan tudjuk meghatározni a Cholesky-felbontását az $LDU$ felbontás segítségével, mi az összefüggés a kettő között?"
   ]
  },
  {
   "cell_type": "markdown",
   "id": "4bbb0fc0",
   "metadata": {},
   "source": [
    "### 6. Feladat\n",
    " \n",
    " Legyen   $$A=\\left[\\matrix{2 & -1 & 0\\cr\n",
    "                          -1 & 2 & -1\\cr \n",
    "                          0 & -1 & 2}\\right]$$\n",
    "                          \n",
    "Ellenőrizzük, hogy az $A$ mátrixnak lesz Cholesky-felbontása, majd adjuk is meg!"
   ]
  },
  {
   "cell_type": "markdown",
   "id": "6b4b0dcd",
   "metadata": {},
   "source": [
    "### 7.* Feladat\n",
    "(Összefüggés $L$ és $A$ gyöke közt a Cholesky-felbontásban)\n",
    "\n",
    "Vezessük be egy négyzetes mátrix poláris felbontásának fogalmát. $B$ négyzetes mátrix felírható $B=UP$ (vagy $B=PU$) alakban, ahol $P=(B^*B)^{1/2}$. A mátrix gyöke értelmezhető, ugyanis $B^*B$ szimmetrikus pozitív szemidefinit mátrix, így a sajátérték felbontásban felírható $(B^*B)^{1/2}=VD^{1/2}V^*$ egy $V$ ortogonális mátrix mellett. A kapott $U=BP^{-1}$ (vagy $U=P^{-1}B$) mátrix unitér  (mutassuk meg). Ezt a felbontás hívjuk a $B$ mátrix poláris felbontásának.\n",
    "\n",
    "Mutassuk meg, hogy egy $A$ szimmetrikus pozitív definit mátrix esetén a Cholesky-felbontásból származó $L$ mátrixra, ha $L=UP$ az $L$ mátrix poláris felbontása, teljesül hogy \n",
    "\n",
    "$$LU^{-1}=\\sqrt{A}.$$\n"
   ]
  },
  {
   "cell_type": "markdown",
   "id": "0f99fecd",
   "metadata": {},
   "source": [
    "### 8. Feladat\n",
    "\n",
    "Írjunk programot, amely egy adott négyzetes mátrixra kiszámolja a sarokdeterminánsait!"
   ]
  },
  {
   "cell_type": "code",
   "execution_count": null,
   "id": "5ba355d4",
   "metadata": {},
   "outputs": [],
   "source": []
  },
  {
   "cell_type": "markdown",
   "id": "06c81bda",
   "metadata": {},
   "source": [
    " ### 9. Feladat\n",
    " \n",
    " Írjunk programot, amely eldönti, hogy a mátrix szigorúan diagonálisan domináns-e vagy sem!"
   ]
  },
  {
   "cell_type": "code",
   "execution_count": null,
   "id": "3d5b5a85",
   "metadata": {},
   "outputs": [],
   "source": []
  },
  {
   "cell_type": "markdown",
   "id": "745e7af7",
   "metadata": {},
   "source": [
    "### 10. Feladat\n",
    "\n",
    "Írjunk programot, mely kiszámítja az alábbi egyenletrendszer megoldását a Cramer-szabály, illetve a Gauss-módszer segítségével! \n",
    "\n",
    "$$\\left[\\matrix{\n",
    "8 & -6 & -7 & 5 \\cr\n",
    "2 & -1 & -2 & 1 \\cr\n",
    "6 & 1 & -9 & 2 \\cr\n",
    "-2 & -5 & 4 & 0 \\cr\n",
    "}\\right]\n",
    "\\left[ \\matrix{\n",
    "x_1 \\cr x_2 \\cr x_3 \\cr x_4}\\right] = \\left[ \\matrix{\n",
    "-28 \\cr -7 \\cr-23 \\cr 8}\\right]\n",
    "$$\n"
   ]
  },
  {
   "cell_type": "code",
   "execution_count": null,
   "id": "d43f61c9",
   "metadata": {},
   "outputs": [],
   "source": []
  },
  {
   "cell_type": "markdown",
   "id": "af38d830",
   "metadata": {},
   "source": [
    "### 11. Feladat\n",
    "\n",
    "Adjuk meg az előző feladat mátrixának LU-felbontását!"
   ]
  },
  {
   "cell_type": "code",
   "execution_count": null,
   "id": "d175c9df",
   "metadata": {},
   "outputs": [],
   "source": []
  },
  {
   "cell_type": "markdown",
   "id": "2deadc32",
   "metadata": {},
   "source": [
    "### 12. Feladat\n",
    "\n",
    "Írjunk programot, amely megadja az alábbi mátrix  Cholesky-felbontását!\n",
    "\n",
    "$$A =  \\left[\\matrix{ \n",
    "4 & 2 & 1\\cr\n",
    "2 & 17 & 13/2 \\cr\n",
    "1 & 13/2 & 23/2\n",
    "}\\right]$$"
   ]
  },
  {
   "cell_type": "code",
   "execution_count": null,
   "id": "77b31a0d",
   "metadata": {},
   "outputs": [],
   "source": []
  },
  {
   "cell_type": "markdown",
   "id": "bf9578a1",
   "metadata": {},
   "source": [
    "### 13.* Feladat\n",
    "\n",
    "Tekintsük az alábbi mátrixot, mely egy mátrix LU-felbontását tartalmazza olyan módon, hogy a főátló \"alatt\" találhatók a normált L főátló alatti elemei, míg a többi helyeken U értékei szerepelnek: \n",
    "\n",
    "$$A =  \\left[\\matrix{ \n",
    "5 & 4 & 1 \\cr\n",
    "0.8 & 6.8 & 5.2 \\cr\n",
    "0.2 & 13/17 & 65/17 \\cr\n",
    "}\\right]$$\n",
    "\n",
    "Létezik-e az eredeti $A$ mátrixnak Cholesky felbontása?\n",
    "Ha igen, adjuk meg az ehhez tartozó $G$ mátrixot! \n",
    "Adjuk meg az eredeti mátrixot is!"
   ]
  },
  {
   "cell_type": "code",
   "execution_count": null,
   "id": "b46ae45e",
   "metadata": {},
   "outputs": [],
   "source": []
  }
 ],
 "metadata": {
  "kernelspec": {
   "display_name": "Python 3 (ipykernel)",
   "language": "python",
   "name": "python3"
  },
  "language_info": {
   "codemirror_mode": {
    "name": "ipython",
    "version": 3
   },
   "file_extension": ".py",
   "mimetype": "text/x-python",
   "name": "python",
   "nbconvert_exporter": "python",
   "pygments_lexer": "ipython3",
   "version": "3.11.7"
  }
 },
 "nbformat": 4,
 "nbformat_minor": 5
}
