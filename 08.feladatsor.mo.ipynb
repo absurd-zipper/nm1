{
 "cells": [
  {
   "cell_type": "markdown",
   "id": "0",
   "metadata": {},
   "source": [
    "# 8. Numerikus deriválás\n",
    "\n",
    "*(Interpolációból, Taylor-sorfejtéssel, Richardson-extrapoláció, Rácsfüggvényeken ható mátrxalak)*"
   ]
  },
  {
   "cell_type": "markdown",
   "id": "1",
   "metadata": {},
   "source": [
    "### P1. Feladat\n",
    "Írjunk programot amely adott (egyenletes) $[x_0,x_1,..x_n]$ alappontokra és $[y_0,y_1,..y_n]$ függvényértékekre kiszámítja az $n$-edfokú interpolációból származó deriváltformula értékeit minden alapponton. "
   ]
  },
  {
   "cell_type": "code",
   "execution_count": null,
   "id": "2",
   "metadata": {},
   "outputs": [],
   "source": [
    "import numpy as np\n",
    "import matplotlib.pyplot as plt"
   ]
  },
  {
   "cell_type": "code",
   "execution_count": null,
   "id": "3",
   "metadata": {},
   "outputs": [],
   "source": [
    "xs = np.linspace(-1,2,10)\n",
    "ys = np.exp(1/2*xs)\n",
    "\n",
    "# osztott differenciás táblázat\n",
    "\n",
    "def delta(n: int, m: int):\n",
    "    assert n <= m\n",
    "    \n",
    "    if n == m:\n",
    "        return ys[n]\n",
    "    \n",
    "    return (delta(n, m-1) - delta(n+1, m))/(xs[n] - xs[m])\n",
    "\n",
    "def delta_table(xs: np.array, ys: np.array):\n",
    "    assert len(xs) == len(ys)\n",
    "    dX = xs.reshape((-1, 1)) - xs\n",
    "    deltas = np.diag(ys) + 0.0\n",
    "    \n",
    "    for j in range(1, len(ys)):\n",
    "        d = np.diag(deltas, j-1)\n",
    "        deltas += np.diag((d[:-1] - d[1:])/np.diag(dX, j), j)\n",
    "    \n",
    "    return deltas\n",
    "\n",
    "#Newton interpoláció deriváltja - az alappontokon ez lesz a derivált közelítése is\n",
    "\n",
    "def poly_(xs,deltas):\n",
    "    coeff=deltas[0,:]\n",
    "    def g(z,k):\n",
    "        v=0\n",
    "        for j in np.arange(0,k):\n",
    "            v+=np.prod(z - xs[0:k])/(z - xs[j]+1e-60)\n",
    "        return v\n",
    "    \n",
    "    def h(z):\n",
    "        v=0\n",
    "        for j in np.arange(0,len(xs)):\n",
    "            v+=g(z,j)*coeff[j]\n",
    "        return v\n",
    "    return h\n"
   ]
  },
  {
   "cell_type": "code",
   "execution_count": null,
   "id": "4",
   "metadata": {},
   "outputs": [],
   "source": [
    "# interpolációs polinomok deriváltjának ábrázolása\n",
    "\n",
    "h=3/200\n",
    "xx=np.linspace(-1+h,2,200)\n",
    "\n",
    "def deriv(xs,ys):\n",
    "    deltas=delta_table(xs,ys)\n",
    "    polyD=poly_(xs,deltas)\n",
    "    polyD_vec=np.vectorize(polyD)\n",
    "    dy=polyD_vec(xx) \n",
    "    return dy\n",
    "\n",
    "plt.title('derivált közelítése')\n",
    "for N in [2,3,4,8]:\n",
    "    \n",
    "    plt.plot(xx, deriv(np.linspace(-1,2,N),np.exp(1/2*np.linspace(-1,2,N))), label=f'N={N} pontos interpoláció')\n",
    "plt.plot(xx, 1/2*np.exp(1/2*xx),label=f'1/2*e^(x/2)' )\n",
    "\n",
    "plt.legend()\n",
    "plt.show()"
   ]
  },
  {
   "cell_type": "markdown",
   "id": "5",
   "metadata": {},
   "source": [
    "### P2. Feladat\n",
    "Írjunk programot, amelyben $\\sin(x)$ függvényt deriváljuk numerikusan. A $[0,2\\pi]$ intervallumon egyenletes felosztás mellett alkalmazzuk a $f'(x_k)\\approx\\dfrac{f(x_k+h)-f(x_k-h)}{2h}$ közelítést minden rácsponton, ábrázoljuk is az eredményt. Nézzük meg mi történik, ha egymás után többször is végrehajtjuk ezt a műveletet."
   ]
  },
  {
   "cell_type": "code",
   "execution_count": null,
   "id": "6",
   "metadata": {},
   "outputs": [],
   "source": [
    "import matplotlib.pyplot as plt\n",
    "n=100\n",
    "h=2*np.pi/n\n",
    "xs=np.linspace(0,2*np.pi-h,n)\n",
    "ys = np.sin(xs)\n",
    "\n",
    "def mtx_A(n: int) -> np.ndarray:\n",
    "    A=(np.diag(-np.ones(n-1), -1)  + np.diag(np.ones(n-1), 1))\n",
    "    A[0,-1]=-1\n",
    "    A[-1,0]=1\n",
    "    A/=(2*2*np.pi/(n))\n",
    "    return A \n",
    "\n",
    "\n",
    "\n",
    "A=mtx_A(n)\n",
    "\n",
    "plt.title('sin(x) deriváltjai')\n",
    "for N in [1,2,3,4]:\n",
    "    An=np.linalg.matrix_power(A,N)\n",
    "    plt.plot(xs, An@ys, label=f'$A^{N}x$')\n",
    "\n",
    "plt.legend()\n",
    "plt.show()"
   ]
  },
  {
   "cell_type": "markdown",
   "id": "7",
   "metadata": {},
   "source": [
    "### P3. Feladat"
   ]
  },
  {
   "cell_type": "markdown",
   "id": "8",
   "metadata": {},
   "source": [
    "Tekinsük az alábbi egyenletet:\n",
    "$$\n",
    "x^5-10e^{-x} = 0\n",
    "$$\n",
    "\n",
    "Newton-iteráció segítségével keressük ennek az $[1,2]$ intervallumban lévő megoldását, úgy, hogy módosítjuk a Newton módszert a következőképpen: Az $x_{n+1}=x_n-\\dfrac{f(x_n)}{f'(x_n)}$ iterációban $f'(x_n)$ helyett vegyük az $f'(x_n)\\approx\\dfrac{f(x_n)-f(x_{n-1})}{x_n-x_{n-1}}$ közelítést! Most 2 kezdőpontra is szükségünk lesz, ezek legyenek $1$ és $1,1$."
   ]
  },
  {
   "cell_type": "code",
   "execution_count": null,
   "id": "9",
   "metadata": {},
   "outputs": [],
   "source": [
    "import numpy as np\n",
    "\n",
    "# Függvények definiálása\n",
    "def f(x):\n",
    "    return x**5-10*np.exp(-x)\n",
    "\n",
    "# df(x,y):\n",
    "    \n",
    "# Newton-iteráció\n",
    "def newton_iteration(x0,x1,max_iter=100, tol=1e-6):\n",
    "    for i in range(max_iter):\n",
    "        # Függvényértékek és deriváltak kiszámítása a jelenlegi pontban\n",
    "        f_val0 = f(x0)\n",
    "        f_val1 = f(x1)\n",
    "        \n",
    "        it_num=i\n",
    "        \n",
    "        \n",
    "        df_val = (f_val1-f_val0)/(x1-x0)\n",
    "        print(df_val)\n",
    "        # Hiba kiszámítása\n",
    "        error = np.abs(f_val1)\n",
    "        \n",
    "        # Ha elég közel vagyunk a megoldáshoz, kilépünk\n",
    "        if error < tol:\n",
    "            print(\"Megoldás találva:\", x1)\n",
    "            break\n",
    "        \n",
    "        # Newton lépés\n",
    "        dx=-f_val1/df_val\n",
    "        x0 = np.copy(x1)\n",
    "        x1 += dx\n",
    "        #print(x0)\n",
    "        #print(x1)\n",
    "        \n",
    "    \n",
    "    else:\n",
    "        print(\"Nem sikerült megoldást találni\")\n",
    "        \n",
    "    return x1, it_num\n",
    "\n",
    "# Kezdeti pont beállítása\n",
    "x0, x1 = 1, 1.1\n",
    "\n",
    "# Newton-iteráció hívása\n",
    "a,it = newton_iteration(x0, x1)\n",
    "\n",
    "print(\"numerikus megoldás behelyettesítve:\",f(a))\n",
    "print(\"iterációk száma:\", it)"
   ]
  }
 ],
 "metadata": {
  "kernelspec": {
   "display_name": "Python 3 (ipykernel)",
   "language": "python",
   "name": "python3"
  },
  "language_info": {
   "codemirror_mode": {
    "name": "ipython",
    "version": 3
   },
   "file_extension": ".py",
   "mimetype": "text/x-python",
   "name": "python",
   "nbconvert_exporter": "python",
   "pygments_lexer": "ipython3",
   "version": "3.11.8"
  }
 },
 "nbformat": 4,
 "nbformat_minor": 5
}
