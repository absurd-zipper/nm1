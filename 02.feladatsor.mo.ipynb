{
 "cells": [
  {
   "cell_type": "markdown",
   "id": "0",
   "metadata": {},
   "source": [
    "# 2. Feladatsor\n",
    "*(Lineáris egyenletrendszerek, felbontások)*"
   ]
  },
  {
   "cell_type": "markdown",
   "id": "1",
   "metadata": {},
   "source": [
    "Az $A\\in\\mathbb{R^{n\\times n}}$ reguláris ($\\det(A)\\neq0$) mátrixszal leírt egyenletrendszer egyértelműen megoldható. Direkt módszerekkel véges számú lépéssel meghatározhatjuk az egyenletrend-\n",
    "szer pontos megoldását"
   ]
  },
  {
   "cell_type": "markdown",
   "id": "2",
   "metadata": {},
   "source": [
    "**Gauss-elimináció, LU felbontás**\n",
    "\n",
    "Az eljárás során az $Ax=b$ lineáris egyenletrendszert ekvivalens átalakításokkal\n",
    "\n",
    "$$Ux = y$$\n",
    "\n",
    "alakra hozzuk, ahol $U$ felsőháromszög-mátrix, és $\\text{diag}(U) = I$. Ekkor $Ly=b$, ahol $L$ egy alsóháromszög-mátrix, azaz\n",
    "\n",
    "$$LUx = b,$$\n",
    "\n",
    "tehát a Gauss-elimináció ekvivalens azzal, hogy az $A$ mátrixot előállítjuk két speciális\n",
    "tulajdonságú mátrix szorzataként:\n",
    "\n",
    "$$A = LU,$$\n",
    "\n",
    "ahol $L$ invertálható alsó háromszögű mátrix, és $U$ felső háromszögű, a főátlóban 1-esekkel."
   ]
  },
  {
   "cell_type": "markdown",
   "id": "3",
   "metadata": {},
   "source": [
    "A Gauss-elimináció, azaz az $LU$ felbontás is pontosan akkor hajtható végre, ha $A$ minden bal felső főminora\n",
    "nullától különbözik.\n",
    "\n",
    "**Állítás**: Legyen $A\\in \\mathbb{R}^{n×n}$, $\\det (A) \\neq 0$. Ekkor létezik olyan $P$ permutáló mátrix,\n",
    "amelyre $P · A = L · U$.\n",
    "\n",
    "Ez az állítás biztosítja, hogy tetszőleges, reguláris mátrixú lineáris algebrai egyenletrendszer mindig áttranszformálható sorcserékkel olyan rendszerré, amelyre már alkalmazható a Gauss-elimináció. Nincs szükség permutáló mátrixra, ha $A$ szigorúan domináns főátlójú vagy ha szimmetrikus pozitív definit mátrix."
   ]
  },
  {
   "cell_type": "markdown",
   "id": "4",
   "metadata": {},
   "source": [
    "**Cholesky-felbontás**\n",
    "\n",
    "Tegyük fel, hogy az  mátrix szimmetrikus, pozitív definit. Ekkor létezik pontosan egy olyan pozitív diagonálisú  alsó háromszögmátrix, amelyre $A=GG^T$. Ezt a felbontást Cholesky-felbontásnak nevezzük."
   ]
  },
  {
   "cell_type": "markdown",
   "id": "5",
   "metadata": {},
   "source": [
    "### 1. Feladat\n",
    "\n",
    "Adjuk meg kézzel kiszámítva az $$A =  \\left[\\matrix{ \n",
    "2 & -1 & 3\\cr\n",
    "4 & 2 & 1 \\cr\n",
    "-6 & -1 & 2\n",
    "}\\right]$$\n",
    "\n",
    "mátrix $LU$ felbontását, miután ellenőriztük, hogy létezik."
   ]
  },
  {
   "cell_type": "markdown",
   "id": "6",
   "metadata": {},
   "source": [
    "### 2. Feladat\n",
    "\n",
    "Végezzük el az alábbi műveletet! Legyen $A$ az 1. Feladatban adott mátrix. Vegyük az alábbi mátrixot\n",
    "\n",
    "$$\\left[\\matrix{A \\;|\\; I}\\right],$$\n",
    "\n",
    "$I$ $3\\times3$-as identitás mátrixszal kiegészítve. Végezzük el ezen a mátrixon a Gauss elimináció lépéseit $A$ részmátrixot követve, amíg az alábbi alakot nem kapjuk: \n",
    "\n",
    "$$\\left[\\matrix{I \\;|\\; B}\\right],$$\n",
    "\n",
    "tehát most nem csak felsőháromszög-mátrix alakra hozzuk, hanem egységmátrixra. Mit mondhatunk el ekkor a $B$ mátrixról? "
   ]
  },
  {
   "cell_type": "markdown",
   "id": "7",
   "metadata": {},
   "source": [
    "### 3. Feladat\n",
    "Igazoljuk a felsőháromszög-mátrixok alábbi tulajdonságait! (alsóháromszögmátrixokra analóg)\n",
    "\n",
    "1. Két felsőháromszög-mátrix szorzata szintén felsőháromszög-mátrix.\n",
    "2. Determinánsa a főátlóbeli elemek szorzata.\n",
    "3. Sajátértékei éppen a főátlóban lévő elemei a megfelelő multiplicitással.\n",
    "4. Egy felsőháromszög-mátrix inverze szintén felsőháromszög-mátrix."
   ]
  },
  {
   "cell_type": "markdown",
   "id": "8",
   "metadata": {},
   "source": [
    "### 4. Feladat\n",
    "\n",
    "Előadáson láttuk, hogy az LU felbontásban az $U$ mátrix főátlóbeli elemei 1-esek voltak, míg az $L$ mátrix főátlóbeli elemei (általában) nem. Egy $A$ mátrix LU felbontásának segítségével mutassuk meg, hogy létezik egy másik $\\tilde LDU$ felbontás, ahol $\\tilde L,U$ főátlóbeli elemei 1-esek, $D$ pedig diagonális. "
   ]
  },
  {
   "cell_type": "markdown",
   "id": "9",
   "metadata": {},
   "source": [
    "### 5. Feladat\n",
    "Adjuk meg az 1. feladatbeli mátrix $LDU$ felbontását."
   ]
  },
  {
   "cell_type": "markdown",
   "id": "10",
   "metadata": {},
   "source": [
    "### 6. Feladat\n",
    "\n",
    "Tegyük fel, hogy $A$ egy szimmetrikus pozitív definit mátrix. Hogyan tudjuk meghatározni a Cholesky-felbontását az $LDU$ felbontás segítségével, mi az összefüggés a kettő között?"
   ]
  },
  {
   "cell_type": "markdown",
   "id": "11",
   "metadata": {},
   "source": [
    "### 7. Feladat\n",
    " \n",
    " Legyen   $$A=\\left[\\matrix{2 & -1 & 0\\cr\n",
    "                          -1 & 2 & -1\\cr \n",
    "                          0 & -1 & 2}\\right]$$\n",
    "                          \n",
    "Ellenőrizzük, hogy az $A$ mátrixnak lesz Cholesky-felbontása, majd adjuk is meg!"
   ]
  },
  {
   "cell_type": "markdown",
   "id": "12",
   "metadata": {},
   "source": [
    "### 8.* Feladat\n",
    "(Összefüggés $L$ és $A$ gyöke közt a Cholesky-felbontásban)\n",
    "\n",
    "Vezessük be egy négyzetes mátrix poláris felbontásának fogalmát. $B$ négyzetes mátrix felírható $B=QP$ (vagy $B=PQ$) alakban, ahol $P=(B^*B)^{1/2}$. A mátrix gyöke értelmezhető, ugyanis $B^*B$ szimmetrikus pozitív szemidefinit mátrix, így a sajátérték felbontásban felírható $(B^*B)^{1/2}=VD^{1/2}V^*$ egy $V$ ortogonális mátrix mellett. A kapott $Q=BP^{-1}$ (vagy $Q=P^{-1}B$) mátrix unitér  (mutassuk meg). Ezt a felbontást hívjuk a $B$ mátrix poláris felbontásának.\n",
    "\n",
    "Mutassuk meg, hogy egy $A$ szimmetrikus pozitív definit mátrix esetén a Cholesky-felbontásból származó $L$ mátrixra, ha $L=QP$ az $L$ mátrix poláris felbontása, teljesül hogy \n",
    "\n",
    "$$LQ^{-1}=\\sqrt{A}.$$\n"
   ]
  },
  {
   "cell_type": "markdown",
   "id": "13",
   "metadata": {},
   "source": [
    "### 9. Feladat\n",
    "\n",
    "Vizsgáljuk meg mi lesz a poláris felbontása az alábbi típusú mátrixoknak: unitér, önadjungált, ferdén önadjungált, szimmetrikus pozitív definit."
   ]
  },
  {
   "cell_type": "markdown",
   "id": "14",
   "metadata": {},
   "source": [
    "### 10. Feladat\n",
    "\n",
    "Írjunk programot, amely egy adott négyzetes mátrixra kiszámolja a sarokdeterminánsait!"
   ]
  },
  {
   "cell_type": "code",
   "execution_count": null,
   "id": "15",
   "metadata": {},
   "outputs": [],
   "source": [
    "import numpy as np\n",
    "\n",
    "def sarok_det(A: np.ndarray) -> np.array:\n",
    "\n",
    "    v = np.zeros(len(A))\n",
    "\n",
    "    for j in range(len(A)):\n",
    "        v[j] = np.linalg.det(A[:j+1,:j+1])\n",
    "\n",
    "    return(v)\n",
    "\n",
    "A = np.array([[1, 2, 3], [4, 5, 6], [7, 8, 9]])\n",
    "sarok_det(A)\n"
   ]
  },
  {
   "cell_type": "markdown",
   "id": "16",
   "metadata": {},
   "source": [
    " ### 11. Feladat\n",
    " \n",
    " Írjunk programot, amely eldönti, hogy a mátrix szigorúan diagonálisan domináns-e vagy sem!"
   ]
  },
  {
   "cell_type": "code",
   "execution_count": null,
   "id": "17",
   "metadata": {},
   "outputs": [],
   "source": [
    "import numpy as np\n",
    "\n",
    "def diag_dom(A: np.ndarray) -> bool:\n",
    "    abs_sum = np.sum(np.abs(A), axis=1)\n",
    "    diag_abs = 2 * np.abs(np.diag(A))\n",
    "\n",
    "    is_SD = np.all(diag_abs > abs_sum)\n",
    "    return is_SD\n",
    "\n",
    "# A = np.array([[1, 2, 5], [2, 1, 3], [5, 3, 4]])\n",
    "# A = np.array([[-1, 0, 2], [0, 1, 3], [0, 1, 5]])\n",
    "A = np.array([[4, 1, 1], [1, 3, 0], [2, -1, -7]])\n",
    "# A = np.array([[-4, 1, 1], [1, 3, -3], [2, -1, -7]])\n",
    "\n",
    "diag_dom(A)\n"
   ]
  },
  {
   "cell_type": "markdown",
   "id": "18",
   "metadata": {},
   "source": [
    "### 12. Feladat\n",
    "\n",
    "Írjunk programot, amely kiszámítja az alábbi egyenletrendszer megoldását a Gauss-módszer segítségével! \n",
    "\n",
    "$$\\left[\\matrix{\n",
    "8 & -6 & -7 & 5 \\cr\n",
    "2 & -1 & -2 & 1 \\cr\n",
    "6 & 1 & -9 & 2 \\cr\n",
    "-2 & -5 & 4 & 0 \\cr\n",
    "}\\right]\n",
    "\\left[ \\matrix{\n",
    "x_1 \\cr x_2 \\cr x_3 \\cr x_4}\\right] = \\left[ \\matrix{\n",
    "-28 \\cr -7 \\cr-23 \\cr 8}\\right]\n",
    "$$\n"
   ]
  },
  {
   "cell_type": "code",
   "execution_count": null,
   "id": "19",
   "metadata": {},
   "outputs": [],
   "source": [
    "import numpy as np\n",
    "\n",
    "# Maga a mátrix:\n",
    "A = np.array([[8, -6, -7, 5],\n",
    "              [2, -1, -2, 1],\n",
    "              [6, 1, -9, 2],\n",
    "              [-2, -5, 4, 0]], dtype='f')\n",
    "\n",
    "# A jobb oldal:\n",
    "b = np.array([-28, -7, -23, 8],  dtype='f').reshape(-1, 1)  # 1D tömbből 2D tömbbé alakítás"
   ]
  },
  {
   "cell_type": "code",
   "execution_count": null,
   "id": "20",
   "metadata": {},
   "outputs": [],
   "source": [
    "# Gauss-elimináció\n",
    "\n",
    "def lu_felb(A,b):\n",
    "    M = np.hstack((A, b))\n",
    "    L=np.eye(np.size(A,0))\n",
    "    D=np.zeros(np.shape(A))\n",
    "    print('A rendszert leíró kiegészített mátrix')\n",
    "    print(M)\n",
    "    # U meghatározása\n",
    "    for i in range(np.size(A,0)):\n",
    "        # i. sor normalizálása\n",
    "        D[i,i]=np.copy(M[i,i])\n",
    "        M[i, i:] = M[i, i:] / M[i, i]\n",
    "    \n",
    "        # i. sor megfelelő együtthatókkal súlyozott változatainak\n",
    "        # kivonása az alatta lévő sorokból    \n",
    "        for j in range(i+1, M.shape[0]):\n",
    "            L[j, i] = np.copy(M[j, i]/D[i,i])\n",
    "            M[j, :] -= M[j, i] * M[i, :]\n",
    "        \n",
    "\n",
    "    print('M immár felsőháromszög alakú, leszámítva az utolsó oszlopot:')\n",
    "    print(M)\n",
    "    print('Normált főátlójú L:')\n",
    "    print(L)\n",
    "    U=np.copy(M[:,:-1])\n",
    "\n",
    "    # Visszahelyettesítés\n",
    "    for j in range(np.size(A,0)-1, -1, -1):\n",
    "        # j. oszlopbeli elemek kiütése;\n",
    "        # ugyanezen múvelet elvégzése a hozzácsatolt, utolsó oszlopon\n",
    "        M[:j, -1] -= M[j, -1] * M[:j, j]\n",
    "        # ismerve a kimenetelt, nem muszáj elvégeznünk a műveletet\n",
    "        M[:j, j] = 0\n",
    "\n",
    "    print('A Gauss(-Jordan) elimináció (ideértve a visszahelyettesítést) eredménye:')\n",
    "    print(M)\n",
    "    return(L,D,U)"
   ]
  },
  {
   "cell_type": "code",
   "execution_count": null,
   "id": "21",
   "metadata": {},
   "outputs": [],
   "source": [
    "lu_felb(A,b)"
   ]
  },
  {
   "cell_type": "markdown",
   "id": "22",
   "metadata": {},
   "source": [
    "### 13. Feladat\n",
    "\n",
    "Adjuk meg az előző feladat mátrixának LU-felbontását!"
   ]
  },
  {
   "cell_type": "code",
   "execution_count": null,
   "id": "23",
   "metadata": {},
   "outputs": [],
   "source": []
  },
  {
   "cell_type": "markdown",
   "id": "24",
   "metadata": {},
   "source": [
    "### 14. Feladat\n",
    "\n",
    "Írjunk programot, amely megadja az alábbi mátrix  Cholesky-felbontását!\n",
    "\n",
    "$$A =  \\left[\\matrix{ \n",
    "4 & 2 & 1\\cr\n",
    "2 & 17 & 13/2 \\cr\n",
    "1 & 13/2 & 23/2\n",
    "}\\right]$$"
   ]
  },
  {
   "cell_type": "code",
   "execution_count": null,
   "id": "25",
   "metadata": {},
   "outputs": [],
   "source": [
    "A=np.array([[4,2,1],[2,17,13/2],[1,13/2,23/2]])\n",
    "[L,D,U]=lu_felb(A,np.ones([3,1]))\n",
    "\n",
    "\n",
    "L@D**(1/2)"
   ]
  },
  {
   "cell_type": "markdown",
   "id": "26",
   "metadata": {},
   "source": [
    "### 15.* Feladat\n",
    "\n",
    "Tekintsük az alábbi mátrixot, mely egy mátrix LU-felbontását tartalmazza olyan módon, hogy a főátló \"alatt\" találhatók a normált $L$ főátló alatti elemei, míg a többi helyeken U értékei szerepelnek: \n",
    "\n",
    "$$A =  \\left[\\matrix{ \n",
    "5 & 4 & 1 \\cr\n",
    "0.8 & 6.8 & 5.2 \\cr\n",
    "0.2 & 13/17 & 65/17 \\cr\n",
    "}\\right]$$\n",
    "\n",
    "Létezik-e az eredeti $A$ mátrixnak Cholesky felbontása?\n",
    "Ha igen, adjuk meg az ehhez tartozó $G$ mátrixot! \n",
    "Adjuk meg az eredeti mátrixot is!"
   ]
  },
  {
   "cell_type": "code",
   "execution_count": null,
   "id": "27",
   "metadata": {},
   "outputs": [],
   "source": []
  }
 ],
 "metadata": {
  "kernelspec": {
   "display_name": "Python 3 (ipykernel)",
   "language": "python",
   "name": "python3"
  },
  "language_info": {
   "codemirror_mode": {
    "name": "ipython",
    "version": 3
   },
   "file_extension": ".py",
   "mimetype": "text/x-python",
   "name": "python",
   "nbconvert_exporter": "python",
   "pygments_lexer": "ipython3",
   "version": "3.11.7"
  }
 },
 "nbformat": 4,
 "nbformat_minor": 5
}
