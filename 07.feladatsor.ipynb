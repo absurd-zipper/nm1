{
 "cells": [
  {
   "cell_type": "markdown",
   "id": "0",
   "metadata": {},
   "source": [
    "# 7. Feladatsor\n",
    "\n",
    "*(Spline, trigonometrikus polinom, interpolációból származtatható integrál- és deriváltformulák, egyszerű kvadratúrák)*"
   ]
  },
  {
   "cell_type": "markdown",
   "id": "1",
   "metadata": {},
   "source": [
    "## Spline\n",
    "\n",
    "Adott $[a,b]$ intervallumon szakaszonként $n$-edfokú polinomokból álló, $(n-1)$-szer folytonosan differenciálható függvényt spline-nak nevezünk. Az $(n=3)$ esetet **köbös spline**-nak.\n",
    "\n",
    "Paraméterezzünk egy ilyet. Legyenek $x_j$ rácspontok, $y_j$ pedig az ott felveendő értékek $(j=0 \\ldots n)$. \n",
    "Nézzük az $[x_j, x_{j+1}]$ intervallumot és használjuk az eddigi ötleteinket egy olyan harmadfokú polinom paraméterezésére, ami a végpontokban a megfelelő értékeket veszi fel.\n",
    "$$\n",
    "    s_j(x) = y_j + \\frac{y_{j+1} - y_j}{x_{j+1} - x_j} (x - x_j) + (x-x_j)(x-x_{j+1})(a_j(x-x_j) + b_j) = l_j(x) + (x-x_j)(x-x_{j+1})e_j(x) = (l_j + w_j e_j)(x)\n",
    "$$\n",
    "Ahol $e_j, l_j$ lineáris, $w_j$ pedig kvadratikus polinom, és az utóbbi kettő együtthatóit az $y_j$ értékek, illetve az $x_j$ alappontok meghatározzák."
   ]
  },
  {
   "cell_type": "markdown",
   "id": "2",
   "metadata": {},
   "source": [
    "A számolást el lehet végezni, de a lényeg az ötlet.\n",
    "\n",
    "<details>\n",
    "<summary> <em> hic sunt dracones</em> </summary>\n",
    "\n",
    "Minden pontban, ami nem végpont ($x_j, j = 1 \\dots n-1$) adott két csatlakozási feltételünk. Ezek biztosításához szükségünk lesz a polinomok első két deriváltjára, melyek rendre\n",
    "$$s_j' = l_{j}' + w_j'e_j +w_j e_j'$$\n",
    "és\n",
    "$$s_j'' = l_j'' + w_j''e_j + 2w_j'e_j' + w_je_j''.$$\n",
    "\n",
    "Mivel a feltételeink azt mondják, hogy minden ilyen $j$ esetén\n",
    "$$s_j'(x_j) = s_{j-1}'(x_j) \\qquad \\text{és} \\qquad s_j''(x_j) = s_{j-1}''(x_j)$$\n",
    "teljesül, ezért\n",
    "először is\n",
    "$$ \\left(l_{j}' + w_j'e_j +w_j e_j'\\right)(x_j) = \\left(l_{j-1}' + w_{j-1}'e_{j-1} +w_{j-1} e_{j-1}'\\right)(x_{j}),$$\n",
    "amiből a tagok és tényezők fokszámát kihasználva, behelyettesítéssel kapjuk, hogy\n",
    "$$ \n",
    " \\frac{y_{j+1} - y_j}{x_{j+1} - x_j} + (x_j - x_{j+1})b_j + 0 =   \\frac{y_{j} - y_{j-1}}{x_{j} - x_{j-1}} + (x_j - x_{j-1})( a_{j-1}(x_j - x_{j-1}) + b_{j-1}) + 0;\n",
    "$$\n",
    "másodszor pedig, kihasználva, hogy \n",
    "$$s_j'' = l_j'' + w_j''e_j + 2w_j'e_j' + w_je_j'' = 2e_j + 2w_j'e_j',$$\n",
    "adódik az egyenletünk\n",
    "$$ (e_j + w_j'e_j')(x_j) = (e_{j-1} + w_{j-1}'e_{j-1}')(x_j)$$\n",
    "alakja, mely behelyettesítés után az\n",
    "$$\n",
    "    b_j + (x_j - x_{j+1})a_j = a_{j-1}(x_j - x_{j-1}) + b_{j-1} + (x_j - x_{j-1})a_{j-1}\n",
    "$$\n",
    "alakot ölti. Ha $\\nu_j = x_{j+1} - x_{j}$, és $\\delta_j = \\frac{y_{j+1} - y_{j}}{\\nu_j}$, akkor ezek az egyenletek rendre\n",
    "$$\n",
    " \\delta_{j} - \\nu_{j}b_j =   \\delta_{j-1} + a_{j-1}\\nu_{j-1}^2 + b_{j-1}\\nu_{j-1}\n",
    "$$\n",
    "és\n",
    "$$\n",
    " b_j - \\nu_{j} a_j = 2a_{j-1}\\nu_{j-1} + b_{j-1},\n",
    "$$\n",
    "alakúak, azaz lineárisak az $a_k, b_k$ vátozókban.\n",
    "\n",
    "Próbáljuk még egyszerűsíteni az életünket, legyen $\\gamma_{j-1} = \\frac{\\delta_j - \\delta_{j-1}}{\\nu_{j-1}}$, $c_j = \\nu_j a_j$.\n",
    "Ekkor\n",
    "$$\n",
    "  c_{j-1} = \\gamma_{j-1} - \\frac{\\nu_{j}}{\\nu_{j-1}}b_j - b_{j-1} \\qquad\\qquad (j=1..n-1)\n",
    "$$\n",
    "és\n",
    "$$\n",
    " b_j - b_{j-1} = c_j + 2c_{j-1}. \\qquad\\qquad (j=1..n-1)\n",
    "$$\n",
    "Tehát, egyrészt \n",
    "$$\n",
    " b_{n-1} - b_{n-2} = c_{n-1} + 2c_{n-2},\n",
    "$$\n",
    "másrészt\n",
    "$$\n",
    " b_j - b_{j-1} = \n",
    " \\left(\\gamma_{j} - \\frac{\\nu_{j+1}}{\\nu_{j}}b_{j+1} - b_{j}\\right)\n",
    " + 2\\left(\\gamma_{j-1} - \\frac{\\nu_{j}}{\\nu_{j-1}}b_j - b_{j-1}\\right), \\qquad\\qquad (j=1..n-2)\n",
    "$$\n",
    "azaz\n",
    "$$\n",
    " \\frac{\\nu_{j+1}}{\\nu_{j}}b_{j+1} + 2\\left(1 + \\frac{\\nu_{j}}{\\nu_{j-1}}\\right) b_{j} + b_{j-1} = \\gamma_j + 2\\gamma_{j-1}. \\qquad\\qquad (j=1..n-2)\n",
    "$$\n",
    "Vagyis ha ismerjük a $b_0, \\ldots, b_{n-1}$ értékeket, akkor azokból tudjuk a $c_0, \\ldots, c_{n-2}$ értékeket is, amikkel pedig már a $c_{n-1}$-et is. Tehát a $c_j$-k ilyenkor megvannak.\n",
    "\n",
    "Az $n$ darab $b_j$ meghatározására maradt $(n-2)$ egyenlet. Ha ezek mellett adott $b_0$ és $b_{n-1}$, akkor a többi $b_j$ is megkapható.\n",
    "</details>"
   ]
  },
  {
   "cell_type": "markdown",
   "id": "3",
   "metadata": {},
   "source": [
    "### Köbös, természetes spline $3$ egymást egységnyi távolságra követő alappontra"
   ]
  },
  {
   "cell_type": "markdown",
   "id": "4",
   "metadata": {
    "jp-MarkdownHeadingCollapsed": true
   },
   "source": [
    "\n",
    "#### Egy lehetséges megközelítés\n",
    "Adott $x_0, x_1, x_2$ pontokra és $y_0, y_1, y_2$ értékekre kereshetjük a két részből álló spline formuláját az alábbi alakban:\n",
    "\n",
    "$$[x_0, x_1] \\ni x \\quad \\mapsto \\quad p_0(x) =  y_0 + \\delta_{0,1} (x-x_0) + (x-x_0)(x - x_1)(a(x-x_0) + b)$$\n",
    "és\n",
    "$$[x_1, x_2] \\ni x \\quad \\mapsto \\quad p_1(x) =  y_2 + \\delta_{2,1} (x-x_2) + (x-x_1)(x - x_2)(c(x-x_2) + d).$$\n",
    "\n",
    "Tehát ismeretlenek: $a,b,c,d$. A csatlakozási pont az $x_1$, a simasághoz itt kell a két polinom első két deriváltjának egyenlőségét biztosítani. \n",
    "\n",
    "<details>\n",
    "<summary> ...számolás... </summary>\n",
    "\n",
    "$$ p_0'(x) = \\delta_{0,1} + (x - x_0 + x - x_1)(a(x-x_0) + b) + (x-x_0)(x-x_1)a $$\n",
    "és\n",
    "$$ p_0''(x)  = 2(a(x-x_0) + b) + (x-x_0 + x-x_1)(a + a), $$\n",
    "illetve analóg módon\n",
    "$$ p_1'(x) = \\delta_{1,2} + (x - x_1 + x - x_2)(c(x-x_2) + d) + (x-x_1)(x-x_2)c $$\n",
    "és\n",
    "$$ p_1''(x)  = 2(c(x-x_2) + d) + (x-x_1 + x-x_2)(c+c). $$\n",
    "\n",
    "**Tegyük fel**, hogy $x_{j+1} - x_j = 1$ minden $j$-re. \n",
    "Az első deriváltak $x_1$-beli egyenlősége pont azt jelenti, hogy\n",
    "$$\\delta_{0,1} + (1 + 0)(a\\cdot 1 + b) + 1\\cdot 0 \\cdot a = \\delta_{1,2} + (0 - 1)(c(-1) + d) + 0,$$\n",
    "\n",
    "azaz $$a + b = \\delta_{1,2} - \\delta_{0,1} + c - d.$$\n",
    "Behelyettesítve az $x_1$ értéket a második deriváltakba, adódik, hogy \n",
    "$$ 2(a + b) + 2a(1 + 0) = 2(c(-1) + d) + 2c(-1), $$\n",
    "azaz\n",
    "$$ 4a + 2b = 2d - 4c. $$\n",
    "\n",
    "**Tegyük fel**, hogy $p_0''(x_0) = 0 = p_1''(x_2)$, mely a természetes spline definiáló tulajdonsága.\n",
    "Ekkor teljesül, hogy\n",
    "$$ 2b + 2a(-1) = 0 =  2d + 2c, $$\n",
    "azaz $b = a, c = -d$, amivel a deriváltak $x_1$-beli egyenlőségét leíró egyenletek alakja a következőkre egyszerűsödik:\n",
    "$$2a = \\delta_{1,2} - \\delta_{0,1} + 2c $$\n",
    "és\n",
    "$$ 6a = -6c.$$\n",
    "</details>\n",
    "amiből tehát\n",
    "$$\n",
    "a = \\frac{\\delta_{1,2} - \\delta_{0,1}}{4}, \\quad b = a, \\quad c=-a, \\quad d=a\n",
    "$$\n"
   ]
  },
  {
   "cell_type": "markdown",
   "id": "5",
   "metadata": {},
   "source": [
    "#### Egy másik lehetséges megközelítés\n",
    "\n",
    "Másként is paraméterezhetünk. Tegyük fel, hogy az alappontjaink a $-1, 0, 1$ a pontbeli értékeink pedig  $y_{-1}, y_0, y_1$. Ekkor a $0$-beli $0., 1., 2.$ deriváltak egyezőségét felhasználva:\n",
    "\n",
    "$$p_0(x) =  y_0 + y_0'x + \\frac{y_0''}{2}x^2 + a_0 x^3$$\n",
    "és\n",
    "$$p_1(x) =  y_0 + y_0'x + \\frac{y_0''}{2}x^2 + a_1 x^3,$$\n",
    "\n",
    "ahol tehát az $y_0', y_0'', a_0, a_1$ paramétereket kell még kiszámolnunk.\n",
    "\n",
    "A természetes splineság miatt a két végpontban a második deriváltak nullák, azaz\n",
    "$$\n",
    "y_0'' + 6a_0 (-1) = p_0''(-1) = 0 = p_1''(1) = y_0'' + 6a_1,\n",
    "$$\n",
    "tehát $a_0 = -a_1, y_0'' = 6 a_0$. \n",
    "\n",
    "Legyen $a = a_0$. Ekkor tehát\n",
    "\n",
    "$$p_0(x) =  y_0 + y_0'x + 3ax^2 + a x^3, \\quad p_1(x) =  y_0 + y_0'x + 3ax^2 - a x^3.$$\n",
    "\n",
    "A végpontokban felvett értékekből\n",
    "\n",
    "$$y_{-1} = p_0(-1) =  y_0 - y_0' + 3a - a, \\quad y_{1} = p_1(1) = y_0 + y_0' + 3a - a,$$\n",
    "\n",
    "melyeket egyrészt összeadva, majd az egyenletet rendezve kapjuk, hogy\n",
    "\n",
    "$$y_{-1} - y_0 + y_{1} - y_0 = 4a,$$\n",
    "\n",
    "másrészt egymásból kivonva, majd az egyenletet rendezve kapjuk, hogy\n",
    "$$ \n",
    "y_1 - y_{-1} = 2 y_0'.\n",
    "$$\n",
    "\n",
    "Ha az alappontjaink nem a $-1, 0, 1$, hanem a $x_0 -h, x_0, x_0+h$, akkor a már megkonstruált polinomjainkat eltranszformálhatjuk, és készen is vagyunk:\n",
    "\n",
    "$$\n",
    "x \\mapsto p_0((x - x_0)/h), \\quad x \\mapsto p_1((x - x_0)/h).\n",
    "$$"
   ]
  },
  {
   "cell_type": "markdown",
   "id": "6",
   "metadata": {},
   "source": [
    "### 1. Feladat\n",
    "\n",
    "Írjuk fel az $(-1, 0, 1)$ pontokhoz és $(1, 0, 1)$ értékekhez tartozó köbös spline-okat definiáló egyenleteket. Majd számoljuk ki, hogy milyen polinomokat kapunk akkor, ha a végpontokban a második deriváltat $0$-nak írjuk elő."
   ]
  },
  {
   "cell_type": "code",
   "execution_count": null,
   "id": "7",
   "metadata": {},
   "outputs": [],
   "source": []
  },
  {
   "cell_type": "markdown",
   "id": "8",
   "metadata": {},
   "source": [
    "## Trigonometrikus polinom\n",
    "\n",
    "Ha $a_j \\in \\mathbb{R}$ valós együtthatók, akkor az\n",
    "\n",
    "$$\n",
    "x \\mapsto a_0 + \\sum_{n=1}^N a_n \\cos(nx) + b_n \\sin(nx)\n",
    "$$\n",
    "\n",
    "kifejezést valós trigonometrikus polinomnak nevezzük.\n",
    "\n",
    "**Motiváció:**\n",
    "\n",
    "Az elnevezést motiválandó, ha $p$ komplex-együtthatós polinom, $x$ valós szám, akkor\n",
    "\n",
    "$$ p(\\mathrm{e}^{ix}) = \\sum_{n=0}^N c_n \\mathrm{e}^{inx} = \\sum_{n=0}^N c_n \\left(\\cos(nx) + i \\sin(nx)\\right).$$\n",
    "\n",
    "Szemmel láthatóan $2\\pi$-periodikus függvényekről van szó, tehát $x \\in [0, 2\\pi]$ feltehető. A gyakorlatban is jól használhatóak periodikus függvények egyenletes közelítésére."
   ]
  },
  {
   "cell_type": "markdown",
   "id": "9",
   "metadata": {},
   "source": [
    "### 2. Feladat\n",
    "\n",
    "Írjuk fel azt a lineáris egyenletrendszert, melynek megoldása a kettes norma szerinti legjobban illeszkedő trigonometrikus polinomunk együtthatóit adja meg adott $N$ esetén."
   ]
  },
  {
   "cell_type": "code",
   "execution_count": null,
   "id": "10",
   "metadata": {},
   "outputs": [],
   "source": []
  },
  {
   "cell_type": "markdown",
   "id": "11",
   "metadata": {},
   "source": [
    "----"
   ]
  },
  {
   "cell_type": "markdown",
   "id": "12",
   "metadata": {},
   "source": [
    "## Interpolációból származtatható integrál- és deriváltformulák\n",
    "\n",
    "**Ötlet:** Ha az $f$ függvényt nem tudjuk közvetlenül deriválni, vagy integrálni, akkor vegyük helyette egy $p$ interpolációs polinomját. Ezt könnyű deriválni és integrálni. Közelítsük a keresett integrál és derivált értékét az $\\int p$ és $p'$ függvényekbe való helyettesítéssel."
   ]
  },
  {
   "cell_type": "markdown",
   "id": "13",
   "metadata": {},
   "source": [
    "### 3. Feladat\n",
    "\n",
    "Legyenek az alappontok $0, h$; azaz tegyük fel, hogy ezekben a pontokban ismerjük a függvény által felvett $(y_0, y_h)$ értékeket. \n",
    "\n",
    "Írjuk fel az interpolációs polinom Newton-féle alakját és ennek segítségével vezessünk le közelítő formulákat az $$f'(0),\\quad f'(h),\\quad \\int_{-h}^h f$$ értékekre."
   ]
  },
  {
   "cell_type": "code",
   "execution_count": null,
   "id": "14",
   "metadata": {},
   "outputs": [],
   "source": []
  },
  {
   "cell_type": "markdown",
   "id": "15",
   "metadata": {},
   "source": [
    "### 4. Feladat\n",
    "\n",
    "Legyenek az alappontok $-h, 0, h$; azaz tegyük fel, hogy ezekben a pontokban ismerjük a függvény által felvett $(y_{-h}, y_0, y_h)$ értékeket. \n",
    "\n",
    "Írjuk fel az interpolációs polinom Newton-féle alakját és ennek segítségével vezessük le az alábbi közelítő formulákat:\n",
    "$$\n",
    "\\begin{align*}\n",
    "f'(0) \\approx p'(0) &= \\frac{y_h - y_{-h}}{2h}, \\\\\n",
    "\\int_{-h}^h f \\approx \\int_{-h}^h p &= 2h\\frac16\\left(y_{-h} + 4 y_0 + y_h\\right).\n",
    "\\end{align*}\n",
    "$$"
   ]
  },
  {
   "cell_type": "code",
   "execution_count": null,
   "id": "16",
   "metadata": {},
   "outputs": [],
   "source": []
  },
  {
   "cell_type": "markdown",
   "id": "17",
   "metadata": {},
   "source": [
    "----"
   ]
  },
  {
   "cell_type": "markdown",
   "id": "18",
   "metadata": {},
   "source": [
    "## Kvadratúrák\n",
    "\n",
    "**Ötlet:**\n",
    "Adott $f: [0,1] \\to \\mathbb{R}$ függvény, $0 \\leq c_j \\leq 1$ alappontok és $b_j \\in \\mathbb{R}$ súlyok mellett tekintsük az alábbi közelítést: $$\\int_0^1 f \\approx \\sum\\limits_{j=1}^s b_j f(c_j). $$\n",
    "\n",
    "**Rend:** Egy ilyen kvadratúrát $p$-edrendűnek nevezünk, ha pontosan integrálja a legfeljebb $(p-1)$-edfokú polinomokat, de a $p$-edfokúakat már nem.\n",
    "\n",
    "**Rendfeltételek:**\n",
    "Egy $p$-edrendű kvadratúra pontosan kell, hogy integrálja az $1, x, x^2, \\ldots, x^{p-1}$ monomokat. Fordítva, ha egy kvadratúra ezeket pontosan integrálja, akkor ezek lineáris kombinációit is (hiszen az integrálás lineáris), tehát minden legfeljebb $(p-1)$-edfokú polinomot, tehát legalább $p$-edrendű.\n",
    "\n",
    "Behelyettesítve, ez azt jelenti, hogy az alábbi feltételeknek kell teljesülnie a (legalább) p-edrendűséghez:\n",
    "$$\n",
    "  \\sum\\limits_{j=1}^s b_j c_j^{q-1} = \\int_0^1 x^{q-1} \\, dx = \\frac{1}{q}. \\qquad (q=1\\ldots p)\n",
    "$$\n",
    "\n",
    "Nevezetesen, ha olyan \"kvadratúrát\" látunk, mely a konstansokat sem integrálja jól, azaz melyre\n",
    "$\\sum b_j \\neq 1$, akkor meneküljünk.\n",
    "\n",
    "**Megjegyzés:** Nagy rendet az alappontok és súlyok jó megválasztásával érhetünk el, a maximális rendet a Gauss-féle kvadratúrák tudják. Ezek rendje $2s$. Az alappontok bizonyos ortogonális polinomok gyökei lesznek."
   ]
  },
  {
   "cell_type": "code",
   "execution_count": null,
   "id": "19",
   "metadata": {},
   "outputs": [],
   "source": []
  },
  {
   "cell_type": "markdown",
   "id": "20",
   "metadata": {},
   "source": [
    "### 5. Feladat\n",
    "\n",
    "Legyen $s=1$. Adjuk meg kézzel a másodrendű (Gauss-féle) kvadratúrát megadó $b_1, c_1$ értékeket. Milyen polinomokat fog ez pontosan integrálni?\n"
   ]
  },
  {
   "cell_type": "code",
   "execution_count": null,
   "id": "21",
   "metadata": {},
   "outputs": [],
   "source": []
  },
  {
   "cell_type": "markdown",
   "id": "22",
   "metadata": {},
   "source": [
    "### 6. Feladat\n",
    "Legyen $s=2$. Tegyük fel, hogy tudjuk, hogy $b_1 = b_2$. Mely $b_1, b_2, c_1, c_2$ értékekkel kapjuk meg a negyedrendű (Gauss-féle) kvadratúrát?"
   ]
  },
  {
   "cell_type": "code",
   "execution_count": null,
   "id": "23",
   "metadata": {},
   "outputs": [],
   "source": []
  },
  {
   "cell_type": "markdown",
   "id": "24",
   "metadata": {},
   "source": [
    "----"
   ]
  },
  {
   "cell_type": "markdown",
   "id": "25",
   "metadata": {},
   "source": [
    "### P1. Feladat\n",
    "\n",
    "Írjunk programot, ami adott $x$ és $y$ -pontokat és az ott felveendő értékeket tartalmazó- **három hosszú** vektorokra köbös spline-ot illeszt, a \"természetes\" (végpontokban eltűnő második derivált) peremfeltétellel. Feltehetjük, hogy a pontok egymást egyenlő távolságban követik, hogy könnyebb legyen leírni a megoldást."
   ]
  },
  {
   "cell_type": "code",
   "execution_count": null,
   "id": "26",
   "metadata": {},
   "outputs": [],
   "source": []
  },
  {
   "cell_type": "markdown",
   "id": "27",
   "metadata": {},
   "source": [
    "### P2*. Feladat\n",
    "\n",
    "Írjunk programot, ami adott $x$ és $y$ -pontokat és az ott felveendő értékeket tartalmazó- vektorokra köbös spline-ot illeszt, pl. a \"természetes\" (végpontokban eltűnő második derivált) peremfeltétellel. Ha szeretnénk, feltehetjük, hogy az alappontjaink egyenletesek."
   ]
  },
  {
   "cell_type": "code",
   "execution_count": null,
   "id": "28",
   "metadata": {},
   "outputs": [],
   "source": []
  },
  {
   "cell_type": "markdown",
   "id": "29",
   "metadata": {},
   "source": [
    "### P3. Feladat\n",
    "\n",
    "Írjunk programot, ami adott $x$ és $y$ -pontokat és az ott felveendő értékeket tartalmazó- vektorokra ráilleszti a kettes norma szerinti legjobb trigonometrikus polinomot (az $N$ legyen bemeneti paraméter).\n",
    "\n",
    "Alkalmazzuk ezt a programot akkor, ha az $x, y$ vektorok az\n",
    "$$\n",
    "[0, 2\\pi] \\ni x \\mapsto \\left(\\pi - |\\pi-x|\\right)\n",
    "$$jelből származó egyenletes mintavételezés eredményét tartalmazzák."
   ]
  },
  {
   "cell_type": "code",
   "execution_count": null,
   "id": "30",
   "metadata": {},
   "outputs": [],
   "source": []
  },
  {
   "cell_type": "markdown",
   "id": "31",
   "metadata": {},
   "source": [
    "### P4. Feladat\n",
    "\n",
    "Írjunk programot, ami kiszámolja egy adott kvadratúra rendjét. Próbáljuk is ki néhány formulán (pl. azokon, amiket levezettünk)."
   ]
  },
  {
   "cell_type": "code",
   "execution_count": null,
   "id": "32",
   "metadata": {},
   "outputs": [],
   "source": []
  },
  {
   "cell_type": "markdown",
   "id": "33",
   "metadata": {},
   "source": [
    "## Monte-Carlo-integrálás\n",
    "\n",
    "**Ötlet:** Az alappontjainkat választhatjuk akár véletlenszerűen is.\n",
    "\n",
    "Ismeretes, hogy ha $X$ egy valószínűségi változó, mely $\\rho$ sűrűségfüggvénye a $[0,1]$-re koncentrált, akkor adott mérhető $f$ függvény mellett\n",
    "$$\n",
    "\\mathbb{E}[f(X)] = \\int\\limits_0^1 f(x) \\rho (x) \\, dx.\n",
    "$$\n",
    "Látható, hogy ha $\\rho = \\chi_{[0,1]}$, azaz a $[0,1]$ intervallum indikátorfüggvénye, akkor \n",
    "$$\n",
    "\\mathbb{E}[f(X)] = \\int\\limits_0^1 f(x) \\, dx.\n",
    "$$\n",
    "Hogyan tudnánk a baloldalon álló kifejezést közelíteni? A nagy számok gyenge törvényével, természetesen!\n",
    "\n",
    "Sorsoljunk tehát a $[0,1]$-en egyenletes eloszlásból $\\xi_j$ értékeket, helyettesítsük ezeket be és vegyük a kapott értékek átlagát:\n",
    "$$\n",
    " \\mathbb{E}[f(X)] \\approx \\frac{1}{N} \\sum\\limits_{j=1}^N f(\\xi_j).\n",
    "$$\n"
   ]
  },
  {
   "cell_type": "markdown",
   "id": "34",
   "metadata": {},
   "source": [
    "### P5. Feladat\n",
    "\n",
    "Írjunk programot, ami ezzel a megközelítéssel dolgozva határozza meg egy $[0,1]$ intervallumon vett intergál közelítő-értékét. Próbáljuk is ki ezt, például az $x^4$ függvényre. Ábrázoljuk hibákat log-log ábrán és fogalmazzunk meg sejtést arról, hogy kb. hányszorosára változik a hiba, ha a sorsolt pontok számát megtízszerezzük."
   ]
  },
  {
   "cell_type": "code",
   "execution_count": null,
   "id": "35",
   "metadata": {},
   "outputs": [],
   "source": []
  }
 ],
 "metadata": {
  "kernelspec": {
   "display_name": "Python 3 (ipykernel)",
   "language": "python",
   "name": "python3"
  },
  "language_info": {
   "codemirror_mode": {
    "name": "ipython",
    "version": 3
   },
   "file_extension": ".py",
   "mimetype": "text/x-python",
   "name": "python",
   "nbconvert_exporter": "python",
   "pygments_lexer": "ipython3",
   "version": "3.11.8"
  }
 },
 "nbformat": 4,
 "nbformat_minor": 5
}
