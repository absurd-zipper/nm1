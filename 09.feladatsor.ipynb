{
 "cells": [
  {
   "cell_type": "markdown",
   "id": "0",
   "metadata": {},
   "source": [
    "# 9. Közönséges differenciálegyenletek numerikus integrálása\n",
    "\n",
    "*(Lineáris többlépéses módszerek, Runge-Kutta módszerek, hibafogalmak a lineáris tesztegyenleten, módszer rendje Taylor-sorfejtéssel)*"
   ]
  },
  {
   "cell_type": "markdown",
   "id": "1",
   "metadata": {},
   "source": [
    "**Differenciálegyenlet**\n",
    "\n",
    "Csak autonóm egyenletekkel foglalkozunk, azaz legyen\n",
    "\n",
    "$$ \\dot x(t) = f(x(t)).$$\n",
    "\n",
    "Ekkor persze\n",
    "$$\n",
    "x(s) = x(0) + \\int\\limits_0^s f(x(\\tau)) \\, d\\tau.\n",
    "$$\n",
    "\n",
    "A folytonos dinamikai rendszer állapotterét $s$ idővel előretoló operátor legyen\n",
    "$$\\phi(s, x_0) = x_0 + \\int\\limits_0^s f(\\phi(\\tau, x_0)) \\, d\\tau,$$\n",
    "ahol $x_0$ a kezdeti állapot."
   ]
  },
  {
   "cell_type": "markdown",
   "id": "2",
   "metadata": {},
   "source": [
    "**Diszkretizáció**\n",
    "\n",
    "Közelítsük a folytonos rendszert egy diszkrét rendszerrel a következőképpen: válasszunk egy $h > 0$ lépéshosszt, szemelőtt tartva, hogy diszkrét rendszer időben eggyel való előretolásával a folytonos rendszer $h$ hosszú lépését kívánjuk közelíteni. \n",
    "\n",
    "Hozzunk tehát létre egy diszkrét dinamikai rendszert, mely esetén az időt (eggyel) előretoló operátort jelöljük $\\phi_h$ módon.\n",
    "\n",
    "Az egyik lehető legegyszerűbb ötlet, hogy legyen \n",
    "\n",
    "$$ \\phi_h(x_0) = x_0 + hf(x_0),$$\n",
    "\n",
    "melyet explicit Euler-módszernek (EE) szokás nevezni.\n",
    "\n",
    "A célunkat tehát úgy is megfogalmazhatjuk, hogy a $\\phi(h, \\cdot)$ függvényt szeretnénk közelíteni egy alkalmas $\\phi_h$ függvénnyel. Ilyen közelítésre alkalmas két nagy módszercsaládba fogunk belepillantani."
   ]
  },
  {
   "cell_type": "markdown",
   "id": "3",
   "metadata": {},
   "source": [
    "\n",
    "\n",
    "**A lineáris tesztegyenlet**\n",
    "\n",
    "Érdemes megemlíteni, hogy ha az $f(x) = \\lambda \\cdot x$ egyenletet tekintjük, ahol $\\lambda \\in \\mathbb{C}$ egy konstans, akkor az EE módszer képlete\n",
    "\n",
    "$$ \\phi_h(x_0) = x_0 + hf(x_0) = (1 + z)x_0, $$\n",
    "ahol $z = \\lambda h$.\n",
    "\n",
    "Tehát ebben az esetben a $\\phi(h, \\cdot)$ függvénynek, azaz az $x \\mapsto e^z \\cdot x$ leképezésnek egy (elsőrendű) közelítése az $x \\mapsto (1+z)x$ függvény, mely pont az EE módszerhez tartozó $\\phi_h$."
   ]
  },
  {
   "cell_type": "markdown",
   "id": "4",
   "metadata": {},
   "source": [
    "---"
   ]
  },
  {
   "cell_type": "markdown",
   "id": "5",
   "metadata": {},
   "source": [
    "## Lineáris többlépéses módszerek (interpolációból)\n",
    "\n",
    "**A(z állandó lépéshosszú) lineáris többlépéses módszerek általános alakja**\n",
    "\n",
    "Tegyük fel, hogy rendelkezésünkre állnak az $y_{n-s}, \\ldots, y_{n-1}$ értékek, melyek közelítik az $x((n-s)h), \\ldots, x((n-1)h)$ értékeket. \n",
    "\n",
    "Ekkor egy $s$-lépéses ($s \\in \\mathbb{N}_{\\neq 0}$) lineáris többlépéses módszer általános alakja az $nh$ időponthoz tartozó $y_n$ numerikus közelítés kiszámításához a következő:\n",
    "\n",
    "$$ \\sum\\limits_{j=0}^{s} \\alpha_j y_{n-j} = h\\sum\\limits_{j=0}^{s} \\beta_j f_{n-j}.$$\n",
    "\n",
    "A formula így még nem egyértelmű, ezért fel szokás tenni, hogy pl. $\\alpha_{0} = 1$.\n",
    "\n",
    "Ha $\\beta_0 = 0$, akkor a módszer explicit, egyébként implicit. \n",
    "\n",
    "A módszercsaládra magyarul az LTM betűszót használhatjuk, angolul pedig az LMM-et.\n"
   ]
  },
  {
   "cell_type": "markdown",
   "id": "6",
   "metadata": {},
   "source": [
    "**Adams-módszerek**\n",
    "\n",
    "A differenciálegyenlet integrál-alakja\n",
    "\n",
    "$$x(t) - x(0) = \\int_{s=0}^{t}f(x(s)) \\, ds.$$\n",
    "\n",
    "A jobboldali integrált lehetséges az $x(t_j) \\approx y_j$ numerikus közelítéshez tartozó $hf(y_j)$ súlyozott meredekségek lineáris kombinációjával közelíteni. Így kaphatjuk meg például az (s-lépéses) Adams-módszereket is, melyek általános formulája tehát\n",
    "\n",
    "$$\n",
    "y_{n} = y_{n-1} + h \\sum\\limits_{j=0}^s \\beta_j f_{n-j}.\n",
    "$$\n",
    "\n",
    "Az explicit módszerek **Adams-Bashfort** névre hallgatnak, ilyenek például az\n",
    "$$\n",
    "\\begin{align*}\n",
    " y_n &= y_{n-1} + hf_{n-1}, \\\\\n",
    " y_n &= y_{n-1} + h\\left(\\frac32 f_{n-1} - \\frac12 f_{n-2} \\right), \\\\\n",
    " y_n &= y_{n-1} + h\\left(\\frac{23}{12} f_{n-1} - \\frac{16}{12} f_{n-2} + \\frac{5}{12} f_{n-3} \\right) \\\\\n",
    "\\end{align*}\n",
    "$$\n",
    "módszerek; az implicit módszerek **Adams-Moulton** néven is ismertek, ilyenek például az\n",
    "$$\n",
    "\\begin{align*}\n",
    "y_n &= y_{n-1} + hf_{n}, \\\\\n",
    "y_n &= y_{n-1} + h\\left(\\frac12 f_{n} + \\frac12 f_{n-1} \\right), \\\\\n",
    "y_n &= y_{n-1} + h\\left(\\frac{5}{12} f_{n} + \\frac{8}{12} f_{n-1} - \\frac{1}{12} f_{n-2} \\right), \\\\\n",
    "\\end{align*}\n",
    "$$\n",
    "módszerek. Pontosabb levezetésért tekintsük az alábbi feladatokat."
   ]
  },
  {
   "cell_type": "markdown",
   "id": "7",
   "metadata": {},
   "source": [
    "### 1. Feladat\n",
    "\n",
    "Tekintsük azt az $(s-1)$-edfokú $p$ interpolációs polinomot, melyre teljesül, hogy\n",
    "$$\n",
    "\\begin{align*}\n",
    "p(-h) &= f_{n-1}, \\\\\n",
    "p(-2h) &= f_{n-2}, \\\\\n",
    " &\\vdots \\\\\n",
    "p(-sh) &= f_{n-s}.\n",
    "\\end{align*}\n",
    "$$\n",
    "legyen $$y_{n} = y_{n-1} + \\int_{-h}^0 p.$$"
   ]
  },
  {
   "cell_type": "markdown",
   "id": "8",
   "metadata": {},
   "source": [
    "a) Milyen módszert kapunk, ha $s=1$?"
   ]
  },
  {
   "cell_type": "code",
   "execution_count": null,
   "id": "9",
   "metadata": {},
   "outputs": [],
   "source": []
  },
  {
   "cell_type": "markdown",
   "id": "10",
   "metadata": {},
   "source": [
    "b) Milyen módszert kapunk, ha $s=2$?"
   ]
  },
  {
   "cell_type": "code",
   "execution_count": null,
   "id": "11",
   "metadata": {},
   "outputs": [],
   "source": []
  },
  {
   "cell_type": "markdown",
   "id": "12",
   "metadata": {},
   "source": [
    "### 2. Feladat\n",
    "\n",
    "Tekintsük azt az $(s-1)$-edfokú $p$ interpolációs polinomot, melyre teljesül, hogy\n",
    "$$\n",
    "\\begin{align*}\n",
    "p(0) &= f_{n},    \\\\\n",
    "p(-h) &= f_{n-1}, \\\\\n",
    "p(-2h) &= f_{n-2}, \\\\\n",
    " &\\vdots \\\\\n",
    "p\\left(-(s-1)h\\right) &= f_{n-(s-1)}.\n",
    "\\end{align*}\n",
    "$$\n",
    "legyen $$y_{n} = y_{n-1} + \\int_{-h}^0 p.$$"
   ]
  },
  {
   "cell_type": "markdown",
   "id": "13",
   "metadata": {},
   "source": [
    "a) Milyen módszert kapunk, ha $s=1$?"
   ]
  },
  {
   "cell_type": "code",
   "execution_count": null,
   "id": "14",
   "metadata": {},
   "outputs": [],
   "source": []
  },
  {
   "cell_type": "markdown",
   "id": "15",
   "metadata": {},
   "source": [
    "b) Milyen módszert kapunk, ha $s=2$?"
   ]
  },
  {
   "cell_type": "code",
   "execution_count": null,
   "id": "16",
   "metadata": {},
   "outputs": [],
   "source": []
  },
  {
   "cell_type": "markdown",
   "id": "17",
   "metadata": {},
   "source": [
    "**BDF-módszerek**\n",
    "\n",
    "A backward differentiation formulae angol elnevezésből származó BDF betűszót szokás a magyarban is használni. A módszerek egy kellően általános alakja a\n",
    "$$ \\sum_{j=0}^s \\alpha_j y_j = hf_{n}, $$\n",
    "mely láthatóan egy implicit módszercsaládot takar. Néhány ilyen módszer az alábbi:\n",
    "\n",
    "$$\n",
    "\\begin{align*}\n",
    " y_{n} - y_{n-1} = hf_{n}, \\\\\n",
    " \\frac32 y_n - 2 y_{n-1} + \\frac12 y_{n-2} = hf_n, \\\\\n",
    " \\frac{11}{6} y_n - 3 y_{n-1} + \\frac32 y_{n-2} - \\frac13 y_{n-3}= hf_n.\n",
    "\\end{align*}\n",
    "$$\n",
    "\n",
    "A módszercsalád szintén motiválható egy interpolációs polinomon keresztül."
   ]
  },
  {
   "cell_type": "markdown",
   "id": "18",
   "metadata": {},
   "source": [
    "### 3. Feladat\n",
    "\n",
    "Legyen $q$ egy olyan $s$-edfokú interpolációs polinom, melyre\n",
    "\n",
    "$$\n",
    "\\begin{align*}\n",
    "q'(0) &= f_{n},    \\\\\n",
    "q(-h) &= y_{n-1}, \\\\\n",
    "q(-2h) &= y_{n-2}, \\\\\n",
    " &\\vdots \\\\\n",
    "q\\left(-(s-1)h\\right) &= y_{n-(s-1)},\n",
    "\\end{align*}\n",
    "$$\n",
    "és legyen $$y_{n} = q(0).$$"
   ]
  },
  {
   "cell_type": "markdown",
   "id": "19",
   "metadata": {},
   "source": [
    "a) Milyen módszert kapunk, ha $s=1$?"
   ]
  },
  {
   "cell_type": "code",
   "execution_count": null,
   "id": "20",
   "metadata": {},
   "outputs": [],
   "source": []
  },
  {
   "cell_type": "markdown",
   "id": "21",
   "metadata": {},
   "source": [
    "b) Milyen módszert kapunk, ha $s=2$?"
   ]
  },
  {
   "cell_type": "code",
   "execution_count": null,
   "id": "22",
   "metadata": {},
   "outputs": [],
   "source": []
  },
  {
   "cell_type": "markdown",
   "id": "23",
   "metadata": {},
   "source": [
    "---"
   ]
  },
  {
   "cell_type": "markdown",
   "id": "24",
   "metadata": {},
   "source": [
    "## Runge-Kutta módszerek\n",
    "\n",
    "Az $s$-lépcsős RK módszert definiáló $b_i, c_i, a_{ij}$ együtthatók $(i,j=1\\ldots s)$ ismeretében a módszert megadó formula a következő:\n",
    "\n",
    "$$Y_i = x_0 + \\sum\\limits_{j=1}^s a_{ij} hf(Y_j),$$\n",
    "\n",
    "$$x_1 = x_0 + \\sum\\limits_{i=1}^s b_i hf(Y_i).$$"
   ]
  },
  {
   "cell_type": "markdown",
   "id": "25",
   "metadata": {},
   "source": [
    "**Butcher-tabló**\n",
    "\n",
    "Az együtthatókat szokás egy ún. Butcher-tablóba gyűjteni, melynek alakja \n",
    "<table style=\"text-align: center\" cellspacing=\"0\" cellpadding=\"3\">\n",
    "<tbody>\n",
    "<tr>\n",
    "<td style=\"border-right:1px solid; border-bottom:1px solid;\">$c$</td>\n",
    "<td style=\"border-bottom:1px solid;\">$A$</td>\n",
    "</tr>\n",
    "<tr>\n",
    "<td style=\"border-right:1px solid;\"></td>\n",
    "<td>$b^T$</td></tr></tbody></table>\n",
    "\n",
    "ahol tehát $A, b, c$ az együtthatókból képzett mátrix, illetve vektorok. Az autonóm esetben $c$ lényegtelen. Kétlépcsős $(s=2)$ esetben például a tabló általános alakja a következő:\n",
    "<table style=\"text-align: center\" cellspacing=\"0\" cellpadding=\"3\">\n",
    "<tbody><tr>\n",
    "<td style=\"border-right:1px solid;\">$c_1$</td>\n",
    "<td>$a_{11}$</td>\n",
    "<td>$a_{12}$</td>\n",
    "</tr>\n",
    "<tr>\n",
    "<td style=\"border-right:1px solid; border-bottom:1px solid;\">$c_2$</td>\n",
    "<td style=\"border-bottom:1px solid;\">$a_{21}$</td>\n",
    "<td style=\"border-bottom:1px solid;\">$a_{22}$</td></tr>\n",
    "<tr>\n",
    "<td style=\"border-right:1px solid;\"></td>\n",
    "<td>$b_1$</td>\n",
    "<td>$b_2$\n",
    "</td></tr></tbody></table>"
   ]
  },
  {
   "cell_type": "markdown",
   "id": "26",
   "metadata": {},
   "source": [
    "### 4. Feladat\n",
    "\n",
    "Runge-Kutta módszerek-e az alábbiak? Ha igen, mi a Butcher-tablójuk?"
   ]
  },
  {
   "cell_type": "markdown",
   "id": "27",
   "metadata": {},
   "source": [
    "a) $$ x_1 = x_0 + hf(x_0) $$"
   ]
  },
  {
   "cell_type": "code",
   "execution_count": null,
   "id": "28",
   "metadata": {},
   "outputs": [],
   "source": []
  },
  {
   "cell_type": "markdown",
   "id": "29",
   "metadata": {},
   "source": [
    "b) $$ x_1 = x_0 + hf(x_1) $$\n"
   ]
  },
  {
   "cell_type": "code",
   "execution_count": null,
   "id": "30",
   "metadata": {},
   "outputs": [],
   "source": []
  },
  {
   "cell_type": "markdown",
   "id": "31",
   "metadata": {},
   "source": [
    "\n",
    "c) $$ Y_1 = x_0 + hf(x_0) $$\n",
    "\n",
    "$$ Y_2 = x_0 + hf(Y_2) $$\n",
    "\n",
    "$$ x_1 = x_0 + \\frac{h}{2}\\left(f(Y_1) + f(Y_2)\\right)$$\n"
   ]
  },
  {
   "cell_type": "code",
   "execution_count": null,
   "id": "32",
   "metadata": {},
   "outputs": [],
   "source": []
  },
  {
   "cell_type": "markdown",
   "id": "33",
   "metadata": {},
   "source": [
    "d) $$ Y_1 = x_0 + \\frac{h}{2} f(Y_1) $$\n",
    "$$ x_1 = Y_1 + \\frac{h}{2}f(Y_1) $$"
   ]
  },
  {
   "cell_type": "code",
   "execution_count": null,
   "id": "34",
   "metadata": {},
   "outputs": [],
   "source": []
  },
  {
   "cell_type": "markdown",
   "id": "35",
   "metadata": {},
   "source": [
    "e)\n",
    "\n",
    "$$ x_1 = x_0 + \\frac{h}{2}\\left( f(x_0) + f(x_1) \\right) $$"
   ]
  },
  {
   "cell_type": "code",
   "execution_count": null,
   "id": "36",
   "metadata": {},
   "outputs": [],
   "source": []
  },
  {
   "cell_type": "markdown",
   "id": "37",
   "metadata": {},
   "source": [
    "### 5. Feladat\n",
    "\n",
    "Írjuk fel az alábbi módszereket megadó formulákat a módszerek Butcher-tablója alapján!"
   ]
  },
  {
   "cell_type": "markdown",
   "id": "38",
   "metadata": {},
   "source": [
    "a)\n",
    "\n",
    "<table style=\"text-align: center\" cellspacing=\"0\" cellpadding=\"3\">\n",
    "<tbody>\n",
    "<tr>\n",
    "<td style=\"border-right:1px solid; border-bottom:1px solid;\">1</td>\n",
    "<td style=\"border-bottom:1px solid;\">1/2</td>\n",
    "</tr>\n",
    "<tr>\n",
    "<td style=\"border-right:1px solid;\"></td>\n",
    "<td>1</td></tr></tbody></table>"
   ]
  },
  {
   "cell_type": "code",
   "execution_count": null,
   "id": "39",
   "metadata": {},
   "outputs": [],
   "source": []
  },
  {
   "cell_type": "markdown",
   "id": "40",
   "metadata": {},
   "source": [
    "b)\n",
    "<!-- Forras: https://en.wikipedia.org/wiki/Runge%E2%80%93Kutta_methods -->\n",
    "<table style=\"text-align: center\" cellspacing=\"0\" cellpadding=\"3\">\n",
    "<tbody><tr>\n",
    "<td style=\"border-right:1px solid;\">0\n",
    "</td></tr>\n",
    "<tr>\n",
    "<td style=\"border-right:1px solid; border-bottom:1px solid;\">1/2</td>\n",
    "<td style=\"border-bottom:1px solid;\">1/2</td>\n",
    "<td style=\"border-bottom:1px solid;\">\n",
    "</td></tr>\n",
    "<tr>\n",
    "<td style=\"border-right:1px solid;\"></td>\n",
    "<td>0</td>\n",
    "<td>1\n",
    "</td></tr></tbody></table>"
   ]
  },
  {
   "cell_type": "code",
   "execution_count": null,
   "id": "41",
   "metadata": {},
   "outputs": [],
   "source": []
  },
  {
   "cell_type": "markdown",
   "id": "42",
   "metadata": {},
   "source": [
    "\n",
    "<!-- Forras: https://en.wikipedia.org/wiki/Runge%E2%80%93Kutta_methods -->\n",
    "\n",
    "c) \n",
    "<table style=\"text-align: center\" cellspacing=\"0\" cellpadding=\"3\">\n",
    "<tbody><tr>\n",
    "<td style=\"border-right:1px solid;\">0\n",
    "</td></tr>\n",
    "<tr>\n",
    "<td style=\"border-right:1px solid;\">1/2</td>\n",
    "<td>1/2\n",
    "</td></tr>\n",
    "<tr>\n",
    "<td style=\"border-right:1px solid;\">1/2</td>\n",
    "<td>0</td>\n",
    "<td>1/2\n",
    "</td></tr>\n",
    "<tr>\n",
    "<td style=\"border-right:1px solid; border-bottom:1px solid;\">1</td>\n",
    "<td style=\"border-bottom:1px solid;\">0\n",
    "</td>\n",
    "<td style=\"border-bottom:1px solid;\">0</td>\n",
    "<td style=\"border-bottom:1px solid;\">1\n",
    "</td>\n",
    "<td style=\"border-bottom:1px solid;\">\n",
    "</td></tr>\n",
    "<tr>\n",
    "<td style=\"border-right:1px solid;\"></td>\n",
    "<td>1/6</td>\n",
    "<td>1/3</td>\n",
    "<td>1/3</td>\n",
    "<td>1/6\n",
    "</td></tr></tbody></table>"
   ]
  },
  {
   "cell_type": "code",
   "execution_count": null,
   "id": "43",
   "metadata": {},
   "outputs": [],
   "source": []
  },
  {
   "cell_type": "markdown",
   "id": "44",
   "metadata": {},
   "source": [
    "d)\n",
    "\n",
    "<!-- Forras: https://en.wikipedia.org/wiki/Runge%E2%80%93Kutta_methods -->\n",
    "<table style=\"text-align: center\" cellspacing=\"0\" cellpadding=\"3\">\n",
    "<tbody><tr>\n",
    "<td style=\"border-right:1px solid;\">0\n",
    "</td></tr>\n",
    "<tr>\n",
    "<td style=\"border-right:1px solid; border-bottom:1px solid;\">1</td>\n",
    "<td style=\"border-bottom:1px solid;\"></td>\n",
    "<td style=\"border-bottom:1px solid;\">1</td></tr>\n",
    "<tr>\n",
    "<td style=\"border-right:1px solid;\"></td>\n",
    "<td>1/2</td>\n",
    "<td>1/2</td></tr></tbody></table>"
   ]
  },
  {
   "cell_type": "code",
   "execution_count": null,
   "id": "45",
   "metadata": {},
   "outputs": [],
   "source": []
  },
  {
   "cell_type": "markdown",
   "id": "46",
   "metadata": {},
   "source": [
    "e)\n",
    "\n",
    "<table style=\"text-align: center\" cellspacing=\"0\" cellpadding=\"3\">\n",
    "<tbody><tr>\n",
    "<td style=\"border-right:1px solid;\">0\n",
    "</td></tr>\n",
    "<tr>\n",
    "<td style=\"border-right:1px solid; border-bottom:1px solid;\">1</td>\n",
    "<td style=\"border-bottom:1px solid;\">1/2</td>\n",
    "<td style=\"border-bottom:1px solid;\">1/2</td></tr>\n",
    "<tr>\n",
    "<td style=\"border-right:1px solid;\"></td>\n",
    "<td>1/2</td>\n",
    "<td>1/2</td></tr></tbody></table>"
   ]
  },
  {
   "cell_type": "code",
   "execution_count": null,
   "id": "47",
   "metadata": {},
   "outputs": [],
   "source": []
  },
  {
   "cell_type": "markdown",
   "id": "48",
   "metadata": {},
   "source": [
    "---"
   ]
  },
  {
   "cell_type": "markdown",
   "id": "49",
   "metadata": {},
   "source": [
    "## Rendfogalmak a lineáris tesztegyenleten"
   ]
  },
  {
   "cell_type": "markdown",
   "id": "50",
   "metadata": {},
   "source": [
    "Tekintsük az\n",
    "\n",
    "$$ \\dot x(t) = \\lambda \\cdot x(t) $$\n",
    "\n",
    "egyenletet, ahol $\\lambda$ legyen egy komplex szám. Ha a kezdeti feltételünk $x(0) = 1$, akkor a megoldás\n",
    "\n",
    "$$x(t) = e^{\\lambda t} = e^z = \\sum_{j=0}^{\\infty} \\frac{z^j}{j!},$$\n",
    "ahol $z = \\lambda t$."
   ]
  },
  {
   "cell_type": "markdown",
   "id": "51",
   "metadata": {},
   "source": [
    "### 6. Feladat \n",
    "\n",
    "Adott numerikus módszer (\n",
    "* EE módszer.\n",
    "* IE módszer.\n",
    "* Egy fél IE-lépés és egy fél EE-lépés egymásutánja.\n",
    "\n",
    ") és a fenti egyenlet, illetve kezdeti feltétel esetén gondoljuk meg, hogy mi lesz a módszer\n",
    "\n",
    "*a)* egy lépése (a $z$ függvényeként),\n",
    "\n",
    "*b)* lokális hibája (azaz a hiba egy lépés után),\n",
    "\n",
    "*c)* rendjére egy felső becslés,\n",
    "\n",
    "*d)* globális hibája (azaz például tegyük fel, hogy $N$ lépést teszünk a num. módszerrel $1/N$ lépéshosszal, majd tekintsük a végpontbeli hibát).\n",
    "\n",
    "\n"
   ]
  },
  {
   "cell_type": "code",
   "execution_count": null,
   "id": "52",
   "metadata": {},
   "outputs": [],
   "source": []
  },
  {
   "cell_type": "markdown",
   "id": "53",
   "metadata": {},
   "source": [
    "---"
   ]
  },
  {
   "cell_type": "markdown",
   "id": "54",
   "metadata": {},
   "source": [
    "## Numerikus módszer rendje Taylor-sorfejtéssel"
   ]
  },
  {
   "cell_type": "markdown",
   "id": "55",
   "metadata": {},
   "source": [
    "### 7. Feladat\n",
    "\n",
    "Legyen $$\\phi_h(x_0) = x_0 + hf\\left(x_0 + \\frac12 h f(x_0)\\right).$$\n",
    " \n",
    "Runge-Kutta módszeről van szó? Ha igen, mi a Butcher-tablója? A lineáris tesztegyenleten való viselkedésén keresztül sejtsük meg a módszer rendjét, majd állapítsuk is meg azt sorfejtéssel."
   ]
  },
  {
   "cell_type": "code",
   "execution_count": null,
   "id": "56",
   "metadata": {},
   "outputs": [],
   "source": []
  },
  {
   "cell_type": "markdown",
   "id": "57",
   "metadata": {},
   "source": [
    "### 8. Feladat \n",
    "\n",
    "Számoljuk ki Taylor-sorfejtéssel az adott formula által leírt módszer rendjét, ha feltesszük, hogy az legfeljebb 2.\n",
    "\n",
    "a) $$ y_n = y_{n-1} + h\\left(\\frac12 f_{n} + \\frac12 f_{n-1} \\right) $$ "
   ]
  },
  {
   "cell_type": "code",
   "execution_count": null,
   "id": "58",
   "metadata": {},
   "outputs": [],
   "source": []
  },
  {
   "cell_type": "markdown",
   "id": "59",
   "metadata": {},
   "source": [
    "b) $$ y_n = y_{n-1} + h\\left(\\frac32 f_{n-1} - \\frac12 f_{n-2} \\right) $$"
   ]
  },
  {
   "cell_type": "code",
   "execution_count": null,
   "id": "60",
   "metadata": {},
   "outputs": [],
   "source": []
  },
  {
   "cell_type": "markdown",
   "id": "61",
   "metadata": {},
   "source": [
    "----"
   ]
  },
  {
   "cell_type": "markdown",
   "id": "62",
   "metadata": {},
   "source": [
    "### P1. Feladat\n",
    "\n",
    "\n",
    "Oldjuk meg az alábbi kezdetiérték-problémát\n",
    "$$\n",
    "\\begin{cases}\n",
    "\\dot x &= x \\\\\n",
    "     x(0) &= 1\n",
    "\\end{cases}\n",
    "$$\n",
    "az EE módszerrel, $h=0.1$ lépéshosszal. \n",
    "\n",
    "Ábrázoljuk a kapott numerikus trajektóriát, valamint a pontos megoldás trajektóriáját is."
   ]
  },
  {
   "cell_type": "code",
   "execution_count": null,
   "id": "63",
   "metadata": {},
   "outputs": [],
   "source": []
  },
  {
   "cell_type": "markdown",
   "id": "64",
   "metadata": {},
   "source": [
    "### P2. Feladat\n",
    "\n",
    "Tekintsük az\n",
    "$$\\ddot x = - x$$\n",
    "egyenletet."
   ]
  },
  {
   "cell_type": "markdown",
   "id": "65",
   "metadata": {},
   "source": [
    "a) Vezessük vissza egy elsőrendű rendszerre."
   ]
  },
  {
   "cell_type": "code",
   "execution_count": null,
   "id": "66",
   "metadata": {},
   "outputs": [],
   "source": []
  },
  {
   "cell_type": "markdown",
   "id": "67",
   "metadata": {},
   "source": [
    "b) Ábrázoljuk a kapott vektormezőt az egységnégyzeten."
   ]
  },
  {
   "cell_type": "code",
   "execution_count": null,
   "id": "68",
   "metadata": {},
   "outputs": [],
   "source": []
  },
  {
   "cell_type": "markdown",
   "id": "69",
   "metadata": {},
   "source": [
    "c) Alkalmazzuk erre a rendszerre a korábbi feladatokban szereplő módszerek közül az alábbiakat:\n",
    "\n",
    " * 4/a),\n",
    " * 4/b),\n",
    " * 5/c)."
   ]
  },
  {
   "cell_type": "code",
   "execution_count": null,
   "id": "70",
   "metadata": {},
   "outputs": [],
   "source": []
  },
  {
   "cell_type": "markdown",
   "id": "71",
   "metadata": {},
   "source": [
    "\n",
    "d) Végezetül készítsünk egy ábrát, melyen összehasonlítjuk a három módszer által adott, $[0, 2\\pi]$ időintervallumhoz tartozó trajektóriákat (a fázistérben), például $h=0.01\\pi$ lépéshossz mellett."
   ]
  },
  {
   "cell_type": "code",
   "execution_count": null,
   "id": "72",
   "metadata": {},
   "outputs": [],
   "source": []
  }
 ],
 "metadata": {
  "kernelspec": {
   "display_name": "Python 3 (ipykernel)",
   "language": "python",
   "name": "python3"
  },
  "language_info": {
   "codemirror_mode": {
    "name": "ipython",
    "version": 3
   },
   "file_extension": ".py",
   "mimetype": "text/x-python",
   "name": "python",
   "nbconvert_exporter": "python",
   "pygments_lexer": "ipython3",
   "version": "3.12.3"
  }
 },
 "nbformat": 4,
 "nbformat_minor": 5
}
