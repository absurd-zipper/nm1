{
 "cells": [
  {
   "cell_type": "markdown",
   "id": "93cc69e0",
   "metadata": {},
   "source": [
    "# 9. Közönséges differenciálegyenletek numerikus integrálása\n",
    "\n",
    "*(Lineáris többlépéses módszerek, Runge-Kutta módszerek, hibafogalmak a lineáris tesztegyenleten, módszer rendje Taylor-sorfejtéssel)*"
   ]
  },
  {
   "cell_type": "markdown",
   "id": "6cb73a16-b7c9-41c4-857a-88e5eb57ff3c",
   "metadata": {},
   "source": [
    "**Differenciálegyenlet**\n",
    "\n",
    "Csak autonóm egyenletekkel foglalkozunk, azaz legyen\n",
    "\n",
    "$$ \\dot x(t) = f(x(t)).$$\n",
    "\n",
    "Ekkor persze\n",
    "$$\n",
    "x(s) = x(0) + \\int\\limits_0^s f(x(\\tau)) \\, d\\tau.\n",
    "$$\n",
    "\n",
    "A folytonos dinamikai rendszer állapotterét $s$ idővel előretoló operátor legyen\n",
    "$$\\phi(s, x_0) = x_0 + \\int\\limits_0^s f(\\phi(\\tau, x_0)) \\, d\\tau,$$\n",
    "ahol $x_0$ a kezdeti állapot."
   ]
  },
  {
   "cell_type": "markdown",
   "id": "da5c9ef6-af77-40c3-8f83-16186ba9e2f3",
   "metadata": {},
   "source": [
    "**Diszkretizáció**\n",
    "\n",
    "Közelítsük a folytonos rendszert egy diszkrét rendszerrel a következőképpen: válasszunk egy $h > 0$ lépéshosszt, szemelőtt tartva, hogy diszkrét rendszer időben eggyel való előretolásával a folytonos rendszer $h$ hosszú lépését kívánjuk közelíteni. \n",
    "\n",
    "Hozzunk tehát létre egy diszkrét dinamikai rendszert, mely esetén az időt (eggyel) előretoló operátort jelöljük $\\phi_h$ módon.\n",
    "\n",
    "Az egyik lehető legegyszerűbb ötlet, hogy legyen \n",
    "\n",
    "$$ \\phi_h(x_0) = x_0 + hf(x_0),$$\n",
    "\n",
    "melyet explicit Euler-módszernek (EE) szokás nevezni.\n",
    "\n",
    "A célunkat tehát úgy is megfogalmazhatjuk, hogy a $\\phi(h, \\cdot)$ függvényt szeretnénk közelíteni egy alkalmas $\\phi_h$ függvénnyel. Ilyen közelítésre alkalmas két nagy módszercsaládba fogunk belepillantani."
   ]
  },
  {
   "cell_type": "markdown",
   "id": "ffbc2090-c51e-4032-a847-0bbcc220db49",
   "metadata": {},
   "source": [
    "\n",
    "\n",
    "**A lineáris tesztegyenlet**\n",
    "\n",
    "Érdemes megemlíteni, hogy ha az $f(x) = \\lambda \\cdot x$ egyenletet tekintjük, ahol $\\lambda \\in \\mathbb{C}$ egy konstans, akkor az EE módszer képlete\n",
    "\n",
    "$$ \\phi_h(x_0) = x_0 + hf(x_0) = (1 + z)x_0, $$\n",
    "ahol $z = \\lambda h$.\n",
    "\n",
    "Tehát ebben az esetben a $\\phi(h, \\cdot)$ függvénynek, azaz az $x \\mapsto e^z \\cdot x$ leképezésnek egy (elsőrendű) közelítése az $x \\mapsto (1+z)x$ függvény, mely pont az EE módszerhez tartozó $\\phi_h$."
   ]
  },
  {
   "cell_type": "markdown",
   "id": "da90053d-ac9c-475c-87e0-f53a07603b0a",
   "metadata": {},
   "source": [
    "---"
   ]
  },
  {
   "cell_type": "markdown",
   "id": "af11ad34",
   "metadata": {},
   "source": [
    "## Lineáris többlépéses módszerek (interpolációból)\n",
    "\n",
    "**A(z állandó lépéshosszú) lineáris többlépéses módszerek általános alakja**\n",
    "\n",
    "Tegyük fel, hogy rendelkezésünkre állnak az $y_{n-s}, \\ldots, y_{n-1}$ értékek, melyek közelítik az $x((n-s)h), \\ldots, x((n-1)h)$ értékeket. \n",
    "\n",
    "Ekkor egy $s$-lépéses ($s \\in \\mathbb{N}_{\\neq 0}$) lineáris többlépéses módszer általános alakja az $nh$ időponthoz tartozó $y_n$ numerikus közelítés kiszámításához a következő:\n",
    "\n",
    "$$ \\sum\\limits_{j=0}^{s} \\alpha_j y_{n-j} = h\\sum\\limits_{j=0}^{s} \\beta_j f_{n-j}.$$\n",
    "\n",
    "A formula így még nem egyértelmű, ezért fel szokás tenni, hogy pl. $\\alpha_{0} = 1$.\n",
    "\n",
    "Ha $\\beta_0 = 0$, akkor a módszer explicit, egyébként implicit. \n",
    "\n",
    "A módszercsaládra magyarul az LTM betűszót használhatjuk, angolul pedig az LMM-et.\n"
   ]
  },
  {
   "cell_type": "markdown",
   "id": "4b1c7595-4fa7-427d-bc8b-604e985d0b61",
   "metadata": {},
   "source": [
    "**Adams-módszerek**\n",
    "\n",
    "A differenciálegyenlet integrál-alakja\n",
    "\n",
    "$$x(t) - x(0) = \\int_{s=0}^{t}f(x(s)) \\, ds.$$\n",
    "\n",
    "A jobboldali integrált lehetséges az $x(t_j) \\approx y_j$ numerikus közelítéshez tartozó $hf(y_j)$ súlyozott meredekségek lineáris kombinációjával közelíteni. Így kaphatjuk meg például az (s-lépéses) Adams-módszereket is, melyek általános formulája tehát\n",
    "\n",
    "$$\n",
    "y_{n} = y_{n-1} + h \\sum\\limits_{j=0}^s \\beta_j f_{n-j}.\n",
    "$$\n",
    "\n",
    "Az explicit módszerek **Adams-Bashfort** névre hallgatnak, ilyenek például az\n",
    "$$\n",
    "\\begin{align*}\n",
    " y_n &= y_{n-1} + hf_{n-1}, \\\\\n",
    " y_n &= y_{n-1} + h\\left(\\frac32 f_{n-1} - \\frac12 f_{n-2} \\right), \\\\\n",
    " y_n &= y_{n-1} + h\\left(\\frac{23}{12} f_{n-1} - \\frac{16}{12} f_{n-2} + \\frac{5}{12} f_{n-3} \\right) \\\\\n",
    "\\end{align*}\n",
    "$$\n",
    "módszerek; az implicit módszerek **Adams-Moulton** néven is ismertek, ilyenek például az\n",
    "$$\n",
    "\\begin{align*}\n",
    "y_n &= y_{n-1} + hf_{n}, \\\\\n",
    "y_n &= y_{n-1} + h\\left(\\frac12 f_{n} + \\frac12 f_{n-1} \\right), \\\\\n",
    "y_n &= y_{n-1} + h\\left(\\frac{5}{12} f_{n} + \\frac{8}{12} f_{n-1} - \\frac{1}{12} f_{n-2} \\right), \\\\\n",
    "\\end{align*}\n",
    "$$\n",
    "módszerek. Pontosabb levezetésért tekintsük az alábbi feladatokat."
   ]
  },
  {
   "cell_type": "markdown",
   "id": "e3c702b0-ca2c-4117-97d9-4de6e810b26f",
   "metadata": {},
   "source": [
    "### 1. Feladat\n",
    "\n",
    "Tekintsük azt az $(s-1)$-edfokú $p$ interpolációs polinomot, melyre teljesül, hogy\n",
    "$$\n",
    "\\begin{align*}\n",
    "p(-h) &= f_{n-1}, \\\\\n",
    "p(-2h) &= f_{n-2}, \\\\\n",
    " &\\vdots \\\\\n",
    "p(-sh) &= f_{n-s}.\n",
    "\\end{align*}\n",
    "$$\n",
    "legyen $$y_{n} = y_{n-1} + \\int_{-h}^0 p.$$"
   ]
  },
  {
   "cell_type": "markdown",
   "id": "15ca85cb-0ab7-45da-9d6e-c430ddb8159a",
   "metadata": {},
   "source": [
    "a) Milyen módszert kapunk, ha $s=1$?"
   ]
  },
  {
   "cell_type": "code",
   "execution_count": null,
   "id": "8a3108d0-48f4-4e84-9352-08f74fc5164f",
   "metadata": {},
   "outputs": [],
   "source": []
  },
  {
   "cell_type": "markdown",
   "id": "26256859-5c14-4ae3-8321-e9903fbf6002",
   "metadata": {},
   "source": [
    "b) Milyen módszert kapunk, ha $s=2$?"
   ]
  },
  {
   "cell_type": "code",
   "execution_count": null,
   "id": "f173102c-1919-4cf4-9fd0-53e32962ff24",
   "metadata": {},
   "outputs": [],
   "source": []
  },
  {
   "cell_type": "markdown",
   "id": "e642206b-9a7b-4168-a0bb-084f2513bb22",
   "metadata": {},
   "source": [
    "### 2. Feladat\n",
    "\n",
    "Tekintsük azt az $(s-1)$-edfokú $p$ interpolációs polinomot, melyre teljesül, hogy\n",
    "$$\n",
    "\\begin{align*}\n",
    "p(0) &= f_{n},    \\\\\n",
    "p(-h) &= f_{n-1}, \\\\\n",
    "p(-2h) &= f_{n-2}, \\\\\n",
    " &\\vdots \\\\\n",
    "p\\left(-(s-1)h\\right) &= f_{n-(s-1)}.\n",
    "\\end{align*}\n",
    "$$\n",
    "legyen $$y_{n} = y_{n-1} + \\int_{-h}^0 p.$$"
   ]
  },
  {
   "cell_type": "markdown",
   "id": "24a3607b-3441-4d4a-a3ea-d517887c1c10",
   "metadata": {},
   "source": [
    "a) Milyen módszert kapunk, ha $s=1$?"
   ]
  },
  {
   "cell_type": "code",
   "execution_count": null,
   "id": "60f1cd54-8a51-4a5f-b315-85f106f7a691",
   "metadata": {},
   "outputs": [],
   "source": []
  },
  {
   "cell_type": "markdown",
   "id": "0fbcec3a-d818-4455-87c7-c3aed4fcd13f",
   "metadata": {},
   "source": [
    "b) Milyen módszert kapunk, ha $s=2$?"
   ]
  },
  {
   "cell_type": "code",
   "execution_count": null,
   "id": "239df28a-bb06-4aa2-9f70-62da69022ad8",
   "metadata": {},
   "outputs": [],
   "source": []
  },
  {
   "cell_type": "markdown",
   "id": "ce0d15c5-9eb9-417f-9209-cac6e3cb0682",
   "metadata": {},
   "source": [
    "**BDF-módszerek**\n",
    "\n",
    "A backward differentiation formulae angol elnevezésből származó BDF betűszót szokás a magyarban is használni. A módszerek egy kellően általános alakja a\n",
    "$$ \\sum_{j=0}^s \\alpha_j y_j = hf_{n}, $$\n",
    "mely láthatóan egy implicit módszercsaládot takar. Néhány ilyen módszer az alábbi:\n",
    "\n",
    "$$\n",
    "\\begin{align*}\n",
    " y_{n} - y_{n-1} = hf_{n}, \\\\\n",
    " \\frac32 y_n - 2 y_{n-1} + \\frac12 y_{n-2} = hf_n, \\\\\n",
    " \\frac{11}{6} y_n - 3 y_{n-1} + \\frac32 y_{n-2} - \\frac13 y_{n-3}= hf_n.\n",
    "\\end{align*}\n",
    "$$\n",
    "\n",
    "A módszercsalád szintén motiválható egy interpolációs polinomon keresztül."
   ]
  },
  {
   "cell_type": "markdown",
   "id": "691de05b-9c62-4fe1-96d6-1ece020021f3",
   "metadata": {},
   "source": [
    "### 3. Feladat\n",
    "\n",
    "Legyen $q$ egy olyan $s$-edfokú interpolációs polinom, melyre\n",
    "\n",
    "$$\n",
    "\\begin{align*}\n",
    "q'(0) &= f_{n},    \\\\\n",
    "q(-h) &= y_{n-1}, \\\\\n",
    "q(-2h) &= y_{n-2}, \\\\\n",
    " &\\vdots \\\\\n",
    "q\\left(-(s-1)h\\right) &= y_{n-(s-1)},\n",
    "\\end{align*}\n",
    "$$\n",
    "és legyen $$y_{n} = q(0).$$"
   ]
  },
  {
   "cell_type": "markdown",
   "id": "eacf989b-f0ed-47b7-a96c-a4d1ee984327",
   "metadata": {},
   "source": [
    "a) Milyen módszert kapunk, ha $s=1$?"
   ]
  },
  {
   "cell_type": "code",
   "execution_count": null,
   "id": "9d7e13db-ffa9-4463-8c70-99409f825943",
   "metadata": {},
   "outputs": [],
   "source": []
  },
  {
   "cell_type": "markdown",
   "id": "27dd15ef-1791-4545-b304-9627bd28879b",
   "metadata": {},
   "source": [
    "b) Milyen módszert kapunk, ha $s=2$?"
   ]
  },
  {
   "cell_type": "code",
   "execution_count": null,
   "id": "519dc579-3a40-4a0b-99fc-eb462967b9b4",
   "metadata": {},
   "outputs": [],
   "source": []
  },
  {
   "cell_type": "markdown",
   "id": "993fd6fc-8a13-4ac6-8bcb-dac00bef13f5",
   "metadata": {},
   "source": [
    "---"
   ]
  },
  {
   "cell_type": "markdown",
   "id": "5bc7cc60-0175-4edd-9d16-572249db9eba",
   "metadata": {},
   "source": [
    "## Runge-Kutta módszerek\n",
    "\n",
    "Az $s$-lépcsős RK módszert definiáló $b_i, c_i, a_{ij}$ együtthatók $(i,j=1\\ldots s)$ ismeretében a módszert megadó formula a következő:\n",
    "\n",
    "$$Y_i = x_0 + \\sum\\limits_{j=1}^s a_{ij} hf(Y_j),$$\n",
    "\n",
    "$$x_1 = x_0 + \\sum\\limits_{j=1}^s b_i hf(Y_i).$$"
   ]
  },
  {
   "cell_type": "markdown",
   "id": "41d862c7-0c19-4001-9e2c-1045764b8357",
   "metadata": {},
   "source": [
    "**Butcher-tabló**\n",
    "\n",
    "Az együtthatókat szokás egy ún. Butcher-tablóba gyűjteni, melynek alakja \n",
    "<table style=\"text-align: center\" cellspacing=\"0\" cellpadding=\"3\">\n",
    "<tbody>\n",
    "<tr>\n",
    "<td style=\"border-right:1px solid; border-bottom:1px solid;\">$c$</td>\n",
    "<td style=\"border-bottom:1px solid;\">$A$</td>\n",
    "</tr>\n",
    "<tr>\n",
    "<td style=\"border-right:1px solid;\"></td>\n",
    "<td>$b^T$</td></tr></tbody></table>\n",
    "\n",
    "ahol tehát $A, b, c$ az együtthatókból képzett mátrix, illetve vektorok. Kétlépcsős $(s=2)$ esetben például a tabló általános alakja a következő:\n",
    "<table style=\"text-align: center\" cellspacing=\"0\" cellpadding=\"3\">\n",
    "<tbody><tr>\n",
    "<td style=\"border-right:1px solid;\">$c_1$\n",
    "</td>\n",
    "<td>$a_{11}$</td>\n",
    "<td>$a_{12}$</td>\n",
    "</tr>\n",
    "<tr>\n",
    "<td style=\"border-right:1px solid; border-bottom:1px solid;\">$c_2$</td>\n",
    "<td style=\"border-bottom:1px solid;\">$a_{21}$</td>\n",
    "<td style=\"border-bottom:1px solid;\">$a_{22}$</td></tr>\n",
    "<tr>\n",
    "<td style=\"border-right:1px solid;\"></td>\n",
    "<td>$b_1$</td>\n",
    "<td>$b_2$\n",
    "</td></tr></tbody></table>"
   ]
  },
  {
   "cell_type": "markdown",
   "id": "98f53188-1e3e-43e8-ae62-8df5080c1a08",
   "metadata": {},
   "source": [
    "### 4. Feladat\n",
    "\n",
    "Runge-Kutta módszerek-e az alábbiak? Ha igen, mi a Butcher-tablójuk?"
   ]
  },
  {
   "cell_type": "markdown",
   "id": "455667a6-ae07-4466-a2ad-5e0eefe9ef4c",
   "metadata": {},
   "source": [
    "a) $$ x_1 = x_0 + hf(x_0) $$"
   ]
  },
  {
   "cell_type": "code",
   "execution_count": null,
   "id": "12e917e8-51f8-4609-be5b-4d0e3db4a97a",
   "metadata": {},
   "outputs": [],
   "source": []
  },
  {
   "cell_type": "markdown",
   "id": "23dd39d9-cab6-4b19-8567-719719eeed58",
   "metadata": {},
   "source": [
    "b) $$ x_1 = x_0 + hf(x_1) $$\n"
   ]
  },
  {
   "cell_type": "code",
   "execution_count": null,
   "id": "d14a3cc9-fdaa-4992-9e89-7d173b07a45f",
   "metadata": {},
   "outputs": [],
   "source": []
  },
  {
   "cell_type": "markdown",
   "id": "2df4f8d9-a3bc-45ec-9d2d-38398b716d4e",
   "metadata": {},
   "source": [
    "\n",
    "c) $$ Y_1 = x_0 + hf(x_0) $$\n",
    "\n",
    "$$ Y_2 = x_0 + hf(Y_2) $$\n",
    "\n",
    "$$ x_1 = x_0 + \\frac{h}{2}\\left(f(Y_1) + f(Y_2)\\right)$$\n"
   ]
  },
  {
   "cell_type": "code",
   "execution_count": null,
   "id": "07e39bac-9742-4e2e-9fb4-1bcdab713f0b",
   "metadata": {},
   "outputs": [],
   "source": []
  },
  {
   "cell_type": "markdown",
   "id": "6a4f98d8-3529-4ba1-9454-9a2716285f8b",
   "metadata": {},
   "source": [
    "d) $$ Y_1 = x_0 + \\frac{h}{2} f(Y_1) $$\n",
    "$$ x_1 = Y_1 + \\frac{h}{2}f(Y_1) $$"
   ]
  },
  {
   "cell_type": "code",
   "execution_count": null,
   "id": "c085ea67-19ce-40ec-babf-7b5029f95bec",
   "metadata": {},
   "outputs": [],
   "source": []
  },
  {
   "cell_type": "markdown",
   "id": "14ed393d-2b13-4203-bb5e-493f762844da",
   "metadata": {},
   "source": [
    "e)\n",
    "\n",
    "$$ x_1 = x_0 + \\frac{h}{2}\\left( f(x_0) + f(x_1) \\right) $$"
   ]
  },
  {
   "cell_type": "code",
   "execution_count": null,
   "id": "fa91828d-c207-42de-bf84-3fe8ff2a190f",
   "metadata": {},
   "outputs": [],
   "source": []
  },
  {
   "cell_type": "markdown",
   "id": "b221edd2-9f6a-437d-997b-eeebb62fd5eb",
   "metadata": {},
   "source": [
    "### 5. Feladat\n",
    "\n",
    "Írjuk fel az alábbi módszereket megadó formulákat a módszerek Butcher-tablója alapján!"
   ]
  },
  {
   "cell_type": "markdown",
   "id": "ef8f939c-ce73-4620-b620-974c848023c1",
   "metadata": {},
   "source": [
    "a)\n",
    "\n",
    "<table style=\"text-align: center\" cellspacing=\"0\" cellpadding=\"3\">\n",
    "<tbody>\n",
    "<tr>\n",
    "<td style=\"border-right:1px solid; border-bottom:1px solid;\">1</td>\n",
    "<td style=\"border-bottom:1px solid;\">1/2</td>\n",
    "</tr>\n",
    "<tr>\n",
    "<td style=\"border-right:1px solid;\"></td>\n",
    "<td>1</td></tr></tbody></table>"
   ]
  },
  {
   "cell_type": "code",
   "execution_count": null,
   "id": "04864d47-bda6-402d-b51d-9877f8fc91ca",
   "metadata": {},
   "outputs": [],
   "source": []
  },
  {
   "cell_type": "markdown",
   "id": "475464a1-b546-499b-831d-dd7eea7f9cb5",
   "metadata": {},
   "source": [
    "b)\n",
    "<!-- Forras: https://en.wikipedia.org/wiki/Runge%E2%80%93Kutta_methods -->\n",
    "<table style=\"text-align: center\" cellspacing=\"0\" cellpadding=\"3\">\n",
    "<tbody><tr>\n",
    "<td style=\"border-right:1px solid;\">0\n",
    "</td></tr>\n",
    "<tr>\n",
    "<td style=\"border-right:1px solid; border-bottom:1px solid;\">1/2</td>\n",
    "<td style=\"border-bottom:1px solid;\">1/2</td>\n",
    "<td style=\"border-bottom:1px solid;\">\n",
    "</td></tr>\n",
    "<tr>\n",
    "<td style=\"border-right:1px solid;\"></td>\n",
    "<td>0</td>\n",
    "<td>1\n",
    "</td></tr></tbody></table>"
   ]
  },
  {
   "cell_type": "code",
   "execution_count": null,
   "id": "b21f8ad2-fba9-496a-8c82-1c240159ef9a",
   "metadata": {},
   "outputs": [],
   "source": []
  },
  {
   "cell_type": "markdown",
   "id": "8f5f1f9f-d527-4a39-8957-8a69d723ed32",
   "metadata": {},
   "source": [
    "\n",
    "<!-- Forras: https://en.wikipedia.org/wiki/Runge%E2%80%93Kutta_methods -->\n",
    "\n",
    "c) \n",
    "<table style=\"text-align: center\" cellspacing=\"0\" cellpadding=\"3\">\n",
    "<tbody><tr>\n",
    "<td style=\"border-right:1px solid;\">0\n",
    "</td></tr>\n",
    "<tr>\n",
    "<td style=\"border-right:1px solid;\">1/2</td>\n",
    "<td>1/2\n",
    "</td></tr>\n",
    "<tr>\n",
    "<td style=\"border-right:1px solid;\">1/2</td>\n",
    "<td>0</td>\n",
    "<td>1/2\n",
    "</td></tr>\n",
    "<tr>\n",
    "<td style=\"border-right:1px solid; border-bottom:1px solid;\">1</td>\n",
    "<td style=\"border-bottom:1px solid;\">0\n",
    "</td>\n",
    "<td style=\"border-bottom:1px solid;\">0</td>\n",
    "<td style=\"border-bottom:1px solid;\">1\n",
    "</td>\n",
    "<td style=\"border-bottom:1px solid;\">\n",
    "</td></tr>\n",
    "<tr>\n",
    "<td style=\"border-right:1px solid;\"></td>\n",
    "<td>1/6</td>\n",
    "<td>1/3</td>\n",
    "<td>1/3</td>\n",
    "<td>1/6\n",
    "</td></tr></tbody></table>"
   ]
  },
  {
   "cell_type": "code",
   "execution_count": null,
   "id": "998fb260-b99e-4e02-89dc-e9128af74046",
   "metadata": {},
   "outputs": [],
   "source": []
  },
  {
   "cell_type": "markdown",
   "id": "b8ca3b29-08b2-4474-becc-09cee6442dd7",
   "metadata": {},
   "source": [
    "d)\n",
    "\n",
    "<!-- Forras: https://en.wikipedia.org/wiki/Runge%E2%80%93Kutta_methods -->\n",
    "<table style=\"text-align: center\" cellspacing=\"0\" cellpadding=\"3\">\n",
    "<tbody><tr>\n",
    "<td style=\"border-right:1px solid;\">0\n",
    "</td></tr>\n",
    "<tr>\n",
    "<td style=\"border-right:1px solid; border-bottom:1px solid;\">1</td>\n",
    "<td style=\"border-bottom:1px solid;\"></td>\n",
    "<td style=\"border-bottom:1px solid;\">1</td></tr>\n",
    "<tr>\n",
    "<td style=\"border-right:1px solid;\"></td>\n",
    "<td>1/2</td>\n",
    "<td>1/2</td></tr></tbody></table>"
   ]
  },
  {
   "cell_type": "code",
   "execution_count": null,
   "id": "a74e4e2b-b0c8-4e88-99d8-3380198cb52d",
   "metadata": {},
   "outputs": [],
   "source": []
  },
  {
   "cell_type": "markdown",
   "id": "baf4d16d-babb-4daf-87b4-ece5205d84cf",
   "metadata": {},
   "source": [
    "e)\n",
    "\n",
    "<table style=\"text-align: center\" cellspacing=\"0\" cellpadding=\"3\">\n",
    "<tbody><tr>\n",
    "<td style=\"border-right:1px solid;\">0\n",
    "</td></tr>\n",
    "<tr>\n",
    "<td style=\"border-right:1px solid; border-bottom:1px solid;\">1</td>\n",
    "<td style=\"border-bottom:1px solid;\">1/2</td>\n",
    "<td style=\"border-bottom:1px solid;\">1/2</td></tr>\n",
    "<tr>\n",
    "<td style=\"border-right:1px solid;\"></td>\n",
    "<td>1/2</td>\n",
    "<td>1/2</td></tr></tbody></table>"
   ]
  },
  {
   "cell_type": "code",
   "execution_count": null,
   "id": "eb185c2e-a956-4891-bd82-3bf3605a926d",
   "metadata": {},
   "outputs": [],
   "source": []
  },
  {
   "cell_type": "markdown",
   "id": "1e3f2e70-63f1-4e95-b7f9-6fa12e0d6256",
   "metadata": {},
   "source": [
    "---"
   ]
  },
  {
   "cell_type": "markdown",
   "id": "5ee4a277-adb0-477b-b864-24a0794e8391",
   "metadata": {},
   "source": [
    "## Rendfogalmak a lineáris tesztegyenleten"
   ]
  },
  {
   "cell_type": "markdown",
   "id": "3852b224-3c45-440f-a4b6-16605fdbabfc",
   "metadata": {},
   "source": [
    "Tekintsük az\n",
    "\n",
    "$$ \\dot x(t) = \\lambda \\cdot x(t) $$\n",
    "\n",
    "egyenletet, ahol $\\lambda$ legyen egy komplex szám. Ha a kezdeti feltételünk $x(0) = 1$, akkor a megoldás\n",
    "\n",
    "$$x(t) = e^{\\lambda t} = e^z = \\sum_{j=0}^{\\infty} \\frac{z^j}{j!},$$\n",
    "ahol $z = \\lambda t$."
   ]
  },
  {
   "cell_type": "markdown",
   "id": "c80786b8-7f8c-4663-b70d-aced1023abe4",
   "metadata": {},
   "source": [
    "### 6. Feladat \n",
    "\n",
    "Adott numerikus módszer (\n",
    "* EE módszer.\n",
    "* IE módszer.\n",
    "* Egy fél IE-lépés és egy fél EE-lépés egymásutánja.\n",
    "\n",
    ") és a fenti egyenlet, illetve kezdeti feltétel esetén gondoljuk meg, hogy mi lesz a módszer\n",
    "\n",
    "*a)* egy lépése (a $z$ függvényeként),\n",
    "\n",
    "*b)* lokális hibája (azaz a hiba egy lépés után),\n",
    "\n",
    "*c)* rendjére egy felső becslés,\n",
    "\n",
    "*d)* globális hibája (azaz például tegyük fel, hogy $N$ lépést teszünk a num. módszerrel $1/N$ lépéshosszal, majd tekintsük a végpontbeli hibát).\n",
    "\n",
    "\n"
   ]
  },
  {
   "cell_type": "code",
   "execution_count": null,
   "id": "7785673a-cba9-4549-b1b4-0c1ce5bb7df7",
   "metadata": {},
   "outputs": [],
   "source": []
  },
  {
   "cell_type": "markdown",
   "id": "147e5357-6ef7-4418-a291-2e10f9640d24",
   "metadata": {},
   "source": [
    "---"
   ]
  },
  {
   "cell_type": "markdown",
   "id": "76281c4d-a6c2-4e40-9185-a2ec94078c33",
   "metadata": {},
   "source": [
    "## Numerikus módszer rendje Taylor-sorfejtéssel"
   ]
  },
  {
   "cell_type": "markdown",
   "id": "18aad791-26eb-4b7e-a9e2-bc23d4b31665",
   "metadata": {},
   "source": [
    "### 7. Feladat\n",
    "\n",
    "Legyen $$\\phi_h(x_0) = x_0 + hf\\left(x_0 + \\frac12 h f(x_0)\\right).$$\n",
    " \n",
    "Runge-Kutta módszeről van szó? Ha igen, mi a Butcher-tablója? A lineáris tesztegyenleten való viselkedésén keresztül sejtsük meg a módszer rendjét, majd állapítsuk is meg azt sorfejtéssel."
   ]
  },
  {
   "cell_type": "code",
   "execution_count": null,
   "id": "7a97055e-b9f0-4e99-9f83-f940faac0104",
   "metadata": {},
   "outputs": [],
   "source": []
  },
  {
   "cell_type": "markdown",
   "id": "d6490137-9d4c-4925-bffe-e787e197f98c",
   "metadata": {},
   "source": [
    "### 8. Feladat \n",
    "\n",
    "Számoljuk ki Taylor-sorfejtéssel az adott formula által leírt módszer rendjét, ha feltesszük, hogy az legfeljebb 2.\n",
    "\n",
    "a) $$ y_n = y_{n-1} + h\\left(\\frac12 f_{n} + \\frac12 f_{n-1} \\right) $$ "
   ]
  },
  {
   "cell_type": "code",
   "execution_count": null,
   "id": "d4471d3b-93bb-4b9a-9a2f-5baf23da33b2",
   "metadata": {},
   "outputs": [],
   "source": []
  },
  {
   "cell_type": "markdown",
   "id": "efbbe49f-6f82-4c57-ae21-580232ac8691",
   "metadata": {},
   "source": [
    "b) $$ y_n = y_{n-1} + h\\left(\\frac32 f_{n-1} - \\frac12 f_{n-2} \\right) $$"
   ]
  },
  {
   "cell_type": "code",
   "execution_count": null,
   "id": "afe1e6b2-526d-4b40-b8eb-f06acf7d52f2",
   "metadata": {},
   "outputs": [],
   "source": []
  },
  {
   "cell_type": "markdown",
   "id": "ccc49a7a-a536-4736-8a82-ee5b8051e507",
   "metadata": {},
   "source": [
    "----"
   ]
  },
  {
   "cell_type": "markdown",
   "id": "563bb78c-7cbd-402e-828e-60022e393d5a",
   "metadata": {},
   "source": [
    "### P1. Feladat\n",
    "\n",
    "\n",
    "Oldjuk meg az alábbi kezdetiérték-problémát\n",
    "$$\n",
    "\\begin{cases}\n",
    "\\dot x &= x \\\\\n",
    "     x(0) &= 1\n",
    "\\end{cases}\n",
    "$$\n",
    "az EE módszerrel, $h=0.1$ lépéshosszal. \n",
    "\n",
    "Ábrázoljuk a kapott numerikus trajektóriát, valamint a pontos megoldás trajektóriáját is."
   ]
  },
  {
   "cell_type": "code",
   "execution_count": null,
   "id": "6101e992-3746-4969-baa0-6f5deb4c554c",
   "metadata": {},
   "outputs": [],
   "source": []
  },
  {
   "cell_type": "markdown",
   "id": "13d8d83e-92b3-4b8b-8c17-ce7257dedd32",
   "metadata": {},
   "source": [
    "### P2. Feladat\n",
    "\n",
    "Tekintsük az\n",
    "$$\\ddot x = - x$$\n",
    "egyenletet."
   ]
  },
  {
   "cell_type": "markdown",
   "id": "6fdad291-085f-4ed8-a7a5-b8e9b58f51ef",
   "metadata": {},
   "source": [
    "a) Vezessük vissza egy elsőrendű rendszerre."
   ]
  },
  {
   "cell_type": "code",
   "execution_count": null,
   "id": "89d34dea-50d3-45d3-9ddf-ccd37856b73c",
   "metadata": {},
   "outputs": [],
   "source": []
  },
  {
   "cell_type": "markdown",
   "id": "a046413e-67cd-4a99-9645-0247fae355a8",
   "metadata": {},
   "source": [
    "b) Ábrázoljuk a kapott vektormezőt az egységnégyzeten."
   ]
  },
  {
   "cell_type": "code",
   "execution_count": null,
   "id": "0855d823-8a79-4937-a06b-7ce7f681a51f",
   "metadata": {},
   "outputs": [],
   "source": []
  },
  {
   "cell_type": "markdown",
   "id": "637015e7-103c-4c7b-a022-58c747e1a504",
   "metadata": {},
   "source": [
    "c) Alkalmazzuk erre a rendszerre a korábbi feladatokban szereplő módszerek közül az alábbiakat:\n",
    "\n",
    " * 4/a),\n",
    " * 4/b),\n",
    " * 5/c)."
   ]
  },
  {
   "cell_type": "code",
   "execution_count": null,
   "id": "84ab7f6b-a755-4fdf-a701-bee7e708a000",
   "metadata": {},
   "outputs": [],
   "source": []
  },
  {
   "cell_type": "markdown",
   "id": "5ec1648a-809b-4a2e-8af3-eb256b30be21",
   "metadata": {},
   "source": [
    "\n",
    "d) Végezetül készítsünk egy ábrát, melyen összehasonlítjuk a három módszer által adott, $[0, 2\\pi]$ időintervallumhoz tartozó trajektóriákat (a fázistérben), például $h=0.01\\pi$ lépéshossz mellett."
   ]
  },
  {
   "cell_type": "code",
   "execution_count": null,
   "id": "3782f2a7-f19f-4abb-a734-1462e92a074e",
   "metadata": {},
   "outputs": [],
   "source": []
  }
 ],
 "metadata": {
  "kernelspec": {
   "display_name": "Python 3 (ipykernel)",
   "language": "python",
   "name": "python3"
  },
  "language_info": {
   "codemirror_mode": {
    "name": "ipython",
    "version": 3
   },
   "file_extension": ".py",
   "mimetype": "text/x-python",
   "name": "python",
   "nbconvert_exporter": "python",
   "pygments_lexer": "ipython3",
   "version": "3.12.3"
  }
 },
 "nbformat": 4,
 "nbformat_minor": 5
}
