{
 "cells": [
  {
   "cell_type": "markdown",
   "id": "0",
   "metadata": {},
   "source": [
    "# 4. Feladatsor: megoldások\n",
    "\n",
    "*(Nemlineáris egyenletek: intervallumfelezés, fixpont iteráció)*"
   ]
  },
  {
   "cell_type": "markdown",
   "id": "1",
   "metadata": {},
   "source": [
    "### P1. Feladat\n",
    "Fibonacci egyik cikkében szerepel az alábbi állítás: az\n",
    "\n",
    "$$f(x) = x^3 + 2 x^2 + 10 x - 20$$\n",
    "\n",
    "egyenlet gyöke $x = 1.368808107...$ Ellenőrizzük le az intervallumfelezéses módszerrel, hogy jól számolt-e!\n",
    "Megoldás: Legyen a toleranciánk $10^{-10}$ és indítsuk az iterációt az $[1,2]$ intervallumon!"
   ]
  },
  {
   "cell_type": "code",
   "execution_count": null,
   "id": "2",
   "metadata": {},
   "outputs": [],
   "source": [
    "import numpy as np\n",
    "\n",
    "tol = 10**(-10)\n",
    "\n",
    "a = 1\n",
    "b = 2\n",
    "\n",
    "k = 0\n",
    "\n",
    "while np.abs(b - a) > tol:\n",
    "    x = (a + b) / 2\n",
    "    f = x**3 + 2*x**2 + 10*x - 20\n",
    "    if f == 0:\n",
    "        break\n",
    "    else:\n",
    "        if f > 0:\n",
    "            b = x\n",
    "        else:\n",
    "            a = x\n",
    "    k += 1\n",
    "\n",
    "print(x)\n",
    "print(k)"
   ]
  },
  {
   "cell_type": "markdown",
   "id": "3",
   "metadata": {},
   "source": [
    "### P2. Feladat \n",
    "Oldjuk meg a $\\cos(x) = x$ egyenletet a valós számok halmazán. Keressünk alkalmas halmazon alkalmas kontrakciót, majd írjunk kódot amivel addig iteráljunk, míg két szomszédos lépés távolsága nem lesz -nél kisebb."
   ]
  },
  {
   "cell_type": "code",
   "execution_count": null,
   "id": "4",
   "metadata": {},
   "outputs": [],
   "source": [
    "def fixpont_it(x0, f, atol, max_it):\n",
    "    x = x0\n",
    "    for num_steps in range(1, max_it + 1):\n",
    "        dx = -(x - f(x))\n",
    "        x = x + dx\n",
    "        if np.abs(dx) < atol:\n",
    "            break\n",
    "    return x, num_steps\n",
    "\n",
    "x, num_steps = fixpont_it(0, np.cos, 1e-5, 100)\n",
    "\n",
    "print(\"Fixpont:\", x)\n",
    "print(\"Iterációk száma:\", num_steps)\n"
   ]
  },
  {
   "cell_type": "markdown",
   "id": "5",
   "metadata": {},
   "source": [
    "## Kiegészítés lineáris egyenletrendszerek megoldására: Konjugált gradiens módszer\n",
    "  \n",
    "Emlék előadásról: A gradiens módszer helyett, gyakran a konjugált gradiens módszert használjuk, ha lineáris egyenletendszert szeretnénk megoldani. A módszer gyorsabban konvergál és elméletben véges lépés után visszakapjuk a pontos megoldást. A módszer lépései:\n",
    "  \n",
    "  1. Adott a kezdeti megoldás $x_0$ és a kezdeti gradiens $p_0=r_0 = Ax_0 - b$, ahol $A$ a mátrix és $b$ a vektor a lineáris egyenletrendszerben.\n",
    "  2. Ha $x_n$ és $p_n$ ismert\n",
    "  $$x_{n+1}=x_n-\\alpha_n p_n, \\qquad \\alpha_n=\\dfrac{\\langle r_n,p_n\\rangle}{\\langle Ap_n,p_n\\rangle}, \\qquad r_{n+1}=Ax_{n+1}-b$$\n",
    "  \n",
    "  $$p_{n+1}=r_{n+1}-\\beta_np_n, \\qquad \\beta_n=\\dfrac{\\langle Ar_{n+1},p_n\\rangle}{\\langle Ap_n,p_n\\rangle}$$"
   ]
  },
  {
   "cell_type": "markdown",
   "id": "6",
   "metadata": {},
   "source": [
    "### P3.* Feladat \n",
    "Írjunk programot, amely megold egy egyenletrendszert a konjugált gradiens módszerrel, amelynek bemenetei $A$, $b$ és az iterácók száma, majd oldjuk meg az alábbi egyenletet. Próbáljuk ki úgy is, hogy $1,2$, illetve $3$ iterációs lépést teszünk. \n",
    "\n",
    "$$\\begin{cases}\n",
    "4x + 2y = 7,\\\\\n",
    "2x+3y=10.\n",
    "\\end{cases}$$"
   ]
  },
  {
   "cell_type": "code",
   "execution_count": null,
   "id": "7",
   "metadata": {},
   "outputs": [],
   "source": [
    "import numpy as np\n",
    "\n",
    "def conjugate_gradient(A, b, iterations=3):\n",
    "    # Kezdeti megoldás\n",
    "    x = np.zeros_like(b)\n",
    "    r = b.copy()\n",
    "    p = r.copy()\n",
    "    \n",
    "    # Iterációk száma\n",
    "    for i in range(iterations):\n",
    "        # Alfa kiszámítása\n",
    "        alfa = np.dot(r.T, r) / np.dot(p.T, np.dot(A, p))\n",
    "        \n",
    "        # Új megoldás kiszámítása\n",
    "        x = x + alfa * p\n",
    "        \n",
    "        # Új residuum kiszámítása\n",
    "        r = b - np.dot(A, x)\n",
    "        \n",
    "        # Beta kiszámítása\n",
    "        beta = np.dot(p.T,np.dot(A, r)) / np.dot(p.T, np.dot(A, p))\n",
    "        \n",
    "        # Új keresési irány kiszámítása\n",
    "        p = r - beta * p\n",
    "    \n",
    "    return x, r\n",
    "\n",
    "# Tesztelés\n",
    "A = np.array([[4, 2], [2, 3]])\n",
    "b = np.array([[7], [10]])\n",
    "\n",
    "x, r = conjugate_gradient(A, b)\n",
    "print(\"Megoldás x:\")\n",
    "print(x)\n",
    "print(\"Residuum r:\")\n",
    "print(r)"
   ]
  }
 ],
 "metadata": {
  "kernelspec": {
   "display_name": "Python 3 (ipykernel)",
   "language": "python",
   "name": "python3"
  },
  "language_info": {
   "codemirror_mode": {
    "name": "ipython",
    "version": 3
   },
   "file_extension": ".py",
   "mimetype": "text/x-python",
   "name": "python",
   "nbconvert_exporter": "python",
   "pygments_lexer": "ipython3",
   "version": "3.11.8"
  }
 },
 "nbformat": 4,
 "nbformat_minor": 5
}
