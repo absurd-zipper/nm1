{
 "cells": [
  {
   "cell_type": "markdown",
   "id": "0",
   "metadata": {},
   "source": [
    "# 4. Feladatsor\n",
    "\n",
    "*(Nemlineáris egyenletek: intervallumfelezés, fixpont iteráció)*"
   ]
  },
  {
   "cell_type": "markdown",
   "id": "1",
   "metadata": {},
   "source": [
    "**Cél:** Az $f(x)=0$ egyenlet megoldása, ahol  adott, szép tulajdonságú (pl. folytonosan deriválható) függvény, azaz keressük az  függvény gyökeit/zérushelyeit. Ekvivalensen $g(x)=b$  megoldása az $f = g-b$ függvényre alkamazott gyökkereséssel.\n",
    "\n"
   ]
  },
  {
   "cell_type": "markdown",
   "id": "2",
   "metadata": {},
   "source": [
    "## Intervallumfelezés\n",
    "Tegyük fel, hogy tudjuk, hogy egy adott $[a,b]$ intervallumon a függvényünknek van egy gyöke; például ezt onnan tudhatjuk, hogy a végpontokban különböző előjelű a függvény, pontosabban: $f(a) \\cdot f(b) < 0$. Tegyük fel, hogy ez fennáll és hogy $f(a) > 0, f(b)<0$. Ez utóbbi nem megszorítás, mert $f$ és  $-f$ gyökei ugyanott vannak.\n",
    "\n",
    "**Alapgondolat**: Vizsgáljuk meg a függvény előjelét az $\\frac{a+b}{2}$ pontban! Ha itt pozitív, az azt jelenti, hogy a keresett zérushely az $\\left[a,\\; \\frac{a+b}{2}\\right)$ intervallumban van, azaz itt érdemes folytatni a keresést. Ugyanakkor ha itt negatív, akkor a zérushely az $\\left( \\frac{a+b}{2},\\; b\\right]$ intervallumban található, és itt kell tovább keresnünk. Ezt követően az előbbi gondolatot folytatjuk az új, kisebb intervallumokon, azaz vagy az $\\frac{a+b}{4}$, vagy a $\\frac{3 (a+b)}{4}$ pontban vizsgáljuk a előjelet, és így tovább. \n",
    "Az algoritmus addig fut, amíg  értéke a vizsgált pontban nulla nem lesz (ez programok esetén a gépi hibák miatt ritkán következik be), vagy amikor a vizsgált intervallum már nagyon kicsi/rövid, de természetesen megadhatunk maximális lépésszámot is, amely után álljon le mindenképpen a program. Határértékben ez a módszer mindenképpen megtalál egy zérushelyet (ha több is van, akkor a zérushelyek közül valamelyiket)."
   ]
  },
  {
   "cell_type": "markdown",
   "id": "3",
   "metadata": {},
   "source": [
    "### 1. Feladat\n",
    "Fibonacci egyik cikkében szerepel az alábbi állítás: az\n",
    "\n",
    "$$f(x) = x^3 + 2 x^2 + 10 x - 20$$\n",
    "\n",
    "egyenlet gyöke $x = 1.368808107...$ Ellenőrizzük le az intervallumfelezéses módszerrel, hogy jól számolt-e!\n",
    "Megoldás: Legyen a toleranciánk $10^{-10}$ és indítsuk az iterációt az $[1,2]$ intervallumon!"
   ]
  },
  {
   "cell_type": "code",
   "execution_count": null,
   "id": "4",
   "metadata": {},
   "outputs": [],
   "source": [
    "import numpy as np\n",
    "\n",
    "tol = 10**(-10)\n",
    "\n",
    "a = 1\n",
    "b = 2\n",
    "\n",
    "k = 0\n",
    "\n",
    "while np.abs(b - a) > tol:\n",
    "    x = (a + b) / 2\n",
    "    f = x**3 + 2*x**2 + 10*x - 20\n",
    "    if f == 0:\n",
    "        break\n",
    "    else:\n",
    "        if f > 0:\n",
    "            b = x\n",
    "        else:\n",
    "            a = x\n",
    "    k += 1\n",
    "\n",
    "print(x)\n",
    "print(k)"
   ]
  },
  {
   "cell_type": "markdown",
   "id": "5",
   "metadata": {},
   "source": [
    "### Fixpont-iteráció\n",
    "\n",
    "**Emlék:** A Banach-féle fixponttétel következtében ha $X$ Banach-tér és $f:X\\rightarrow X$ kontrakció $0\\leq q<1$ együtthatóval, akkor van $x^*$ fixpontja, amire $f(x^*) = x^*$; továbbá az $x_{n+1} = f(x_n)$ sorozat tetszőleges $X$-beli pontból indítva $x^*$-hoz fog tartani; továbbá $e_n = x_n - x^*$ választással látható, hogy\n",
    "\n",
    "$$\\|e_{n+1}\\| = \\| x_{n+1} - x^* \\| =  \\| f(x_{n}) - f(x^*) \\| \\leq q \\|x_n - x^*\\| = q \\| e_n\\|$$\n",
    "és\n",
    "$$\\|e_n\\| = \\|  (f\\circ \\ldots \\circ f)(x_0) - (f\\circ \\ldots \\circ f)(x^*) \\| \\leq q^n\\|x_0 - x^*\\| = q^n\\|e_0\\|$$\n",
    "\n",
    "**Emlék:** Legyen $X$ végesdimenziós valós vektortér, $U \\subseteq X$ nyílt halmaz, $f: U \\to X$ folytonosan differenciálható és legyen $x, h \\in U$ olyan, hogy az $x+h\\cdot[0,1] \\subseteq U$, azaz az $x$-ből induló $x+h$ végű szakasz része $U$-nak; ekkor\n",
    "\n",
    "$$f(x+h) - f(x) = \\int_{0}^1 f'(x+th) \\cdot h\\, dt.$$\n",
    "\n",
    "Ebből kapjuk a középérték-tétel magasabbdimenziós változatát:\n",
    "\n",
    "$$\\|f(x+h) - f(x)\\| \\leq \\left(\\sup_{0\\leq t \\leq 1}\\|f'(x+th)\\| \\right) \\|h\\|.$$\n",
    "\n",
    "Ha $K \\subseteq U\\subseteq X$ és $K$ kompakt, akkor\n",
    "\n",
    "$$M = \\sup_{K}\\|f'\\|$$\n",
    "\n",
    "választással $x, y \\in K$ esetén ha az $x$ és $y$ pontok által határolt szakasz $K$-ban van (pl. ha  konvex), akkor\n",
    "\n",
    "$$\\| f(x) - f(y) \\| \\leq M \\|x -y\\|.$$\n",
    "\n",
    "Ha $f(K) \\subseteq K$ (hívjuk ezt ráképezésnek) és $M<1$, akkor $f|_K:K \\to K$ kontrakció. Mivel teljes tér zárt részhalmaza teljes, $K$ ezért teljes, tehát $f|_K$-ra is alkalmazható a Banach-féle fixponttétel. Érdemes lehet megjegyezni, hogy $K$ általában nem vektortér, azonban az eredeti tér normája által generált metrikával a halmaz teljes metrikus tér, tehát a Banach-féle fixponttétel valóban alkalmazható."
   ]
  },
  {
   "cell_type": "markdown",
   "id": "6",
   "metadata": {},
   "source": [
    "### 2. Feladat \n",
    "Oldjuk meg a $\\cos(x) = x$ egyenletet a valós számok halmazán. Keressünk alkalmas halmazon alkalmas kontrakciót, majd írjunk kódot amivel addig iteráljunk, míg két szomszédos lépés távolsága nem lesz -nél kisebb."
   ]
  },
  {
   "cell_type": "code",
   "execution_count": null,
   "id": "7",
   "metadata": {},
   "outputs": [],
   "source": [
    "def fixpont_it(x0, f, atol, max_it):\n",
    "    x = x0\n",
    "    for num_steps in range(1, max_it + 1):\n",
    "        dx = -(x - f(x))\n",
    "        x = x + dx\n",
    "        if np.abs(dx) < atol:\n",
    "            break\n",
    "    return x, num_steps\n",
    "\n",
    "x, num_steps = fixpont_it(0, np.cos, 1e-5, 100)\n",
    "\n",
    "print(\"Fixpont:\", x)\n",
    "print(\"Iterációk száma:\", num_steps)\n"
   ]
  },
  {
   "cell_type": "markdown",
   "id": "8",
   "metadata": {},
   "source": [
    "\n",
    "A lineáris esettel analóg módon bizonyos feltételek mellett fixpontiterációt készíthetünk az alábbi átalakítással:\n",
    "\n",
    "$$\n",
    "\\begin{align}\n",
    "f(x) &= b\\\\\n",
    "0 &= b - f(x) \\\\\n",
    "x &= x - f(x) + b \\\\\n",
    "\\end{align}\n",
    "$$\n",
    "\n",
    "Az iterációt ugyanolyan módon el tudjuk végezni mint a lineáris esetben, amíg $f(x)=x-(f(x)-b)$ kontrakció. Ha nem az, akkor valamely $c$ megválasztása mellett még lehet esélyünk arra, hogy az $f_c(x)=x-c(f(x)-b)$ függvény kontrakció legyen, a kérdés, hogy ezt hogy válasszuk meg. \n",
    "\n",
    "Egy lehetséges választ kaphatunk erre a kérdésre az alábbi gradiens-módszerre vonatkozó tételben, mely analóg lesz a lineáris esetnél látottakkal, melyek szerint a Richardson iteráció tulajdonképpen egy állandó lépésközű Gradiens-ereszkedésnek felelt meg."
   ]
  },
  {
   "cell_type": "markdown",
   "id": "9",
   "metadata": {},
   "source": [
    "### Gradiens-módszer\n",
    "\n",
    "A gradiens-módszert is tudjuk alkalmazni nemlineáris feladatokra. A következő tételt alkalmazhatjuk speciális $A$ leképezések esetén. A tételt általános esetben mondjuk ki, egy $A: H\\rightarrow H$ Hilbert-tér operátor esetén, az $A(u)=b$ egyenletre.\n",
    "\n",
    "**Tétel:** Legyen $H$ valós Hilbert-tér (gondolhatunk $H=\\mathbb{R}^n$-re is az Euklideszi skalárszorzattal ellátva) és $A:H\\rightarrow H$ legyen deriválható minden $u\\in H$ pontban, azaz létezik az $A'(u)\\in B(H)$ lineáris operátor. Legyen $A'(u)$ önadjungált minden $u\\in H$ esetén. Tegyük fel, hogy léteznek $0<m\\leq M$ állandók, hogy\n",
    "\n",
    "$$m\\|h\\|^2\\leq \\langle A'(u)h,h\\rangle \\leq M\\|h\\|^2 \\qquad \\forall u,h\\in H.$$\n",
    "\n",
    "Ekkor létezik olyan $\\phi: H\\rightarrow \\mathbb{R}$ funkcionál, amelyre teljesül, hogy $\\phi'=A$, és a $\\phi$ funkcionál szigorúan konvex, továbbá, mint a lineáris esetben láthattuk:\n",
    "$A(u^*)=b$ pontosan akkor áll fenn, ha $(\\phi(u^*)-\\langle b, u^*\\rangle)'=0$, azaz ha $u^*$ minimumhelye az $u \\mapsto \\phi(u)-\\langle b,u\\rangle$ leképezésnek. Ekkor tetszőleges $u_0$ esetén az\n",
    "\n",
    "$$u_{n+1}=u_n-\\tau(A(u_n)-b)$$\n",
    "\n",
    "sorozat konvergál az $u^*$-hoz, $\\tau=\\dfrac{2}{m+M}$ mellett.\n",
    "\n",
    "**Megjegyzés:** Feladattól függően nem állandó lépésköz is választható, ezt azonban most nem tárgyaljuk.\n",
    "\n",
    "Ez a tétel valamilyen értelemben analóg a lineáris esetben tanultakkal: a feltételek miatt létezik az egyenletben adott monoton $A$ függvény \"primitív függvénye\", ami konvex is, így az erre felírt minimalizási feladat az eredeti feladatunk egyértelmű megoldása lesz. \n",
    " \n",
    "\n",
    "\n"
   ]
  },
  {
   "cell_type": "markdown",
   "id": "10",
   "metadata": {},
   "source": [
    "### 3. Feladat\n",
    "Gondoljuk meg mit jelentenek a tétel feltételei $H=\\mathbb{R}^n$ esetén, illetve azt is hogy a képletben milyen dimenziójú objektumok szerepelnek. Gondoljuk meg, hogy a tétel visszaadja a lineáris esetnél látottakat."
   ]
  },
  {
   "cell_type": "code",
   "execution_count": null,
   "id": "11",
   "metadata": {},
   "outputs": [],
   "source": []
  },
  {
   "cell_type": "markdown",
   "id": "12",
   "metadata": {},
   "source": [
    "### 4. Feladat\n",
    "\n",
    "Legyen  $H=\\mathbb{R}^n$. Ellenőrizzük, hogy ha teljesülnek az előbbi tétel $A$-ra vonatkozó feltételei, akkor $F(u)=u-\\tau (A(u)-b)$ kontrakció. Mutassuk meg, hogy bármely $0<\\tau<\\dfrac{2}{M}$ választás jó."
   ]
  },
  {
   "cell_type": "code",
   "execution_count": null,
   "id": "13",
   "metadata": {},
   "outputs": [],
   "source": []
  },
  {
   "cell_type": "markdown",
   "id": "14",
   "metadata": {},
   "source": [
    "### 5. Feladat\n",
    "Legyen $A:\\mathbb{R}^n\\rightarrow \\mathbb{R}^n$ olyan függvény amelyre léteznek valamely $B,C\\in\\mathbb{R}^{n \\times n}$ invertálható mátrixok, amelyekre $B\\cdot A'(x)\\cdot C$ SZPD mátrix minden $x\\in K\\subset\\mathbb{R}^n$ esetén, egy alkalmas $K$ esetén, ahol $A(K)\\subset K$ (vagyis $A$ ráképezés $K$-n). Ennek segítségével hogyan tudjuk megoldani az $A(x)=b$ feladatot iterációval?\n",
    "\n",
    "Próbáljuk megoldani az $$\\begin{cases}\n",
    "-x(6x^2+2y^2) &= \\phantom{-}2\\\\\n",
    "\\phantom{-}y(3x^2+y^2) &= -2\n",
    "\\end{cases}$$\n",
    "\n",
    "feladatot."
   ]
  },
  {
   "cell_type": "code",
   "execution_count": null,
   "id": "15",
   "metadata": {},
   "outputs": [],
   "source": []
  },
  {
   "cell_type": "markdown",
   "id": "16",
   "metadata": {},
   "source": [
    "### 6. Feladat\n",
    "Keressük meg az $f(x) = x^3 + 2 x^2 + 10 x - 20$ egyenlet gyökét, ha valahonnan sejtjük, hogy a $K=[1,2]$  intervallumban van. Alkalmazzunk fixpont-iterációt és addig iteráljunk, míg a szomszédos iteráltak távolsága $10^{-10}$ alá nem csökken."
   ]
  },
  {
   "cell_type": "code",
   "execution_count": null,
   "id": "17",
   "metadata": {},
   "outputs": [],
   "source": []
  },
  {
   "cell_type": "markdown",
   "id": "18",
   "metadata": {},
   "source": [
    "### 7. Feladat \n",
    "Tekintsük az alábbi függvényt, ahol $c \\in \\mathbb{R}^+$:\n",
    "\n",
    "$$f(x) = \\frac{1}{x} - \\frac{x}{c}$$\n",
    "\n",
    "Keressük a függvény $x^*>0$ zérushelyét fixpont iteráció segítségével! Írjuk fel alkalmas $F(x) $ függvényt, és bizonyítsuk be, hogy valóban konvergál minden $c>0$ esetén! Hová fog tartani?"
   ]
  },
  {
   "cell_type": "code",
   "execution_count": null,
   "id": "19",
   "metadata": {},
   "outputs": [],
   "source": []
  },
  {
   "cell_type": "markdown",
   "id": "20",
   "metadata": {},
   "source": [
    "## Kiegészítés lineáris egyenletrendszerek megoldására: Konjugált gradiens módszer\n",
    "  \n",
    "Emlék előadásról: A gradiens módszer helyett, gyakran a konjugált gradiens módszert használjuk, ha lineáris egyenletendszert szeretnénk megoldani. A módszer gyorsabban konvergál és elméletben véges lépés után visszakapjuk a pontos megoldást. A módszer lépései:\n",
    "  \n",
    "  1. Adott a kezdeti megoldás $x_0$ és a kezdeti gradiens $p_0=r_0 = Ax_0 - b$, ahol $A$ a mátrix és $b$ a vektor a lineáris egyenletrendszerben.\n",
    "  2. Ha $x_n$ és $p_n$ ismert\n",
    "  $$x_{n+1}=x_n-\\alpha_n p_n, \\qquad \\alpha_n=\\dfrac{\\langle r_n,p_n\\rangle}{\\langle Ap_n,p_n\\rangle}, \\qquad r_{n+1}=Ax_{n+1}-b$$\n",
    "  \n",
    "  $$p_{n+1}=r_{n+1}-\\beta_np_n, \\qquad \\beta_n=\\dfrac{\\langle Ar_{n+1},p_n\\rangle}{\\langle Ap_n,p_n\\rangle}$$"
   ]
  },
  {
   "cell_type": "markdown",
   "id": "21",
   "metadata": {},
   "source": [
    "### 8. Feladat \n",
    "Írjunk programot, amely megold egy egyenletrendszert a konjugált gradiens módszerrel, amelynek bemenetei $A$, $b$ és az iterácók száma, majd oldjuk meg az alábbi egyenletet. Próbáljuk ki úgy is, hogy $1,2$, illetve $3$ iterációs lépést teszünk. \n",
    "\n",
    "$$\\begin{cases}\n",
    "4x + 2y = 7,\\\\\n",
    "2x+3y=10.\n",
    "\\end{cases}$$"
   ]
  },
  {
   "cell_type": "code",
   "execution_count": null,
   "id": "22",
   "metadata": {},
   "outputs": [],
   "source": [
    "import numpy as np\n",
    "\n",
    "def conjugate_gradient(A, b, iterations=3):\n",
    "    # Kezdeti megoldás\n",
    "    x = np.zeros_like(b)\n",
    "    r = b.copy()\n",
    "    p = r.copy()\n",
    "    \n",
    "    # Iterációk száma\n",
    "    for i in range(iterations):\n",
    "        # Alfa kiszámítása\n",
    "        alfa = np.dot(r.T, r) / np.dot(p.T, np.dot(A, p))\n",
    "        \n",
    "        # Új megoldás kiszámítása\n",
    "        x = x + alfa * p\n",
    "        \n",
    "        # Új residuum kiszámítása\n",
    "        r = b - np.dot(A, x)\n",
    "        \n",
    "        # Beta kiszámítása\n",
    "        beta = np.dot(p.T,np.dot(A, r)) / np.dot(p.T, np.dot(A, p))\n",
    "        \n",
    "        # Új keresési irány kiszámítása\n",
    "        p = r - beta * p\n",
    "    \n",
    "    return x, r\n",
    "\n",
    "# Tesztelés\n",
    "A = np.array([[4, 2], [2, 3]])\n",
    "b = np.array([[7], [10]])\n",
    "\n",
    "x, r = conjugate_gradient(A, b)\n",
    "print(\"Megoldás x:\")\n",
    "print(x)\n",
    "print(\"Residuum r:\")\n",
    "print(r)"
   ]
  },
  {
   "cell_type": "code",
   "execution_count": null,
   "id": "23",
   "metadata": {},
   "outputs": [],
   "source": []
  }
 ],
 "metadata": {
  "kernelspec": {
   "display_name": "Python 3 (ipykernel)",
   "language": "python",
   "name": "python3"
  },
  "language_info": {
   "codemirror_mode": {
    "name": "ipython",
    "version": 3
   },
   "file_extension": ".py",
   "mimetype": "text/x-python",
   "name": "python",
   "nbconvert_exporter": "python",
   "pygments_lexer": "ipython3",
   "version": "3.11.8"
  }
 },
 "nbformat": 4,
 "nbformat_minor": 5
}
